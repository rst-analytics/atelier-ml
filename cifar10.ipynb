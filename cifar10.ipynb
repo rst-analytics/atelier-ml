{
  "nbformat": 4,
  "nbformat_minor": 0,
  "metadata": {
    "colab": {
      "name": "cifar10.ipynb",
      "version": "0.3.2",
      "provenance": [],
      "include_colab_link": true
    },
    "kernelspec": {
      "name": "python2",
      "display_name": "Python 2"
    }
  },
  "cells": [
    {
      "cell_type": "markdown",
      "metadata": {
        "id": "view-in-github",
        "colab_type": "text"
      },
      "source": [
        "<a href=\"https://colab.research.google.com/github/rst-analytics/atelier-ml/blob/master/cifar10.ipynb\" target=\"_parent\"><img src=\"https://colab.research.google.com/assets/colab-badge.svg\" alt=\"Open In Colab\"/></a>"
      ]
    },
    {
      "metadata": {
        "id": "TsSJqTysgQVm",
        "colab_type": "code",
        "colab": {}
      },
      "cell_type": "code",
      "source": [
        ""
      ],
      "execution_count": 0,
      "outputs": []
    },
    {
      "metadata": {
        "collapsed": true,
        "id": "_QRUIdpNgPhY",
        "colab_type": "text"
      },
      "cell_type": "markdown",
      "source": [
        "### Cerema : Introduction au _machine learning_ (et au _deep learning_)\n",
        "\n",
        "\n",
        "# Le machine learning, ce n'est pas que  pour les autres ! Un exemple simple et ludique !\n",
        "\n",
        "## Non, vous n'avez pas besoin d'être diplômé de Stanford pour vous y mettre !!\n"
      ]
    },
    {
      "metadata": {
        "id": "QcSEY6slgPhd",
        "colab_type": "text"
      },
      "cell_type": "markdown",
      "source": [
        "## La preuve par l'exemple : Classification automatique d'images avec un peu de Deep Learning simplifié !\n"
      ]
    },
    {
      "metadata": {
        "id": "VPWIvtBWgPhh",
        "colab_type": "text"
      },
      "cell_type": "markdown",
      "source": [
        "### Si on peut faire ça en peu de temps, avec quelques MOOC dans les jambes, imaginez le potentiel sur nos propres données, avec un projet de quelques semaines ou de quelques mois, avec des compétences métiers et des solides compétences de traitement de la donnée."
      ]
    },
    {
      "metadata": {
        "id": "549vzjCQgPhp",
        "colab_type": "text"
      },
      "cell_type": "markdown",
      "source": [
        "Cette page web est un notebook _Jupyter_ qui permet d'exécuter du code sur un serveur distant. On lance des calculs sur le _cloud_  ! La démarche est simplifiée pour tenir en format atelier de 30 min. Pour un notebook plus complet, avec plus de propos explicatifs et plus d'exemples,  voir  https://notebooks.azure.com/jetzgetzlos-POC/libraries/POC-cat-classif/html/POC-cat.ipynb (notebook complet de l'atelier SGD de novembre 2017)\n",
        "\n",
        "** Ne vous formalisez pas sur le code ou sur les aspects trop théoriques du machine learning ** : l'idée est de maniper un peu, de voir qu'il est possible de lancer des modèles avec peu de lignes de codes, et non de devenir un expert en Machine learning. Donc pas de panique ! L'atelier sera accompagné d'explications orales et de quelques slides imagés pour comprendre le fonctionnement global."
      ]
    },
    {
      "metadata": {
        "id": "TwJjgALtgPhw",
        "colab_type": "text"
      },
      "cell_type": "markdown",
      "source": [
        "## La preuve par l'exemple : soyons fous, 50000 images, 10 classes\n",
        "\n",
        "#### Pourquoi Python ?\n",
        "\n",
        "Parce que Python offre plus de bibliothèques DeepLearning ... - désolé pour les fans de R :-)\n",
        "\n",
        "#### Les données\n",
        "\n",
        "On va utiliser ici la bibliothèque d'images CIFAR 10 (https://www.cs.toronto.edu/~kriz/cifar.html) composée de 60000 images 32x32 avec 10 classes d'images (6000 images par classe).\n",
        "\n",
        "![CIFAR](https://kaggle2.blob.core.windows.net/competitions/kaggle/3649/media/cifar-10.png)\n",
        "\n",
        "Ces données ont fait l'objet d'un concours de datascience sur Kaggle : https://www.kaggle.com/c/cifar-10\n",
        "\n",
        "\n",
        "\n",
        "#### Les bibliothèques utilisées : Keras & Tensorflow \n",
        "\n",
        "On pourrait bien sûr tout développer nous-même mais nous n'aurions pas le temps dans la session de 30 minutes et il faudrait pour celà approfondir certains aspects théoriques. Il convient plutôt d'utiliser des bibliothèques existantes. La plus connue est ** Tensorflow**, bibliothèque libre issue du laboratoire Google Brain. Nous allons aussi utiliser la bibliothèque ** Keras ** qui permet de masquer la complexité de Tensorflow en offrant une interface de plus haut niveau.\n",
        "\n",
        "\n",
        "\n",
        "#### Etape 1, charger les données\n",
        "\n"
      ]
    },
    {
      "metadata": {
        "trusted": true,
        "id": "2eZobP0ZgPh1",
        "colab_type": "code",
        "colab": {}
      },
      "cell_type": "code",
      "source": [
        "import tensorflow as tf\n",
        "import keras\n",
        "from keras.datasets import cifar10\n",
        "from matplotlib import pyplot as plt\n",
        "from scipy.misc import toimage\n",
        "import numpy as np\n",
        "\n",
        "from keras.models import Sequential\n",
        "from keras.layers import Dense, Activation\n",
        "from keras.layers import Dropout\n",
        "from keras.utils import np_utils\n",
        "from keras.utils import plot_model\n",
        "from keras.utils.vis_utils import model_to_dot\n",
        "from keras.preprocessing.image import ImageDataGenerator\n",
        "\n",
        "from keras.constraints import maxnorm\n",
        "from keras.layers.convolutional import Conv2D\n",
        "from keras.layers.convolutional import MaxPooling2D\n",
        "from keras.layers.convolutional import ZeroPadding2D\n",
        "from keras.layers import Dropout\n",
        "from keras.layers import Flatten\n",
        "\n",
        "\n",
        "from IPython.display import SVG\n",
        "from sklearn.metrics import confusion_matrix\n",
        "from PIL import Image\n"
      ],
      "execution_count": 0,
      "outputs": []
    },
    {
      "metadata": {
        "trusted": true,
        "id": "90OZnOvSgPiD",
        "colab_type": "code",
        "colab": {}
      },
      "cell_type": "code",
      "source": [
        "# On charge les données ; il y a un dataset pour l'apprentissage et un autre pour les tests\n",
        "# en toute rigueur il faudrait couper le dataset en 2 pour le dev-test et le test ...\n",
        "(X_train_origin, Y_train_origin), (X_test_origin, Y_test_origin) = cifar10.load_data()"
      ],
      "execution_count": 0,
      "outputs": []
    },
    {
      "metadata": {
        "trusted": true,
        "id": "K8aLWZn4gPiO",
        "colab_type": "code",
        "colab": {}
      },
      "cell_type": "code",
      "source": [
        "labels = ['avion', 'auto', 'oiseau','chat','cerf','chien','grenouille','cheval','navire','camion']"
      ],
      "execution_count": 0,
      "outputs": []
    },
    {
      "metadata": {
        "id": "7gN2CvC-gPiX",
        "colab_type": "text"
      },
      "cell_type": "markdown",
      "source": [
        "Chaque image est accompagnée d'un label qui indique sa nature (sa _classe_). L'objectif de la démarche est de construire un modèle qui va apprendre des données d'apprentissage (les images stockées dans la variable `X_train_origin` et les labels dans `Y_train_origin`). Ce modèle sera appliqué aux images de tests (`X_test`) pour _prédire_ leurs classes. Les prédictions seront ensuite comparées aux labels connus des images de test (`Y_test`) afin d'estimer la qualité du modèle."
      ]
    },
    {
      "metadata": {
        "trusted": true,
        "id": "9qFMJf-lgPic",
        "colab_type": "code",
        "colab": {
          "base_uri": "https://localhost:8080/",
          "height": 142
        },
        "outputId": "97ca30b5-fcea-47c0-dae0-ebf6fb19f382"
      },
      "cell_type": "code",
      "source": [
        "# On affiche la 30ième image et son label\n",
        "plt.rcParams[\"figure.figsize\"] = (1,1)\n",
        "\n",
        "index = 30\n",
        "plt.imshow(Image.fromarray(X_train_origin[index]),)\n",
        "#plt.imshow(toimage(X_train_origin[index]),)\n",
        "plt.figure(figsize=(32,32))\n",
        "plt.show()\n",
        "print(\"Label: \"+ str(Y_train_origin[index]) + \"-\" + str(labels[int(Y_train_origin[index])]))\n"
      ],
      "execution_count": 43,
      "outputs": [
        {
          "output_type": "display_data",
          "data": {
            "image/png": "[encoded data removed]",
            "text/plain": [
              "<matplotlib.figure.Figure at 0x7f920add3750>"
            ]
          },
          "metadata": {
            "tags": []
          }
        },
        {
          "output_type": "display_data",
          "data": {
            "text/plain": [
              "<matplotlib.figure.Figure at 0x7f920add3f90>"
            ]
          },
          "metadata": {
            "tags": []
          }
        },
        {
          "output_type": "stream",
          "text": [
            "Label: [0]-avion\n"
          ],
          "name": "stdout"
        }
      ]
    },
    {
      "metadata": {
        "trusted": true,
        "id": "qMnDIagZgPiw",
        "colab_type": "code",
        "colab": {
          "base_uri": "https://localhost:8080/",
          "height": 123
        },
        "outputId": "1ecaa3f6-485d-4430-990a-7e40f5d9e98b"
      },
      "cell_type": "code",
      "source": [
        "# On affiche la 32ième image et son label\n",
        "index = 32\n",
        "plt.imshow(Image.fromarray(X_train_origin[index]),)\n",
        "plt.show()\n",
        "print(\"Label: \"+ str(Y_train_origin[index]) + \"-\" + str(labels[int(Y_train_origin[index])]))\n"
      ],
      "execution_count": 44,
      "outputs": [
        {
          "output_type": "display_data",
          "data": {
            "image/png": "[encoded data removed]",
            "text/plain": [
              "<matplotlib.figure.Figure at 0x7f920af72f10>"
            ]
          },
          "metadata": {
            "tags": []
          }
        },
        {
          "output_type": "stream",
          "text": [
            "Label: [1]-auto\n"
          ],
          "name": "stdout"
        }
      ]
    },
    {
      "metadata": {
        "id": "yFILbb3qgPjH",
        "colab_type": "text"
      },
      "cell_type": "markdown",
      "source": [
        "#### Comprendre les données\n",
        "\n",
        "Quelle est la taille des variables `X_train`, `Y_train`, `X_test`, `Y_test` ?\n"
      ]
    },
    {
      "metadata": {
        "trusted": true,
        "id": "JDr6PZpRgPjK",
        "colab_type": "code",
        "colab": {
          "base_uri": "https://localhost:8080/",
          "height": 35
        },
        "outputId": "a65485be-341e-4726-cd13-92732c4f831d"
      },
      "cell_type": "code",
      "source": [
        "print(X_train_origin.shape)"
      ],
      "execution_count": 45,
      "outputs": [
        {
          "output_type": "stream",
          "text": [
            "(50000, 32, 32, 3)\n"
          ],
          "name": "stdout"
        }
      ]
    },
    {
      "metadata": {
        "trusted": true,
        "id": "_XksuZQ0gPjb",
        "colab_type": "code",
        "colab": {
          "base_uri": "https://localhost:8080/",
          "height": 35
        },
        "outputId": "6f6aaf79-2227-4568-c6a4-050c6f7f5eb9"
      },
      "cell_type": "code",
      "source": [
        "print(Y_train_origin.shape)"
      ],
      "execution_count": 46,
      "outputs": [
        {
          "output_type": "stream",
          "text": [
            "(50000, 1)\n"
          ],
          "name": "stdout"
        }
      ]
    },
    {
      "metadata": {
        "trusted": true,
        "id": "cnOrUo6hgPjl",
        "colab_type": "code",
        "colab": {
          "base_uri": "https://localhost:8080/",
          "height": 35
        },
        "outputId": "4db1866b-3f41-4454-d06c-3ea82d977d09"
      },
      "cell_type": "code",
      "source": [
        "print(X_test_origin.shape)"
      ],
      "execution_count": 47,
      "outputs": [
        {
          "output_type": "stream",
          "text": [
            "(10000, 32, 32, 3)\n"
          ],
          "name": "stdout"
        }
      ]
    },
    {
      "metadata": {
        "trusted": true,
        "id": "6ozp3UErgPjw",
        "colab_type": "code",
        "colab": {
          "base_uri": "https://localhost:8080/",
          "height": 35
        },
        "outputId": "8cef621c-8607-475a-ba4d-829c86b397df"
      },
      "cell_type": "code",
      "source": [
        "print(Y_test_origin.shape)"
      ],
      "execution_count": 48,
      "outputs": [
        {
          "output_type": "stream",
          "text": [
            "(10000, 1)\n"
          ],
          "name": "stdout"
        }
      ]
    },
    {
      "metadata": {
        "id": "5RzZ_jthgPj9",
        "colab_type": "text"
      },
      "cell_type": "markdown",
      "source": [
        "Il y a 50000 images d'apprentissage et 10000 images de test.\n",
        "\n",
        "Les labels sont des vecteurs colonnes (des vecteurs). Le label de l'image n°i est `Y_train[i]`\n",
        "\n",
        "\n",
        "Chaque image est de taille (32, 32, 3). Il s'agit d'images 32*32 avec 3 niveaux de couleur (RVB)\n",
        "![image.png](https://raw.githubusercontent.com/rst-analytics/atelier-ml/master/Capture2.JPG) (source Deeplearning.ai, Andrew NG)\n",
        "\n",
        "\n",
        "Affichons d'ailleurs l'image n°30 pour s'en convaincre "
      ]
    },
    {
      "metadata": {
        "trusted": true,
        "id": "LJJXRlm8gPkB",
        "colab_type": "code",
        "colab": {
          "base_uri": "https://localhost:8080/",
          "height": 917
        },
        "outputId": "5d64e393-c10f-44a4-f939-f818b06bff44"
      },
      "cell_type": "code",
      "source": [
        "print(X_train_origin[30])"
      ],
      "execution_count": 49,
      "outputs": [
        {
          "output_type": "stream",
          "text": [
            "[[[126 118 110]\n",
            "  [122 115 108]\n",
            "  [126 119 111]\n",
            "  ...\n",
            "  [124 118 106]\n",
            "  [120 114 102]\n",
            "  [117 111  99]]\n",
            "\n",
            " [[122 115 107]\n",
            "  [119 112 104]\n",
            "  [121 114 106]\n",
            "  ...\n",
            "  [124 118 106]\n",
            "  [122 116 104]\n",
            "  [117 111  99]]\n",
            "\n",
            " [[122 115 107]\n",
            "  [121 114 106]\n",
            "  [121 114 106]\n",
            "  ...\n",
            "  [126 120 108]\n",
            "  [123 117 105]\n",
            "  [121 115 103]]\n",
            "\n",
            " ...\n",
            "\n",
            " [[126 118 107]\n",
            "  [126 118 107]\n",
            "  [128 120 109]\n",
            "  ...\n",
            "  [133 125 114]\n",
            "  [122 114 103]\n",
            "  [114 106  95]]\n",
            "\n",
            " [[125 117 106]\n",
            "  [126 118 107]\n",
            "  [127 119 108]\n",
            "  ...\n",
            "  [128 120 109]\n",
            "  [121 113 102]\n",
            "  [114 106  95]]\n",
            "\n",
            " [[123 115 104]\n",
            "  [123 115 104]\n",
            "  [126 118 107]\n",
            "  ...\n",
            "  [128 119 109]\n",
            "  [126 118 107]\n",
            "  [121 113 102]]]\n"
          ],
          "name": "stdout"
        }
      ]
    },
    {
      "metadata": {
        "id": "zgVHHD8WgPkQ",
        "colab_type": "text"
      },
      "cell_type": "markdown",
      "source": [
        "#### Transformons nos images en vecteurs !\n",
        "\n",
        "L'idée est de transformer chaque image en un seul vecteur colonne, en concaténant les 3 matrices en une seule colonne\n",
        "![image.png](https://raw.githubusercontent.com/rst-analytics/atelier-ml/master/Capture4.JPG) (source Deeplearning.ai, Andrew NG)\n",
        "\n",
        "L'idée est de transformer notre matrice (50000, 32, 32, 3) en une matrice (50000, 32x32x3) c'est-à-dire en une matrice (50000, 3072)\n"
      ]
    },
    {
      "metadata": {
        "trusted": true,
        "id": "HcKuK2BngPkT",
        "colab_type": "code",
        "colab": {
          "base_uri": "https://localhost:8080/",
          "height": 54
        },
        "outputId": "0b467f48-cbad-4878-a40f-4d2d082b33fa"
      },
      "cell_type": "code",
      "source": [
        "m_train = X_train_origin.shape[0] #Nombre d'images d'apprentissage\n",
        "X_train = X_train_origin.reshape(m_train, -1)\n",
        "\n",
        "m_test = X_test_origin.shape[0] #Nombre d'images de test\n",
        "X_test = X_test_origin.reshape(m_test, -1)\n",
        "\n",
        "print(X_train.shape)\n",
        "print(X_test.shape)"
      ],
      "execution_count": 50,
      "outputs": [
        {
          "output_type": "stream",
          "text": [
            "(50000, 3072)\n",
            "(10000, 3072)\n"
          ],
          "name": "stdout"
        }
      ]
    },
    {
      "metadata": {
        "id": "Jhj79KGzgPlB",
        "colab_type": "text"
      },
      "cell_type": "markdown",
      "source": [
        "#### Normalisons les données\n",
        "\n",
        "Une traitement classique de _preprocessing_ des données en machine learning est de centrer et normaliser les données (on soustrait la moyenne et on divise par l'écart type). En traitement d'images, une autre technique efficace (plus simple et qui marche aussi bien) est de diviser l'ensemble des valeurs des pixels par 255 (la valeur maximale possible).\n",
        "\n",
        "https://stats.stackexchange.com/questions/211436/why-do-we-normalize-images-by-subtracting-the-datasets-image-mean-and-not-the-c\n",
        "\n",
        "\n",
        "![image.png](https://raw.githubusercontent.com/rst-analytics/atelier-ml/master/index.png) \n",
        "\n",
        "(Source : Hands-On Machine Learning with Scikit-Learn & TensorFlow, A. Guedon)"
      ]
    },
    {
      "metadata": {
        "trusted": true,
        "id": "BLI_0y3dgPlD",
        "colab_type": "code",
        "colab": {}
      },
      "cell_type": "code",
      "source": [
        "X_train = X_train/255\n",
        "X_test = X_test/255"
      ],
      "execution_count": 0,
      "outputs": []
    },
    {
      "metadata": {
        "id": "0ic9DaC0gPlS",
        "colab_type": "text"
      },
      "cell_type": "markdown",
      "source": [
        "### Transformons le vecteur de label en matrice\n",
        "\n",
        "L'idée est d'avoir 10 colonnes de labels par image (1 colonne pour chaque classe). C'est une astuce utile pour la suite. \n",
        "Ex : Si la classe de l'image n°i est la classe 7, on rempli la ligne i de la nouvelle matrice par des 0 sauf la colonne 6 qui contient 1. En effet, on commence à numéroter à 0 donc la 7ième colonne est la colonne n°6. "
      ]
    },
    {
      "metadata": {
        "trusted": true,
        "id": "NkVD1NHRgPlV",
        "colab_type": "code",
        "colab": {
          "base_uri": "https://localhost:8080/",
          "height": 35
        },
        "outputId": "281c04c3-913d-4884-ec98-f6db5a3a317e"
      },
      "cell_type": "code",
      "source": [
        "num_classes = 10\n",
        "Y_train = np_utils.to_categorical(Y_train_origin)\n",
        "Y_test = np_utils.to_categorical(Y_test_origin)\n",
        "Y_train.shape"
      ],
      "execution_count": 52,
      "outputs": [
        {
          "output_type": "execute_result",
          "data": {
            "text/plain": [
              "(50000, 10)"
            ]
          },
          "metadata": {
            "tags": []
          },
          "execution_count": 52
        }
      ]
    },
    {
      "metadata": {
        "trusted": true,
        "id": "p6gSs63_gPlh",
        "colab_type": "code",
        "colab": {
          "base_uri": "https://localhost:8080/",
          "height": 72
        },
        "outputId": "c3ff9bd1-4396-4061-ac29-7b53b67fe530"
      },
      "cell_type": "code",
      "source": [
        "print(Y_train_origin[56,]) #Label de l'image 56\n",
        "print(Y_train[56])\n",
        "print(str(labels[int(Y_train_origin[56])]))"
      ],
      "execution_count": 53,
      "outputs": [
        {
          "output_type": "stream",
          "text": [
            "[5]\n",
            "[0. 0. 0. 0. 0. 1. 0. 0. 0. 0.]\n",
            "chien\n"
          ],
          "name": "stdout"
        }
      ]
    },
    {
      "metadata": {
        "id": "qh9DIRd7gPlp",
        "colab_type": "text"
      },
      "cell_type": "markdown",
      "source": [
        "#### Reproduisons l'aléatoire\n",
        "\n",
        "L'algorithme va générer des valeurs initiales aléatoires pour les paramètres à estimer. La génération de nombres aléatoires n'est pas vraiment aléatoire sur un ordinateur ! Et il est important de pouvoir reproduire nos tests. Pour cela, on paramètre le seed qui est un chiffre qui permet d'initialiser le générateur de chiffres aléatoires ! Sur cette base, l'ordinateur générera des nombres aléatoires mais on pourra reproduire et retrouver ces chiffres par la suite (en théorie). On pourra regénérer en effet exactement les mêmes séquences de chiffres aléatoires."
      ]
    },
    {
      "metadata": {
        "trusted": true,
        "id": "QlVyGoCAgPlv",
        "colab_type": "code",
        "colab": {}
      },
      "cell_type": "code",
      "source": [
        "#Set seed\n",
        "seed = 324\n",
        "np.random.seed(seed)"
      ],
      "execution_count": 0,
      "outputs": []
    },
    {
      "metadata": {
        "id": "rvXm66wYgPl6",
        "colab_type": "text"
      },
      "cell_type": "markdown",
      "source": [
        "#### Premier réseau de neurone très simple (3 couches de 3 neurones)\n",
        "Pourquoi 3 couches de 3 neurones ? Et bein, pourquoi pas ! Il faut bien tester sur un premier modèle, non ?\n",
        "On pourrait faire 4 couches de respectivement 16, 32, 16 et 8 neurones. On peut faire ce qu'on veut !\n",
        "\n",
        "![image.png](https://raw.githubusercontent.com/rst-analytics/atelier-ml/master/nn33.jpg)"
      ]
    },
    {
      "metadata": {
        "trusted": true,
        "id": "161aN4uwgPl8",
        "colab_type": "code",
        "colab": {
          "base_uri": "https://localhost:8080/",
          "height": 458
        },
        "outputId": "c5fdfbab-cff9-43f4-8ee7-a3f7fa53835e"
      },
      "cell_type": "code",
      "source": [
        "model = Sequential()\n",
        "model.add(Dense(units=3, input_dim=3072))   #3072 = taille de l'image en entrée = 32*32*3\n",
        "model.add(Activation('relu')) # Fonction d'activation non linéaire\n",
        "model.add(Dense(units=3))\n",
        "model.add(Activation('relu'))\n",
        "model.add(Dense(units=3))\n",
        "model.add(Activation('relu'))\n",
        "model.add(Dense(units=num_classes)) #En sortie, 10 outputs, une sortie par classe possible \n",
        "model.add(Activation('softmax'))   \n",
        "\n",
        "#La fonction softmax revoie la probabilité que l'image en entrée soit de la classe i\n",
        "#(i allant de 0 à 9)\n",
        "\n",
        "model.compile(optimizer='adam', loss=keras.losses.categorical_crossentropy,metrics=['accuracy'])\n",
        "#Adam = Algorithme très efficace d'optimisation ! Pour plus de détails : https://arxiv.org/pdf/1412.6980   ;-)\n",
        "# On utilise la fonction de coût entropie croisée\n",
        "\n",
        "print(model.summary())\n",
        "\n",
        "#SVG(model_to_dot(model,show_shapes=True).create(prog='dot', format='svg'))"
      ],
      "execution_count": 57,
      "outputs": [
        {
          "output_type": "stream",
          "text": [
            "_________________________________________________________________\n",
            "Layer (type)                 Output Shape              Param #   \n",
            "=================================================================\n",
            "dense_27 (Dense)             (None, 3)                 9219      \n",
            "_________________________________________________________________\n",
            "activation_53 (Activation)   (None, 3)                 0         \n",
            "_________________________________________________________________\n",
            "dense_28 (Dense)             (None, 3)                 12        \n",
            "_________________________________________________________________\n",
            "activation_54 (Activation)   (None, 3)                 0         \n",
            "_________________________________________________________________\n",
            "dense_29 (Dense)             (None, 3)                 12        \n",
            "_________________________________________________________________\n",
            "activation_55 (Activation)   (None, 3)                 0         \n",
            "_________________________________________________________________\n",
            "dense_30 (Dense)             (None, 10)                40        \n",
            "_________________________________________________________________\n",
            "activation_56 (Activation)   (None, 10)                0         \n",
            "=================================================================\n",
            "Total params: 9,283\n",
            "Trainable params: 9,283\n",
            "Non-trainable params: 0\n",
            "_________________________________________________________________\n",
            "None\n"
          ],
          "name": "stdout"
        }
      ]
    },
    {
      "metadata": {
        "id": "R71JnT1jgPmX",
        "colab_type": "text"
      },
      "cell_type": "markdown",
      "source": [
        "Notez qu'il y a 9283 paramètres à résoudre pour le réseau de neurones.\n",
        "\n",
        "\n",
        "Lançons la phase d'apprentissage. Il s'agit d'un processus itératif : on lance 10 itérations. On pourrait lancer l'algorithme et l'arrêter lorsqu'il ne s'améliore plus. On choisit ici arbitrairement 10 époques.\n",
        "On calcule progressivement l'ensemble des éléments, à chaque époque, en prenant les données d'apprentissage par paquet (batch) de 32 photos."
      ]
    },
    {
      "metadata": {
        "trusted": true,
        "id": "9WvW8b9GgPmZ",
        "colab_type": "code",
        "colab": {
          "base_uri": "https://localhost:8080/",
          "height": 384
        },
        "outputId": "f21e3ee6-35e7-4b35-b82c-e42ecbe90f36"
      },
      "cell_type": "code",
      "source": [
        "training = model.fit(X_train, Y_train, epochs=10, batch_size=32)"
      ],
      "execution_count": 62,
      "outputs": [
        {
          "output_type": "stream",
          "text": [
            "Epoch 1/10\n",
            "50000/50000 [==============================] - 5s 107us/step - loss: 2.2790 - acc: 0.1337\n",
            "Epoch 2/10\n",
            "50000/50000 [==============================] - 4s 86us/step - loss: 2.2478 - acc: 0.1437\n",
            "Epoch 3/10\n",
            "50000/50000 [==============================] - 4s 86us/step - loss: 2.2339 - acc: 0.1526\n",
            "Epoch 4/10\n",
            "50000/50000 [==============================] - 4s 87us/step - loss: 2.2257 - acc: 0.1541\n",
            "Epoch 5/10\n",
            "50000/50000 [==============================] - 4s 87us/step - loss: 2.2197 - acc: 0.1569\n",
            "Epoch 6/10\n",
            "50000/50000 [==============================] - 4s 87us/step - loss: 2.2146 - acc: 0.1609\n",
            "Epoch 7/10\n",
            "50000/50000 [==============================] - 4s 86us/step - loss: 2.2087 - acc: 0.1610\n",
            "Epoch 8/10\n",
            "50000/50000 [==============================] - 4s 87us/step - loss: 2.2033 - acc: 0.1646\n",
            "Epoch 9/10\n",
            "50000/50000 [==============================] - 4s 86us/step - loss: 2.1995 - acc: 0.1657\n",
            "Epoch 10/10\n",
            "50000/50000 [==============================] - 4s 86us/step - loss: 2.1947 - acc: 0.1695\n"
          ],
          "name": "stdout"
        }
      ]
    },
    {
      "metadata": {
        "id": "mY4gLm6dhjZt",
        "colab_type": "code",
        "colab": {}
      },
      "cell_type": "code",
      "source": [
        ""
      ],
      "execution_count": 0,
      "outputs": []
    },
    {
      "metadata": {
        "id": "CuhWIouEgPmr",
        "colab_type": "text"
      },
      "cell_type": "markdown",
      "source": [
        "17% de réussite, pas terrible (mais c'est mieux que le hasard). Ca veut dire ici, que le modèle a permis de classifier correctement 17% des données d'apprentissage (donc les données avec lesquelles il a appris). \n",
        "\n",
        "\n",
        "Regardons ce que donne le modèle sur les données de test, c'est-à-dire les données que le modèle n'a jamais vues :"
      ]
    },
    {
      "metadata": {
        "trusted": true,
        "id": "GSmNpsFZgPm3",
        "colab_type": "code",
        "colab": {
          "base_uri": "https://localhost:8080/",
          "height": 35
        },
        "outputId": "0e40893e-afc9-46a3-b35a-c5e38044e3b7"
      },
      "cell_type": "code",
      "source": [
        "scores = model.evaluate(X_test, Y_test, verbose=0)\n",
        "print(scores[1]*100)"
      ],
      "execution_count": 63,
      "outputs": [
        {
          "output_type": "stream",
          "text": [
            "14.6\n"
          ],
          "name": "stdout"
        }
      ]
    },
    {
      "metadata": {
        "id": "K2CUv6t4gPnd",
        "colab_type": "text"
      },
      "cell_type": "markdown",
      "source": [
        "Pareil; 15-20%; pas terrible !!"
      ]
    },
    {
      "metadata": {
        "id": "i0MU8zXTgPnm",
        "colab_type": "text"
      },
      "cell_type": "markdown",
      "source": [
        "####  Essayons sur un gros réseau de neurones (On fait du deep learning, après tout !!)\n",
        "\n",
        "Le deep learning, c'est la technique consistant à utiliser des gros réseaux de neurones. On va donc en utiliser un gros ; par exemple celui-ci."
      ]
    },
    {
      "metadata": {
        "trusted": true,
        "id": "1ORORsWagPoU",
        "colab_type": "code",
        "colab": {
          "base_uri": "https://localhost:8080/",
          "height": 678
        },
        "outputId": "5b0c9b33-e55c-4965-bfab-45d777b3cdcb"
      },
      "cell_type": "code",
      "source": [
        "# Create the model\n",
        "model = Sequential()\n",
        "model.add(Dense(units=128, input_dim=3072))\n",
        "model.add(Activation('relu'))\n",
        "model.add(Dense(units=128))\n",
        "model.add(Activation('relu'))\n",
        "model.add(Dense(units=64))\n",
        "model.add(Activation('relu'))\n",
        "model.add(Dense(units=32))\n",
        "model.add(Activation('relu'))\n",
        "model.add(Dense(units=32))\n",
        "model.add(Activation('relu'))\n",
        "model.add(Dense(units=16))\n",
        "model.add(Activation('relu'))\n",
        "model.add(Dense(units=num_classes))\n",
        "model.add(Activation('softmax'))\n",
        "\n",
        "model.compile(optimizer='adam', loss=keras.losses.categorical_crossentropy,metrics=['accuracy'])\n",
        "print(model.summary())\n",
        "\n",
        "#SVG(model_to_dot(model,show_shapes=True).create(prog='dot', format='svg'))\n",
        "\n",
        "\n",
        "\n",
        "\n"
      ],
      "execution_count": 64,
      "outputs": [
        {
          "output_type": "stream",
          "text": [
            "_________________________________________________________________\n",
            "Layer (type)                 Output Shape              Param #   \n",
            "=================================================================\n",
            "dense_31 (Dense)             (None, 128)               393344    \n",
            "_________________________________________________________________\n",
            "activation_57 (Activation)   (None, 128)               0         \n",
            "_________________________________________________________________\n",
            "dense_32 (Dense)             (None, 128)               16512     \n",
            "_________________________________________________________________\n",
            "activation_58 (Activation)   (None, 128)               0         \n",
            "_________________________________________________________________\n",
            "dense_33 (Dense)             (None, 64)                8256      \n",
            "_________________________________________________________________\n",
            "activation_59 (Activation)   (None, 64)                0         \n",
            "_________________________________________________________________\n",
            "dense_34 (Dense)             (None, 32)                2080      \n",
            "_________________________________________________________________\n",
            "activation_60 (Activation)   (None, 32)                0         \n",
            "_________________________________________________________________\n",
            "dense_35 (Dense)             (None, 32)                1056      \n",
            "_________________________________________________________________\n",
            "activation_61 (Activation)   (None, 32)                0         \n",
            "_________________________________________________________________\n",
            "dense_36 (Dense)             (None, 16)                528       \n",
            "_________________________________________________________________\n",
            "activation_62 (Activation)   (None, 16)                0         \n",
            "_________________________________________________________________\n",
            "dense_37 (Dense)             (None, 10)                170       \n",
            "_________________________________________________________________\n",
            "activation_63 (Activation)   (None, 10)                0         \n",
            "=================================================================\n",
            "Total params: 421,946\n",
            "Trainable params: 421,946\n",
            "Non-trainable params: 0\n",
            "_________________________________________________________________\n",
            "None\n"
          ],
          "name": "stdout"
        }
      ]
    },
    {
      "metadata": {
        "id": "IprfszLogPok",
        "colab_type": "text"
      },
      "cell_type": "markdown",
      "source": [
        "On a un peu plus de paramètres à établir (422K) ... Essayons."
      ]
    },
    {
      "metadata": {
        "trusted": true,
        "id": "952bRDmAgPol",
        "colab_type": "code",
        "colab": {
          "base_uri": "https://localhost:8080/",
          "height": 311
        },
        "outputId": "022fff50-cd37-4dd6-cdbc-55c1716e4dda"
      },
      "cell_type": "code",
      "source": [
        "model.fit(X_train, Y_train, epochs=10, batch_size=32)"
      ],
      "execution_count": 0,
      "outputs": [
        {
          "output_type": "stream",
          "text": [
            "Epoch 1/10\n",
            "50000/50000 [==============================] - 18s 362us/step - loss: 2.2605 - acc: 0.1404\n",
            "Epoch 2/10\n",
            "50000/50000 [==============================] - 17s 338us/step - loss: 2.2225 - acc: 0.1571\n",
            "Epoch 3/10\n",
            "50000/50000 [==============================] - 17s 331us/step - loss: 2.1834 - acc: 0.1754\n",
            "Epoch 4/10\n",
            "50000/50000 [==============================] - 17s 332us/step - loss: 2.1210 - acc: 0.2005\n",
            "Epoch 5/10\n",
            "50000/50000 [==============================] - 17s 336us/step - loss: 2.0474 - acc: 0.2262\n",
            "Epoch 6/10\n",
            "50000/50000 [==============================] - 17s 339us/step - loss: 1.9766 - acc: 0.2530\n",
            "Epoch 7/10\n",
            "50000/50000 [==============================] - 18s 352us/step - loss: 1.9121 - acc: 0.2769\n",
            "Epoch 8/10\n",
            "37728/50000 [=====================>........] - ETA: 4s - loss: 1.8622 - acc: 0.2969"
          ],
          "name": "stdout"
        }
      ]
    },
    {
      "metadata": {
        "trusted": true,
        "id": "uCz1lnAngPoy",
        "colab_type": "code",
        "colab": {
          "base_uri": "https://localhost:8080/",
          "height": 35
        },
        "outputId": "77822883-4916-40a6-fe19-1233bd8235ba"
      },
      "cell_type": "code",
      "source": [
        "scores = model.evaluate(X_test, Y_test, verbose=1)\n"
      ],
      "execution_count": 31,
      "outputs": [
        {
          "output_type": "stream",
          "text": [
            "10000/10000 [==============================] - 1s 110us/step\n"
          ],
          "name": "stdout"
        }
      ]
    },
    {
      "metadata": {
        "trusted": true,
        "id": "m6It4b4YgPo6",
        "colab_type": "code",
        "colab": {
          "base_uri": "https://localhost:8080/",
          "height": 35
        },
        "outputId": "6fcf22a7-f0f6-44d1-cd3a-9ff4aaf6118c"
      },
      "cell_type": "code",
      "source": [
        "print(scores[1])\n"
      ],
      "execution_count": 32,
      "outputs": [
        {
          "output_type": "stream",
          "text": [
            "0.1494\n"
          ],
          "name": "stdout"
        }
      ]
    },
    {
      "metadata": {
        "id": "z-uNKMVhgPo_",
        "colab_type": "text"
      },
      "cell_type": "markdown",
      "source": [
        "*~ 50 %* de bonnes classifications !! en utilisant un réseau de neurones simple (mais très profond, merci la puissance de calcul de MS Azure !!) et sans trop d'effort de paramétrage !\n",
        "\n",
        "La différence entre la classification sur les données d'apprentissage  et celle de test montre un sur-apprentissage à ce stade."
      ]
    },
    {
      "metadata": {
        "id": "gWlTW06cgPpB",
        "colab_type": "text"
      },
      "cell_type": "markdown",
      "source": [
        "#### Essayons d'analyser les mauvaises classifications !!"
      ]
    },
    {
      "metadata": {
        "trusted": true,
        "id": "f4zUXYw1gPpC",
        "colab_type": "code",
        "colab": {
          "base_uri": "https://localhost:8080/",
          "height": 3246
        },
        "outputId": "615624a6-1aa5-4fa1-8f1e-216f165a1a2c"
      },
      "cell_type": "code",
      "source": [
        "y_pred_proba = model.predict(X_test)\n",
        "y_pred_bin=np.argmax(y_pred_proba,axis=-1)\n",
        "y_pred = np_utils.to_categorical(y_pred_bin)\n",
        "\n",
        "for i in range(0, 20):\n",
        "    print(y_pred_proba[i])\n",
        "    print(\"prediction : \" + str(labels[int(y_pred_bin[i])]))\n",
        "    print(\"label vrai : \" + str(labels[int(Y_test_origin[i])]))\n",
        "    plt.imshow(Image.fromarray(X_test_origin[i]),)\n",
        "    #plt.imshow(toimage(X_test_origin[i]),)\n",
        "    plt.show()\n",
        "    \n"
      ],
      "execution_count": 33,
      "outputs": [
        {
          "output_type": "stream",
          "text": [
            "[0.23196962 0.0112235  0.23146658 0.0314879  0.29449892 0.043961\n",
            " 0.05005596 0.02651875 0.070007   0.00881081]\n",
            "prediction : cerf\n",
            "label vrai : chat\n"
          ],
          "name": "stdout"
        },
        {
          "output_type": "display_data",
          "data": {
            "image/png": "[encoded data removed]",
            "text/plain": [
              "<matplotlib.figure.Figure at 0x7f920c6ab890>"
            ]
          },
          "metadata": {
            "tags": []
          }
        },
        {
          "output_type": "stream",
          "text": [
            "[0.09546867 0.07955265 0.11406814 0.10253749 0.12257384 0.10084674\n",
            " 0.12733945 0.09055387 0.1011621  0.065897  ]\n",
            "prediction : grenouille\n",
            "label vrai : navire\n"
          ],
          "name": "stdout"
        },
        {
          "output_type": "display_data",
          "data": {
            "image/png": "[encoded data removed]",
            "text/plain": [
              "<matplotlib.figure.Figure at 0x7f920b4b5490>"
            ]
          },
          "metadata": {
            "tags": []
          }
        },
        {
          "output_type": "stream",
          "text": [
            "[0.09546867 0.07955265 0.11406814 0.10253749 0.12257384 0.10084674\n",
            " 0.12733945 0.09055387 0.1011621  0.065897  ]\n",
            "prediction : grenouille\n",
            "label vrai : navire\n"
          ],
          "name": "stdout"
        },
        {
          "output_type": "display_data",
          "data": {
            "image/png": "[encoded data removed]",
            "text/plain": [
              "<matplotlib.figure.Figure at 0x7f920b47c710>"
            ]
          },
          "metadata": {
            "tags": []
          }
        },
        {
          "output_type": "stream",
          "text": [
            "[0.09546867 0.07955265 0.11406814 0.10253749 0.12257384 0.10084674\n",
            " 0.12733945 0.09055387 0.1011621  0.065897  ]\n",
            "prediction : grenouille\n",
            "label vrai : avion\n"
          ],
          "name": "stdout"
        },
        {
          "output_type": "display_data",
          "data": {
            "image/png": "[encoded data removed]",
            "text/plain": [
              "<matplotlib.figure.Figure at 0x7f920b3d20d0>"
            ]
          },
          "metadata": {
            "tags": []
          }
        },
        {
          "output_type": "stream",
          "text": [
            "[0.09546867 0.07955265 0.11406814 0.10253749 0.12257384 0.10084674\n",
            " 0.12733945 0.09055387 0.1011621  0.065897  ]\n",
            "prediction : grenouille\n",
            "label vrai : grenouille\n"
          ],
          "name": "stdout"
        },
        {
          "output_type": "display_data",
          "data": {
            "image/png": "[encoded data removed]",
            "text/plain": [
              "<matplotlib.figure.Figure at 0x7f920b39b5d0>"
            ]
          },
          "metadata": {
            "tags": []
          }
        },
        {
          "output_type": "stream",
          "text": [
            "[0.09546867 0.07955265 0.11406814 0.10253749 0.12257384 0.10084674\n",
            " 0.12733945 0.09055387 0.1011621  0.065897  ]\n",
            "prediction : grenouille\n",
            "label vrai : grenouille\n"
          ],
          "name": "stdout"
        },
        {
          "output_type": "display_data",
          "data": {
            "image/png": "[encoded data removed]",
            "text/plain": [
              "<matplotlib.figure.Figure at 0x7f920b374410>"
            ]
          },
          "metadata": {
            "tags": []
          }
        },
        {
          "output_type": "stream",
          "text": [
            "[0.11405636 0.06446788 0.1329696  0.09239244 0.14621447 0.0953156\n",
            " 0.1186698  0.081068   0.10183392 0.05301195]\n",
            "prediction : cerf\n",
            "label vrai : auto\n"
          ],
          "name": "stdout"
        },
        {
          "output_type": "display_data",
          "data": {
            "image/png": "[encoded data removed]",
            "text/plain": [
              "<matplotlib.figure.Figure at 0x7f920b2d3290>"
            ]
          },
          "metadata": {
            "tags": []
          }
        },
        {
          "output_type": "stream",
          "text": [
            "[0.0746212  0.01092143 0.39825472 0.08039903 0.24241327 0.05865\n",
            " 0.02073446 0.02441743 0.08498932 0.00459917]\n",
            "prediction : oiseau\n",
            "label vrai : grenouille\n"
          ],
          "name": "stdout"
        },
        {
          "output_type": "display_data",
          "data": {
            "image/png": "[encoded data removed]",
            "text/plain": [
              "<matplotlib.figure.Figure at 0x7f920b2a6750>"
            ]
          },
          "metadata": {
            "tags": []
          }
        },
        {
          "output_type": "stream",
          "text": [
            "[0.09546867 0.07955265 0.11406814 0.10253749 0.12257384 0.10084674\n",
            " 0.12733945 0.09055387 0.1011621  0.065897  ]\n",
            "prediction : grenouille\n",
            "label vrai : chat\n"
          ],
          "name": "stdout"
        },
        {
          "output_type": "display_data",
          "data": {
            "image/png": "[encoded data removed]",
            "text/plain": [
              "<matplotlib.figure.Figure at 0x7f920b279cd0>"
            ]
          },
          "metadata": {
            "tags": []
          }
        },
        {
          "output_type": "stream",
          "text": [
            "[0.09546867 0.07955265 0.11406814 0.10253749 0.12257384 0.10084674\n",
            " 0.12733945 0.09055387 0.1011621  0.065897  ]\n",
            "prediction : grenouille\n",
            "label vrai : auto\n"
          ],
          "name": "stdout"
        },
        {
          "output_type": "display_data",
          "data": {
            "image/png": "[encoded data removed]",
            "text/plain": [
              "<matplotlib.figure.Figure at 0x7f920b1d8610>"
            ]
          },
          "metadata": {
            "tags": []
          }
        },
        {
          "output_type": "stream",
          "text": [
            "[0.09546867 0.07955265 0.11406814 0.10253749 0.12257384 0.10084674\n",
            " 0.12733945 0.09055387 0.1011621  0.065897  ]\n",
            "prediction : grenouille\n",
            "label vrai : avion\n"
          ],
          "name": "stdout"
        },
        {
          "output_type": "display_data",
          "data": {
            "image/png": "[encoded data removed]",
            "text/plain": [
              "<matplotlib.figure.Figure at 0x7f920b1b7450>"
            ]
          },
          "metadata": {
            "tags": []
          }
        },
        {
          "output_type": "stream",
          "text": [
            "[0.01179133 0.02281767 0.04923099 0.02645602 0.03079373 0.03557983\n",
            " 0.00153972 0.7223025  0.0295173  0.06997101]\n",
            "prediction : cheval\n",
            "label vrai : camion\n"
          ],
          "name": "stdout"
        },
        {
          "output_type": "display_data",
          "data": {
            "image/png": "[encoded data removed]",
            "text/plain": [
              "<matplotlib.figure.Figure at 0x7f920b1142d0>"
            ]
          },
          "metadata": {
            "tags": []
          }
        },
        {
          "output_type": "stream",
          "text": [
            "[0.09546867 0.07955265 0.11406814 0.10253749 0.12257384 0.10084674\n",
            " 0.12733945 0.09055387 0.1011621  0.065897  ]\n",
            "prediction : grenouille\n",
            "label vrai : chien\n"
          ],
          "name": "stdout"
        },
        {
          "output_type": "display_data",
          "data": {
            "image/png": "[encoded data removed]",
            "text/plain": [
              "<matplotlib.figure.Figure at 0x7f920b0e8790>"
            ]
          },
          "metadata": {
            "tags": []
          }
        },
        {
          "output_type": "stream",
          "text": [
            "[0.03015793 0.11608965 0.04770321 0.19140053 0.00280061 0.4214236\n",
            " 0.00046845 0.00825873 0.17137848 0.01031888]\n",
            "prediction : chien\n",
            "label vrai : cheval\n"
          ],
          "name": "stdout"
        },
        {
          "output_type": "display_data",
          "data": {
            "image/png": "[encoded data removed]",
            "text/plain": [
              "<matplotlib.figure.Figure at 0x7f920b0c8150>"
            ]
          },
          "metadata": {
            "tags": []
          }
        },
        {
          "output_type": "stream",
          "text": [
            "[1.4014000e-01 2.1663271e-03 7.7849892e-03 1.5548989e-04 2.6828315e-02\n",
            " 1.2416512e-03 6.9098669e-06 7.0519108e-01 9.2402808e-02 2.4082413e-02]\n",
            "prediction : cheval\n",
            "label vrai : camion\n"
          ],
          "name": "stdout"
        },
        {
          "output_type": "display_data",
          "data": {
            "image/png": "[encoded data removed]",
            "text/plain": [
              "<matplotlib.figure.Figure at 0x7f920b01b650>"
            ]
          },
          "metadata": {
            "tags": []
          }
        },
        {
          "output_type": "stream",
          "text": [
            "[0.09546867 0.07955265 0.11406814 0.10253749 0.12257384 0.10084674\n",
            " 0.12733945 0.09055387 0.1011621  0.065897  ]\n",
            "prediction : grenouille\n",
            "label vrai : navire\n"
          ],
          "name": "stdout"
        },
        {
          "output_type": "display_data",
          "data": {
            "image/png": "[encoded data removed]",
            "text/plain": [
              "<matplotlib.figure.Figure at 0x7f920aff9490>"
            ]
          },
          "metadata": {
            "tags": []
          }
        },
        {
          "output_type": "stream",
          "text": [
            "[2.4774523e-02 3.3060459e-03 4.5294906e-03 2.0071324e-04 5.3494084e-03\n",
            " 9.5019187e-04 4.6951095e-06 8.2440615e-01 5.7980493e-02 7.8498229e-02]\n",
            "prediction : cheval\n",
            "label vrai : chien\n"
          ],
          "name": "stdout"
        },
        {
          "output_type": "display_data",
          "data": {
            "image/png": "[encoded data removed]",
            "text/plain": [
              "<matplotlib.figure.Figure at 0x7f920af56310>"
            ]
          },
          "metadata": {
            "tags": []
          }
        },
        {
          "output_type": "stream",
          "text": [
            "[0.09546867 0.07955265 0.11406814 0.10253749 0.12257384 0.10084674\n",
            " 0.12733945 0.09055387 0.1011621  0.065897  ]\n",
            "prediction : grenouille\n",
            "label vrai : cheval\n"
          ],
          "name": "stdout"
        },
        {
          "output_type": "display_data",
          "data": {
            "image/png": "[encoded data removed]",
            "text/plain": [
              "<matplotlib.figure.Figure at 0x7f920af2b7d0>"
            ]
          },
          "metadata": {
            "tags": []
          }
        },
        {
          "output_type": "stream",
          "text": [
            "[5.4856811e-02 1.8417738e-02 1.1391269e-02 2.2364689e-02 3.8664693e-05\n",
            " 7.9074663e-01 8.6230432e-07 9.3516690e-05 1.0165036e-01 4.3941761e-04]\n",
            "prediction : chien\n",
            "label vrai : navire\n"
          ],
          "name": "stdout"
        },
        {
          "output_type": "display_data",
          "data": {
            "image/png": "[encoded data removed]",
            "text/plain": [
              "<matplotlib.figure.Figure at 0x7f920af07190>"
            ]
          },
          "metadata": {
            "tags": []
          }
        },
        {
          "output_type": "stream",
          "text": [
            "[0.09546867 0.07955265 0.11406814 0.10253749 0.12257384 0.10084674\n",
            " 0.12733945 0.09055387 0.1011621  0.065897  ]\n",
            "prediction : grenouille\n",
            "label vrai : grenouille\n"
          ],
          "name": "stdout"
        },
        {
          "output_type": "display_data",
          "data": {
            "image/png": "[encoded data removed]",
            "text/plain": [
              "<matplotlib.figure.Figure at 0x7f920ae5d690>"
            ]
          },
          "metadata": {
            "tags": []
          }
        }
      ]
    },
    {
      "metadata": {
        "scrolled": true,
        "trusted": true,
        "id": "yIaCh9y6gPpJ",
        "colab_type": "code",
        "colab": {
          "base_uri": "https://localhost:8080/",
          "height": 201
        },
        "outputId": "6e80950f-606c-4ca9-e25c-895b800fc680"
      },
      "cell_type": "code",
      "source": [
        "#matrice de confusion\n",
        "conf = confusion_matrix(Y_test_origin,y_pred_bin)/1000*100\n",
        "print(conf)"
      ],
      "execution_count": 36,
      "outputs": [
        {
          "output_type": "stream",
          "text": [
            "[[0 0 0 0 0 0 0 0 0 0]\n",
            " [0 0 0 0 0 0 0 0 0 0]\n",
            " [0 0 0 0 0 0 0 0 0 0]\n",
            " [0 0 0 0 0 0 0 0 0 0]\n",
            " [0 0 0 0 0 0 0 0 0 0]\n",
            " [0 0 0 0 0 0 0 0 0 0]\n",
            " [0 0 0 0 0 0 0 0 0 0]\n",
            " [0 0 0 0 0 0 0 0 0 0]\n",
            " [0 0 0 0 0 0 0 0 0 0]\n",
            " [0 0 0 0 0 0 0 0 0 0]]\n"
          ],
          "name": "stdout"
        }
      ]
    },
    {
      "metadata": {
        "trusted": true,
        "id": "77bq6eAcgPpP",
        "colab_type": "code",
        "colab": {
          "base_uri": "https://localhost:8080/",
          "height": 602
        },
        "outputId": "060fd7b7-a281-4d68-ace5-bc78eaedcb63"
      },
      "cell_type": "code",
      "source": [
        "fig = plt.figure()\n",
        "fig, ax = plt.subplots(figsize=(10,10))\n",
        "cax = ax.matshow(conf)\n",
        "fig.colorbar(cax)\n",
        "\n",
        "ax.set_xlabel('Predicton')\n",
        "ax.set_ylabel('Vrai')\n",
        "\n",
        "yticks = [0,1,2,3,4,5,6,7,8,9]\n",
        "xticks = [0,1,2,3,4,5,6,7,8,9]\n",
        "ax.set_yticks(yticks)\n",
        "ax.set_xticks(yticks)\n",
        "ax.set_xticklabels(labels)\n",
        "ax.set_yticklabels(labels)\n",
        "\n",
        "plt.show()"
      ],
      "execution_count": 35,
      "outputs": [
        {
          "output_type": "display_data",
          "data": {
            "text/plain": [
              "<matplotlib.figure.Figure at 0x7f920ae16a90>"
            ]
          },
          "metadata": {
            "tags": []
          }
        },
        {
          "output_type": "display_data",
          "data": {
            "image/png": "[encoded data removed]",
            "text/plain": [
              "<matplotlib.figure.Figure at 0x7f920ae16fd0>"
            ]
          },
          "metadata": {
            "tags": []
          }
        }
      ]
    },
    {
      "metadata": {
        "id": "TbBM0jEqgPpc",
        "colab_type": "text"
      },
      "cell_type": "markdown",
      "source": [
        "#### Avec un réseau de neurone plus évolué : Un CNN (_Convolutional neural network_) "
      ]
    },
    {
      "metadata": {
        "collapsed": true,
        "id": "RHS-vcsmgPpp",
        "colab_type": "text"
      },
      "cell_type": "markdown",
      "source": [
        "Oui, car on est là 2 fois moins bon que les meilleurs qui atteignent les 98%. On va essayer un CNN : il s'agit d'utiliser des algorithmes dits de convolution qui sont des filtres chargés de mettre en évidence certaines caractéristiques des images puis des techniques de pooling pour réduire le nombre de paramètres à résoudre. \n",
        "\n",
        "![image.png](https://raw.githubusercontent.com/rst-analytics/atelier-ml/master/Capture5.JPG) \n",
        "\n",
        "(source Matlab - Introducing Deep Learning)\n",
        "\n",
        "Voir https://hackernoon.com/visualizing-parts-of-convolutional-neural-networks-using-keras-and-cats-5cc01b214e59\n"
      ]
    },
    {
      "metadata": {
        "id": "_hwkoQM4gPpu",
        "colab_type": "text"
      },
      "cell_type": "markdown",
      "source": [
        "#### Test avec un CNNS classique (modèles à 16 couches d'Oxford - VGG16)\n",
        "\n",
        "Ce modèle est célèbre pour avoir gagné le challenge ImageNet 2014 (classification de 1000 classes sur 14 millions d'images, 92,7% de précision).\n",
        "\n"
      ]
    },
    {
      "metadata": {
        "collapsed": true,
        "id": "F0AMIzupgPpv",
        "colab_type": "text"
      },
      "cell_type": "markdown",
      "source": [
        "##### Le modèle (avec des optimisations agressives : Régularisation L2 + dropout)\n",
        "\n",
        "\n"
      ]
    },
    {
      "metadata": {
        "collapsed": true,
        "id": "aGpI0724gPpx",
        "colab_type": "text"
      },
      "cell_type": "markdown",
      "source": [
        "A ce stade, il n'est pas nécessaire de discuter des techiques de régularisation ou de dropout. Ce sont des techniques d'optimisation permettant d'éviter ou de réduire l'_overfitting_ c'est-à-dire le sur-apprentissage : C'est ce qui apparaît lorsque le modèle est trop calqué sur les données d'apprentissage et est incapable de généraliser pour être efficace avec des données qu'il n'a jamais vu auparavant.  \n",
        "\n",
        "![VGG](https://blog.keras.io/img/imgclf/vgg16_original.png) (source https://blog.keras.io/building-powerful-image-classification-models-using-very-little-data.html)\n",
        "\n",
        "\n",
        "\n",
        "\n",
        "En savoir plus sur le modèle VGG16 (by VGG at Oxford under the Creative Commons Attribution License) :\n",
        "\n",
        "* l'article “Very Deep Convolutional Networks for Large-Scale Image Recognition” de  K. Simonyan and A. Zisserman (University of Oxford) : https://arxiv.org/pdf/1409.1556https://arxiv.org/pdf/1409.1556  \n",
        "* https://keras.io/applications/#vgg16\n",
        "\n",
        "\n",
        "\n"
      ]
    },
    {
      "metadata": {
        "id": "99nAQHbdgPpz",
        "colab_type": "text"
      },
      "cell_type": "markdown",
      "source": [
        "#### Implémentons le modèle"
      ]
    },
    {
      "metadata": {
        "trusted": true,
        "id": "4r7CozCpgPp0",
        "colab_type": "code",
        "colab": {
          "base_uri": "https://localhost:8080/",
          "height": 2368
        },
        "outputId": "b5fe4a64-795c-4afa-daec-ecf98947587d"
      },
      "cell_type": "code",
      "source": [
        "#Inspiré de https://github.com/geifmany/cifar-vgg/blob/master/cifar10vgg.py\n",
        "\n",
        "from keras import regularizers\n",
        "from keras.layers import BatchNormalization\n",
        "\n",
        "model = Sequential()\n",
        "weight_decay = 0.0005\n",
        "\n",
        "model.add(Conv2D(64, (3, 3), padding='same',\n",
        "                         input_shape=(32,32,3),kernel_regularizer=regularizers.l2(weight_decay)))\n",
        "model.add(Activation('relu'))\n",
        "model.add(BatchNormalization())\n",
        "model.add(Dropout(0.3))\n",
        "\n",
        "model.add(Conv2D(64, (3, 3), padding='same',kernel_regularizer=regularizers.l2(weight_decay)))\n",
        "model.add(Activation('relu'))\n",
        "model.add(BatchNormalization())\n",
        "\n",
        "model.add(MaxPooling2D(pool_size=(2, 2)))\n",
        "\n",
        "model.add(Conv2D(128, (3, 3), padding='same',kernel_regularizer=regularizers.l2(weight_decay)))\n",
        "model.add(Activation('relu'))\n",
        "model.add(BatchNormalization())\n",
        "model.add(Dropout(0.4))\n",
        "\n",
        "model.add(Conv2D(128, (3, 3), padding='same',kernel_regularizer=regularizers.l2(weight_decay)))\n",
        "model.add(Activation('relu'))\n",
        "model.add(BatchNormalization())\n",
        "\n",
        "model.add(MaxPooling2D(pool_size=(2, 2)))\n",
        "\n",
        "model.add(Conv2D(256, (3, 3), padding='same',kernel_regularizer=regularizers.l2(weight_decay)))\n",
        "model.add(Activation('relu'))\n",
        "model.add(BatchNormalization())\n",
        "model.add(Dropout(0.4))\n",
        "\n",
        "model.add(Conv2D(256, (3, 3), padding='same',kernel_regularizer=regularizers.l2(weight_decay)))\n",
        "model.add(Activation('relu'))\n",
        "model.add(BatchNormalization())\n",
        "model.add(Dropout(0.4))\n",
        "\n",
        "model.add(Conv2D(256, (3, 3), padding='same',kernel_regularizer=regularizers.l2(weight_decay)))\n",
        "model.add(Activation('relu'))\n",
        "model.add(BatchNormalization())\n",
        "\n",
        "model.add(MaxPooling2D(pool_size=(2, 2)))\n",
        "\n",
        "\n",
        "model.add(Conv2D(512, (3, 3), padding='same',kernel_regularizer=regularizers.l2(weight_decay)))\n",
        "model.add(Activation('relu'))\n",
        "model.add(BatchNormalization())\n",
        "model.add(Dropout(0.4))\n",
        "\n",
        "model.add(Conv2D(512, (3, 3), padding='same',kernel_regularizer=regularizers.l2(weight_decay)))\n",
        "model.add(Activation('relu'))\n",
        "model.add(BatchNormalization())\n",
        "model.add(Dropout(0.4))\n",
        "\n",
        "model.add(Conv2D(512, (3, 3), padding='same',kernel_regularizer=regularizers.l2(weight_decay)))\n",
        "model.add(Activation('relu'))\n",
        "model.add(BatchNormalization())\n",
        "\n",
        "model.add(MaxPooling2D(pool_size=(2, 2)))\n",
        "\n",
        "\n",
        "model.add(Conv2D(512, (3, 3), padding='same',kernel_regularizer=regularizers.l2(weight_decay)))\n",
        "model.add(Activation('relu'))\n",
        "model.add(BatchNormalization())\n",
        "model.add(Dropout(0.4))\n",
        "\n",
        "model.add(Conv2D(512, (3, 3), padding='same',kernel_regularizer=regularizers.l2(weight_decay)))\n",
        "model.add(Activation('relu'))\n",
        "model.add(BatchNormalization())\n",
        "model.add(Dropout(0.4))\n",
        "\n",
        "model.add(Conv2D(512, (3, 3), padding='same',kernel_regularizer=regularizers.l2(weight_decay)))\n",
        "model.add(Activation('relu'))\n",
        "model.add(BatchNormalization())\n",
        "\n",
        "model.add(MaxPooling2D(pool_size=(2, 2)))\n",
        "model.add(Dropout(0.5))\n",
        "\n",
        "model.add(Flatten())\n",
        "model.add(Dense(512,kernel_regularizer=regularizers.l2(weight_decay)))\n",
        "model.add(Activation('relu'))\n",
        "model.add(BatchNormalization())\n",
        "\n",
        "model.add(Dropout(0.5))\n",
        "model.add(Dense(num_classes))\n",
        "model.add(Activation(tf.nn.softmax))\n",
        "\n",
        "print(model.summary())\n",
        "model.compile(optimizer='adam', loss=keras.losses.categorical_crossentropy,metrics=['accuracy'])\n",
        "\n",
        "\n"
      ],
      "execution_count": 37,
      "outputs": [
        {
          "output_type": "stream",
          "text": [
            "_________________________________________________________________\n",
            "Layer (type)                 Output Shape              Param #   \n",
            "=================================================================\n",
            "conv2d_14 (Conv2D)           (None, 32, 32, 64)        1792      \n",
            "_________________________________________________________________\n",
            "activation_34 (Activation)   (None, 32, 32, 64)        0         \n",
            "_________________________________________________________________\n",
            "batch_normalization_15 (Batc (None, 32, 32, 64)        256       \n",
            "_________________________________________________________________\n",
            "dropout_11 (Dropout)         (None, 32, 32, 64)        0         \n",
            "_________________________________________________________________\n",
            "conv2d_15 (Conv2D)           (None, 32, 32, 64)        36928     \n",
            "_________________________________________________________________\n",
            "activation_35 (Activation)   (None, 32, 32, 64)        0         \n",
            "_________________________________________________________________\n",
            "batch_normalization_16 (Batc (None, 32, 32, 64)        256       \n",
            "_________________________________________________________________\n",
            "max_pooling2d_6 (MaxPooling2 (None, 16, 16, 64)        0         \n",
            "_________________________________________________________________\n",
            "conv2d_16 (Conv2D)           (None, 16, 16, 128)       73856     \n",
            "_________________________________________________________________\n",
            "activation_36 (Activation)   (None, 16, 16, 128)       0         \n",
            "_________________________________________________________________\n",
            "batch_normalization_17 (Batc (None, 16, 16, 128)       512       \n",
            "_________________________________________________________________\n",
            "dropout_12 (Dropout)         (None, 16, 16, 128)       0         \n",
            "_________________________________________________________________\n",
            "conv2d_17 (Conv2D)           (None, 16, 16, 128)       147584    \n",
            "_________________________________________________________________\n",
            "activation_37 (Activation)   (None, 16, 16, 128)       0         \n",
            "_________________________________________________________________\n",
            "batch_normalization_18 (Batc (None, 16, 16, 128)       512       \n",
            "_________________________________________________________________\n",
            "max_pooling2d_7 (MaxPooling2 (None, 8, 8, 128)         0         \n",
            "_________________________________________________________________\n",
            "conv2d_18 (Conv2D)           (None, 8, 8, 256)         295168    \n",
            "_________________________________________________________________\n",
            "activation_38 (Activation)   (None, 8, 8, 256)         0         \n",
            "_________________________________________________________________\n",
            "batch_normalization_19 (Batc (None, 8, 8, 256)         1024      \n",
            "_________________________________________________________________\n",
            "dropout_13 (Dropout)         (None, 8, 8, 256)         0         \n",
            "_________________________________________________________________\n",
            "conv2d_19 (Conv2D)           (None, 8, 8, 256)         590080    \n",
            "_________________________________________________________________\n",
            "activation_39 (Activation)   (None, 8, 8, 256)         0         \n",
            "_________________________________________________________________\n",
            "batch_normalization_20 (Batc (None, 8, 8, 256)         1024      \n",
            "_________________________________________________________________\n",
            "dropout_14 (Dropout)         (None, 8, 8, 256)         0         \n",
            "_________________________________________________________________\n",
            "conv2d_20 (Conv2D)           (None, 8, 8, 256)         590080    \n",
            "_________________________________________________________________\n",
            "activation_40 (Activation)   (None, 8, 8, 256)         0         \n",
            "_________________________________________________________________\n",
            "batch_normalization_21 (Batc (None, 8, 8, 256)         1024      \n",
            "_________________________________________________________________\n",
            "max_pooling2d_8 (MaxPooling2 (None, 4, 4, 256)         0         \n",
            "_________________________________________________________________\n",
            "conv2d_21 (Conv2D)           (None, 4, 4, 512)         1180160   \n",
            "_________________________________________________________________\n",
            "activation_41 (Activation)   (None, 4, 4, 512)         0         \n",
            "_________________________________________________________________\n",
            "batch_normalization_22 (Batc (None, 4, 4, 512)         2048      \n",
            "_________________________________________________________________\n",
            "dropout_15 (Dropout)         (None, 4, 4, 512)         0         \n",
            "_________________________________________________________________\n",
            "conv2d_22 (Conv2D)           (None, 4, 4, 512)         2359808   \n",
            "_________________________________________________________________\n",
            "activation_42 (Activation)   (None, 4, 4, 512)         0         \n",
            "_________________________________________________________________\n",
            "batch_normalization_23 (Batc (None, 4, 4, 512)         2048      \n",
            "_________________________________________________________________\n",
            "dropout_16 (Dropout)         (None, 4, 4, 512)         0         \n",
            "_________________________________________________________________\n",
            "conv2d_23 (Conv2D)           (None, 4, 4, 512)         2359808   \n",
            "_________________________________________________________________\n",
            "activation_43 (Activation)   (None, 4, 4, 512)         0         \n",
            "_________________________________________________________________\n",
            "batch_normalization_24 (Batc (None, 4, 4, 512)         2048      \n",
            "_________________________________________________________________\n",
            "max_pooling2d_9 (MaxPooling2 (None, 2, 2, 512)         0         \n",
            "_________________________________________________________________\n",
            "conv2d_24 (Conv2D)           (None, 2, 2, 512)         2359808   \n",
            "_________________________________________________________________\n",
            "activation_44 (Activation)   (None, 2, 2, 512)         0         \n",
            "_________________________________________________________________\n",
            "batch_normalization_25 (Batc (None, 2, 2, 512)         2048      \n",
            "_________________________________________________________________\n",
            "dropout_17 (Dropout)         (None, 2, 2, 512)         0         \n",
            "_________________________________________________________________\n",
            "conv2d_25 (Conv2D)           (None, 2, 2, 512)         2359808   \n",
            "_________________________________________________________________\n",
            "activation_45 (Activation)   (None, 2, 2, 512)         0         \n",
            "_________________________________________________________________\n",
            "batch_normalization_26 (Batc (None, 2, 2, 512)         2048      \n",
            "_________________________________________________________________\n",
            "dropout_18 (Dropout)         (None, 2, 2, 512)         0         \n",
            "_________________________________________________________________\n",
            "conv2d_26 (Conv2D)           (None, 2, 2, 512)         2359808   \n",
            "_________________________________________________________________\n",
            "activation_46 (Activation)   (None, 2, 2, 512)         0         \n",
            "_________________________________________________________________\n",
            "batch_normalization_27 (Batc (None, 2, 2, 512)         2048      \n",
            "_________________________________________________________________\n",
            "max_pooling2d_10 (MaxPooling (None, 1, 1, 512)         0         \n",
            "_________________________________________________________________\n",
            "dropout_19 (Dropout)         (None, 1, 1, 512)         0         \n",
            "_________________________________________________________________\n",
            "flatten_2 (Flatten)          (None, 512)               0         \n",
            "_________________________________________________________________\n",
            "dense_21 (Dense)             (None, 512)               262656    \n",
            "_________________________________________________________________\n",
            "activation_47 (Activation)   (None, 512)               0         \n",
            "_________________________________________________________________\n",
            "batch_normalization_28 (Batc (None, 512)               2048      \n",
            "_________________________________________________________________\n",
            "dropout_20 (Dropout)         (None, 512)               0         \n",
            "_________________________________________________________________\n",
            "dense_22 (Dense)             (None, 10)                5130      \n",
            "_________________________________________________________________\n",
            "activation_48 (Activation)   (None, 10)                0         \n",
            "=================================================================\n",
            "Total params: 15,001,418\n",
            "Trainable params: 14,991,946\n",
            "Non-trainable params: 9,472\n",
            "_________________________________________________________________\n",
            "None\n"
          ],
          "name": "stdout"
        }
      ]
    },
    {
      "metadata": {
        "trusted": true,
        "id": "C3Lk7igugPqR",
        "colab_type": "code",
        "colab": {}
      },
      "cell_type": "code",
      "source": [
        "X_train2 = X_train_origin/255\n",
        "X_test2 = X_test_origin/255\n"
      ],
      "execution_count": 0,
      "outputs": []
    },
    {
      "metadata": {
        "id": "qutv3CBagPqX",
        "colab_type": "text"
      },
      "cell_type": "markdown",
      "source": [
        "##### Utilisation d'un modèle pré-entrainé\n",
        "\n",
        "Le modèle ci-dessus a été pré-entrainé par mes soins (sur une dizaine d'époques). La phase d'apprentissage est en effet très longue, il est donc illusoire aboutir à un résultat concluant en quelques dizaines de minutes. Il convient de charger les \"poids\" calculés du modèle puis de le jouer sur les données de test."
      ]
    },
    {
      "metadata": {
        "trusted": true,
        "id": "X_P8ET2MgPqZ",
        "colab_type": "code",
        "colab": {
          "base_uri": "https://localhost:8080/",
          "height": 688
        },
        "outputId": "71d9e70a-30f9-45be-e9c5-b0a30f0c7a07"
      },
      "cell_type": "code",
      "source": [
        "model.load_weights(\"weight_vgg-11.h5\") \n",
        "\n"
      ],
      "execution_count": 39,
      "outputs": [
        {
          "output_type": "error",
          "ename": "IOError",
          "evalue": "ignored",
          "traceback": [
            "\u001b[0;31m\u001b[0m",
            "\u001b[0;31mIOError\u001b[0mTraceback (most recent call last)",
            "\u001b[0;32m<ipython-input-39-c34d129aeae1>\u001b[0m in \u001b[0;36m<module>\u001b[0;34m()\u001b[0m\n\u001b[0;32m----> 1\u001b[0;31m \u001b[0mmodel\u001b[0m\u001b[0;34m.\u001b[0m\u001b[0mload_weights\u001b[0m\u001b[0;34m(\u001b[0m\u001b[0;34m\"weight_vgg-11.h5\"\u001b[0m\u001b[0;34m)\u001b[0m\u001b[0;34m\u001b[0m\u001b[0m\n\u001b[0m\u001b[1;32m      2\u001b[0m \u001b[0;34m\u001b[0m\u001b[0m\n",
            "\u001b[0;32m/usr/local/lib/python2.7/dist-packages/keras/models.pyc\u001b[0m in \u001b[0;36mload_weights\u001b[0;34m(self, filepath, by_name, skip_mismatch, reshape)\u001b[0m\n\u001b[1;32m    752\u001b[0m         \u001b[0;32mif\u001b[0m \u001b[0mh5py\u001b[0m \u001b[0;32mis\u001b[0m \u001b[0mNone\u001b[0m\u001b[0;34m:\u001b[0m\u001b[0;34m\u001b[0m\u001b[0m\n\u001b[1;32m    753\u001b[0m             \u001b[0;32mraise\u001b[0m \u001b[0mImportError\u001b[0m\u001b[0;34m(\u001b[0m\u001b[0;34m'`load_weights` requires h5py.'\u001b[0m\u001b[0;34m)\u001b[0m\u001b[0;34m\u001b[0m\u001b[0m\n\u001b[0;32m--> 754\u001b[0;31m         \u001b[0;32mwith\u001b[0m \u001b[0mh5py\u001b[0m\u001b[0;34m.\u001b[0m\u001b[0mFile\u001b[0m\u001b[0;34m(\u001b[0m\u001b[0mfilepath\u001b[0m\u001b[0;34m,\u001b[0m \u001b[0mmode\u001b[0m\u001b[0;34m=\u001b[0m\u001b[0;34m'r'\u001b[0m\u001b[0;34m)\u001b[0m \u001b[0;32mas\u001b[0m \u001b[0mf\u001b[0m\u001b[0;34m:\u001b[0m\u001b[0;34m\u001b[0m\u001b[0m\n\u001b[0m\u001b[1;32m    755\u001b[0m             \u001b[0;32mif\u001b[0m \u001b[0;34m'layer_names'\u001b[0m \u001b[0;32mnot\u001b[0m \u001b[0;32min\u001b[0m \u001b[0mf\u001b[0m\u001b[0;34m.\u001b[0m\u001b[0mattrs\u001b[0m \u001b[0;32mand\u001b[0m \u001b[0;34m'model_weights'\u001b[0m \u001b[0;32min\u001b[0m \u001b[0mf\u001b[0m\u001b[0;34m:\u001b[0m\u001b[0;34m\u001b[0m\u001b[0m\n\u001b[1;32m    756\u001b[0m                 \u001b[0mf\u001b[0m \u001b[0;34m=\u001b[0m \u001b[0mf\u001b[0m\u001b[0;34m[\u001b[0m\u001b[0;34m'model_weights'\u001b[0m\u001b[0;34m]\u001b[0m\u001b[0;34m\u001b[0m\u001b[0m\n",
            "\u001b[0;32m/usr/local/lib/python2.7/dist-packages/h5py/_hl/files.pyc\u001b[0m in \u001b[0;36m__init__\u001b[0;34m(self, name, mode, driver, libver, userblock_size, swmr, **kwds)\u001b[0m\n\u001b[1;32m    310\u001b[0m             \u001b[0;32mwith\u001b[0m \u001b[0mphil\u001b[0m\u001b[0;34m:\u001b[0m\u001b[0;34m\u001b[0m\u001b[0m\n\u001b[1;32m    311\u001b[0m                 \u001b[0mfapl\u001b[0m \u001b[0;34m=\u001b[0m \u001b[0mmake_fapl\u001b[0m\u001b[0;34m(\u001b[0m\u001b[0mdriver\u001b[0m\u001b[0;34m,\u001b[0m \u001b[0mlibver\u001b[0m\u001b[0;34m,\u001b[0m \u001b[0;34m**\u001b[0m\u001b[0mkwds\u001b[0m\u001b[0;34m)\u001b[0m\u001b[0;34m\u001b[0m\u001b[0m\n\u001b[0;32m--> 312\u001b[0;31m                 \u001b[0mfid\u001b[0m \u001b[0;34m=\u001b[0m \u001b[0mmake_fid\u001b[0m\u001b[0;34m(\u001b[0m\u001b[0mname\u001b[0m\u001b[0;34m,\u001b[0m \u001b[0mmode\u001b[0m\u001b[0;34m,\u001b[0m \u001b[0muserblock_size\u001b[0m\u001b[0;34m,\u001b[0m \u001b[0mfapl\u001b[0m\u001b[0;34m,\u001b[0m \u001b[0mswmr\u001b[0m\u001b[0;34m=\u001b[0m\u001b[0mswmr\u001b[0m\u001b[0;34m)\u001b[0m\u001b[0;34m\u001b[0m\u001b[0m\n\u001b[0m\u001b[1;32m    313\u001b[0m \u001b[0;34m\u001b[0m\u001b[0m\n\u001b[1;32m    314\u001b[0m                 \u001b[0;32mif\u001b[0m \u001b[0mswmr_support\u001b[0m\u001b[0;34m:\u001b[0m\u001b[0;34m\u001b[0m\u001b[0m\n",
            "\u001b[0;32m/usr/local/lib/python2.7/dist-packages/h5py/_hl/files.pyc\u001b[0m in \u001b[0;36mmake_fid\u001b[0;34m(name, mode, userblock_size, fapl, fcpl, swmr)\u001b[0m\n\u001b[1;32m    140\u001b[0m         \u001b[0;32mif\u001b[0m \u001b[0mswmr\u001b[0m \u001b[0;32mand\u001b[0m \u001b[0mswmr_support\u001b[0m\u001b[0;34m:\u001b[0m\u001b[0;34m\u001b[0m\u001b[0m\n\u001b[1;32m    141\u001b[0m             \u001b[0mflags\u001b[0m \u001b[0;34m|=\u001b[0m \u001b[0mh5f\u001b[0m\u001b[0;34m.\u001b[0m\u001b[0mACC_SWMR_READ\u001b[0m\u001b[0;34m\u001b[0m\u001b[0m\n\u001b[0;32m--> 142\u001b[0;31m         \u001b[0mfid\u001b[0m \u001b[0;34m=\u001b[0m \u001b[0mh5f\u001b[0m\u001b[0;34m.\u001b[0m\u001b[0mopen\u001b[0m\u001b[0;34m(\u001b[0m\u001b[0mname\u001b[0m\u001b[0;34m,\u001b[0m \u001b[0mflags\u001b[0m\u001b[0;34m,\u001b[0m \u001b[0mfapl\u001b[0m\u001b[0;34m=\u001b[0m\u001b[0mfapl\u001b[0m\u001b[0;34m)\u001b[0m\u001b[0;34m\u001b[0m\u001b[0m\n\u001b[0m\u001b[1;32m    143\u001b[0m     \u001b[0;32melif\u001b[0m \u001b[0mmode\u001b[0m \u001b[0;34m==\u001b[0m \u001b[0;34m'r+'\u001b[0m\u001b[0;34m:\u001b[0m\u001b[0;34m\u001b[0m\u001b[0m\n\u001b[1;32m    144\u001b[0m         \u001b[0mfid\u001b[0m \u001b[0;34m=\u001b[0m \u001b[0mh5f\u001b[0m\u001b[0;34m.\u001b[0m\u001b[0mopen\u001b[0m\u001b[0;34m(\u001b[0m\u001b[0mname\u001b[0m\u001b[0;34m,\u001b[0m \u001b[0mh5f\u001b[0m\u001b[0;34m.\u001b[0m\u001b[0mACC_RDWR\u001b[0m\u001b[0;34m,\u001b[0m \u001b[0mfapl\u001b[0m\u001b[0;34m=\u001b[0m\u001b[0mfapl\u001b[0m\u001b[0;34m)\u001b[0m\u001b[0;34m\u001b[0m\u001b[0m\n",
            "\u001b[0;32mh5py/_objects.pyx\u001b[0m in \u001b[0;36mh5py._objects.with_phil.wrapper\u001b[0;34m()\u001b[0m\n",
            "\u001b[0;32mh5py/_objects.pyx\u001b[0m in \u001b[0;36mh5py._objects.with_phil.wrapper\u001b[0;34m()\u001b[0m\n",
            "\u001b[0;32mh5py/h5f.pyx\u001b[0m in \u001b[0;36mh5py.h5f.open\u001b[0;34m()\u001b[0m\n",
            "\u001b[0;31mIOError\u001b[0m: Unable to open file (unable to open file: name = 'weight_vgg-11.h5', errno = 2, error message = 'No such file or directory', flags = 0, o_flags = 0)"
          ]
        }
      ]
    },
    {
      "metadata": {
        "trusted": true,
        "id": "pLVVJW0qgPqd",
        "colab_type": "code",
        "colab": {}
      },
      "cell_type": "code",
      "source": [
        "scores = model.evaluate(X_test2, Y_test, verbose=1)\n",
        "print(scores)"
      ],
      "execution_count": 0,
      "outputs": []
    },
    {
      "metadata": {
        "trusted": true,
        "id": "JsBH4BJTgPqj",
        "colab_type": "code",
        "colab": {}
      },
      "cell_type": "code",
      "source": [
        "y_pred = model.predict(X_test2, verbose=1)\n",
        "y_pred_bin=np.argmax(y_pred,axis=-1)\n",
        "confusion_matrix(Y_test_origin,y_pred_bin)"
      ],
      "execution_count": 0,
      "outputs": []
    },
    {
      "metadata": {
        "trusted": true,
        "id": "DzlXttffgPqm",
        "colab_type": "code",
        "colab": {}
      },
      "cell_type": "code",
      "source": [
        "#matrice de confusion\n",
        "conf = confusion_matrix(Y_test_origin,y_pred_bin)/1000*100\n",
        "print(conf)"
      ],
      "execution_count": 0,
      "outputs": []
    },
    {
      "metadata": {
        "trusted": true,
        "id": "1aU2n4pIgPqq",
        "colab_type": "code",
        "colab": {}
      },
      "cell_type": "code",
      "source": [
        "fig = plt.figure()\n",
        "fig, ax = plt.subplots(figsize=(10,10))\n",
        "cax = ax.matshow(conf)\n",
        "fig.colorbar(cax)\n",
        "\n",
        "ax.set_xlabel('Predicton')\n",
        "ax.set_ylabel('Vrai')\n",
        "\n",
        "yticks = [0,1,2,3,4,5,6,7,8,9]\n",
        "xticks = [0,1,2,3,4,5,6,7,8,9]\n",
        "ax.set_yticks(yticks)\n",
        "ax.set_xticks(yticks)\n",
        "ax.set_xticklabels(labels)\n",
        "ax.set_yticklabels(labels)\n",
        "\n",
        "plt.show()"
      ],
      "execution_count": 0,
      "outputs": []
    },
    {
      "metadata": {
        "id": "EE_Iq5oGgPqs",
        "colab_type": "text"
      },
      "cell_type": "markdown",
      "source": [
        "##### Aller plus loin et faire mieux\n",
        "\n",
        "Pour obtenir de meilleur résultats, il faudrait : \n",
        "\n",
        "* Entrainer les modèles sur plus d'époques\n",
        "* Avoir plus de données en entrée\n",
        "* Faire de la _data-augmentation_, c'est-à-dire générer des nouvelles images à partir des images existantes mais en modifiant les niveaux de zoom, en faisant quelques rotations ou des effets miroir etc. afin simuler de nouvelles images et d'aider le modèle à généraliser : En effet, si le modèle apprend à partir de données où tous les chats regardent vers la droite, pour lui, un chat qui regarde vers la gauche n'est pas un chat !! \n",
        "![image.png](https://blog.keras.io/img/imgclf/cat_data_augmentation.png) (source https://blog.keras.io/building-powerful-image-classification-models-using-very-little-data.html)\n",
        "\n"
      ]
    },
    {
      "metadata": {
        "id": "Wd0tSm25gPqu",
        "colab_type": "text"
      },
      "cell_type": "markdown",
      "source": [
        "### Ok, en réalité ce n'est pas aussi simple\n",
        "\n",
        "Il faut en effet en général passer du temps (beaucoup) pour : \n",
        "* Trouver les données\n",
        "* Explorer et nettoyer les données\n",
        "* Essayer différentes analyses, algorithmes, méthodes puis passer du temps à trouver les bons paramétrages\n",
        "* Présenter convenablement les résultats de manière compréhensible par les non datascientistes en donnant la bonne information utile (transformable en actions concrètes)"
      ]
    },
    {
      "metadata": {
        "id": "hfO5C8HXgPqu",
        "colab_type": "text"
      },
      "cell_type": "markdown",
      "source": [
        "### Pour aller plus loin\n",
        "\n",
        "\n",
        "* MOOC : L'excellente spécialisation Data Sciences de Johns Hopkins sur Coursera. https://fr.coursera.org/specializations/jhu-data-science. Une série de 10 MOOC pour apprendre les bases de R, (ré)apprendre quelques principes de bases de statistiques, de régression, de machines learning et pour réaliser quelques projets marrants \n",
        "* MOOC : La spécialisation Deep Learning sur Coursera https://fr.coursera.org/specializations/deep-learning . Une série de 5 MOOC géniaux avec Andrew NG, gourou international de l'IA, pour tout comprendre sur le Deep Learning ... et se familiariser avec Python\n",
        "* Et bien d'autres MOOC ou ressources en ligne\n",
        "* Un excellent livre (en français et en anglais) : \n",
        "\n",
        "![image.png](https://images-na.ssl-images-amazon.com/images/I/51%2BkYprYK1L._SX379_BO1,204,203,200_.jpg)\n",
        "\n",
        "\n",
        "##### Pour en savoir plus : \n",
        "\n",
        "* https://www.college-de-france.fr/media/yann-lecun/UPL7915574462521283497_lecun_20160204_college_de_france_lecon_inaugurale.pdf\n",
        "* https://www.college-de-france.fr/media/yann-lecun/UPL4485925235409209505_Intelligence_Artificielle______Y._LeCun.pdf\n",
        "* https://cvernade.wp.imt.fr/files/2015/01/Introduction.pdf\n",
        "* http://liris.cnrs.fr/christian.wolf/teaching/m2r/m2r-igi-machinelearning1.pdf"
      ]
    },
    {
      "metadata": {
        "collapsed": true,
        "id": "n5vLp4pZgPqw",
        "colab_type": "text"
      },
      "cell_type": "markdown",
      "source": [
        "\n"
      ]
    },
    {
      "metadata": {
        "trusted": true,
        "id": "BHjCFuQ2gPqx",
        "colab_type": "code",
        "colab": {}
      },
      "cell_type": "code",
      "source": [
        ""
      ],
      "execution_count": 0,
      "outputs": []
    }
  ]
}