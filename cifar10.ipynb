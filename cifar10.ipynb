{
  "nbformat": 4,
  "nbformat_minor": 0,
  "metadata": {
    "colab": {
      "name": "cifar10.ipynb",
      "version": "0.3.2",
      "provenance": [],
      "collapsed_sections": []
    },
    "kernelspec": {
      "name": "python3",
      "display_name": "Python 3"
    }
  },
  "cells": [
    {
      "metadata": {
        "collapsed": true,
        "id": "_QRUIdpNgPhY",
        "colab_type": "text"
      },
      "cell_type": "markdown",
      "source": [
        "### Cerema : Introduction au _machine learning_ (et au _deep learning_)\n",
        "\n",
        "\n",
        "# Le machine learning, ce n'est pas que  pour les autres ! Un exemple simple et ludique !\n",
        "\n",
        "## Non, vous n'avez pas besoin d'être diplômé de Stanford pour vous y mettre !!\n"
      ]
    },
    {
      "metadata": {
        "id": "QcSEY6slgPhd",
        "colab_type": "text"
      },
      "cell_type": "markdown",
      "source": [
        "## La preuve par l'exemple : Classification automatique d'images avec un peu de Deep Learning simplifié !\n"
      ]
    },
    {
      "metadata": {
        "id": "VPWIvtBWgPhh",
        "colab_type": "text"
      },
      "cell_type": "markdown",
      "source": [
        "### Si on peut faire ça en peu de temps, avec quelques MOOC dans les jambes, imaginez le potentiel sur nos propres données, avec un projet de quelques semaines ou de quelques mois, avec des compétences métiers et des solides compétences de traitement de la donnée."
      ]
    },
    {
      "metadata": {
        "id": "549vzjCQgPhp",
        "colab_type": "text"
      },
      "cell_type": "markdown",
      "source": [
        "Cette page web est un notebook _Jupyter_ qui permet d'exécuter du code sur un serveur distant. On lance des calculs sur le _cloud_  ! La démarche est simplifiée pour tenir en format atelier de 30 min. Pour un notebook plus complet, avec plus de propos explicatifs et plus d'exemples,  voir  https://notebooks.azure.com/jetzgetzlos-POC/libraries/POC-cat-classif/html/POC-cat.ipynb (notebook complet de l'atelier SGD de novembre 2017)\n",
        "\n",
        "** Ne vous formalisez pas sur le code ou sur les aspects trop théoriques du machine learning ** : l'idée est de maniper un peu, de voir qu'il est possible de lancer des modèles avec peu de lignes de codes, et non de devenir un expert en Machine learning. Donc pas de panique ! L'atelier sera accompagné d'explications orales et de quelques slides imagés pour comprendre le fonctionnement global."
      ]
    },
    {
      "metadata": {
        "id": "TwJjgALtgPhw",
        "colab_type": "text"
      },
      "cell_type": "markdown",
      "source": [
        "## La preuve par l'exemple : soyons fous, 50000 images, 10 classes\n",
        "\n",
        "#### Pourquoi Python ?\n",
        "\n",
        "Parce que Python offre plus de bibliothèques DeepLearning ... - désolé pour les fans de R :-)\n",
        "\n",
        "#### Les données\n",
        "\n",
        "On va utiliser ici la bibliothèque d'images CIFAR 10 (https://www.cs.toronto.edu/~kriz/cifar.html) composée de 60000 images 32x32 avec 10 classes d'images (6000 images par classe).\n",
        "\n",
        "![CIFAR](https://kaggle2.blob.core.windows.net/competitions/kaggle/3649/media/cifar-10.png)\n",
        "\n",
        "Ces données ont fait l'objet d'un concours de datascience sur Kaggle : https://www.kaggle.com/c/cifar-10\n",
        "\n",
        "\n",
        "\n",
        "#### Les bibliothèques utilisées : Keras & Tensorflow \n",
        "\n",
        "On pourrait bien sûr tout développer nous-même mais nous n'aurions pas le temps dans la session de 30 minutes et il faudrait pour celà approfondir certains aspects théoriques. Il convient plutôt d'utiliser des bibliothèques existantes. La plus connue est ** Tensorflow**, bibliothèque libre issue du laboratoire Google Brain. Nous allons aussi utiliser la bibliothèque ** Keras ** qui permet de masquer la complexité de Tensorflow en offrant une interface de plus haut niveau.\n",
        "\n",
        "\n",
        "\n",
        "#### Etape 1, charger les données\n",
        "\n"
      ]
    },
    {
      "metadata": {
        "trusted": true,
        "id": "2eZobP0ZgPh1",
        "colab_type": "code",
        "colab": {
          "base_uri": "https://localhost:8080/",
          "height": 36
        },
        "outputId": "0d473651-fa57-4a3c-ddcc-0e9063143719"
      },
      "cell_type": "code",
      "source": [
        "import tensorflow as tf\n",
        "import keras\n",
        "from keras.datasets import cifar10\n",
        "from matplotlib import pyplot as plt\n",
        "from scipy.misc import toimage\n",
        "import numpy as np\n",
        "\n",
        "from keras.models import Sequential\n",
        "from keras.layers import Dense, Activation\n",
        "from keras.layers import Dropout\n",
        "from keras.utils import np_utils\n",
        "from keras.utils import plot_model\n",
        "from keras.utils.vis_utils import model_to_dot\n",
        "from keras.preprocessing.image import ImageDataGenerator\n",
        "\n",
        "from keras.constraints import maxnorm\n",
        "from keras.layers.convolutional import Conv2D\n",
        "from keras.layers.convolutional import MaxPooling2D\n",
        "from keras.layers.convolutional import ZeroPadding2D\n",
        "from keras.layers import Dropout\n",
        "from keras.layers import Flatten\n",
        "\n",
        "\n",
        "from IPython.display import SVG\n",
        "from sklearn.metrics import confusion_matrix\n",
        "from PIL import Image\n"
      ],
      "execution_count": 1,
      "outputs": [
        {
          "output_type": "stream",
          "text": [
            "Using TensorFlow backend.\n"
          ],
          "name": "stderr"
        }
      ]
    },
    {
      "metadata": {
        "trusted": true,
        "id": "90OZnOvSgPiD",
        "colab_type": "code",
        "colab": {}
      },
      "cell_type": "code",
      "source": [
        "# On charge les données ; il y a un dataset pour l'apprentissage et un autre pour les tests\n",
        "# en toute rigueur il faudrait couper le dataset en 2 pour le dev-test et le test ...\n",
        "(X_train_origin, Y_train_origin), (X_test_origin, Y_test_origin) = cifar10.load_data()"
      ],
      "execution_count": 0,
      "outputs": []
    },
    {
      "metadata": {
        "trusted": true,
        "id": "K8aLWZn4gPiO",
        "colab_type": "code",
        "colab": {}
      },
      "cell_type": "code",
      "source": [
        "labels = ['avion', 'auto', 'oiseau','chat','cerf','chien','grenouille','cheval','navire','camion']"
      ],
      "execution_count": 0,
      "outputs": []
    },
    {
      "metadata": {
        "id": "7gN2CvC-gPiX",
        "colab_type": "text"
      },
      "cell_type": "markdown",
      "source": [
        "Chaque image est accompagnée d'un label qui indique sa nature (sa _classe_). L'objectif de la démarche est de construire un modèle qui va apprendre des données d'apprentissage (les images stockées dans la variable `X_train_origin` et les labels dans `Y_train_origin`). Ce modèle sera appliqué aux images de tests (`X_test`) pour _prédire_ leurs classes. Les prédictions seront ensuite comparées aux labels connus des images de test (`Y_test`) afin d'estimer la qualité du modèle."
      ]
    },
    {
      "metadata": {
        "trusted": true,
        "id": "9qFMJf-lgPic",
        "colab_type": "code",
        "colab": {
          "base_uri": "https://localhost:8080/",
          "height": 143
        },
        "outputId": "765c284c-78ba-43b9-e14b-aece66e24d78"
      },
      "cell_type": "code",
      "source": [
        "# On affiche la 30ième image et son label\n",
        "plt.rcParams[\"figure.figsize\"] = (1,1)\n",
        "\n",
        "index = 30\n",
        "plt.imshow(Image.fromarray(X_train_origin[index]),)\n",
        "#plt.imshow(toimage(X_train_origin[index]),)\n",
        "plt.figure(figsize=(32,32))\n",
        "plt.show()\n",
        "print(\"Label: \"+ str(Y_train_origin[index]) + \"-\" + str(labels[int(Y_train_origin[index])]))\n"
      ],
      "execution_count": 4,
      "outputs": [
        {
          "output_type": "display_data",
          "data": {
            "image/png": "[encoded data removed]",
            "text/plain": [
              "<matplotlib.figure.Figure at 0x7f8db71d0780>"
            ]
          },
          "metadata": {
            "tags": []
          }
        },
        {
          "output_type": "display_data",
          "data": {
            "text/plain": [
              "<matplotlib.figure.Figure at 0x7f8db71d0710>"
            ]
          },
          "metadata": {
            "tags": []
          }
        },
        {
          "output_type": "stream",
          "text": [
            "Label: [0]-avion\n"
          ],
          "name": "stdout"
        }
      ]
    },
    {
      "metadata": {
        "trusted": true,
        "id": "qMnDIagZgPiw",
        "colab_type": "code",
        "colab": {
          "base_uri": "https://localhost:8080/",
          "height": 124
        },
        "outputId": "023df4fa-dfee-426b-b7cc-f9e7dd4e4f83"
      },
      "cell_type": "code",
      "source": [
        "# On affiche la 32ième image et son label\n",
        "index = 32\n",
        "plt.imshow(Image.fromarray(X_train_origin[index]),)\n",
        "plt.show()\n",
        "print(\"Label: \"+ str(Y_train_origin[index]) + \"-\" + str(labels[int(Y_train_origin[index])]))\n"
      ],
      "execution_count": 5,
      "outputs": [
        {
          "output_type": "display_data",
          "data": {
            "image/png": "[encoded data removed]",
            "text/plain": [
              "<matplotlib.figure.Figure at 0x7f8da741be80>"
            ]
          },
          "metadata": {
            "tags": []
          }
        },
        {
          "output_type": "stream",
          "text": [
            "Label: [1]-auto\n"
          ],
          "name": "stdout"
        }
      ]
    },
    {
      "metadata": {
        "id": "yFILbb3qgPjH",
        "colab_type": "text"
      },
      "cell_type": "markdown",
      "source": [
        "#### Comprendre les données\n",
        "\n",
        "Quelle est la taille des variables `X_train`, `Y_train`, `X_test`, `Y_test` ?\n"
      ]
    },
    {
      "metadata": {
        "trusted": true,
        "id": "JDr6PZpRgPjK",
        "colab_type": "code",
        "colab": {
          "base_uri": "https://localhost:8080/",
          "height": 36
        },
        "outputId": "da0f61cd-9363-4eba-9085-bb78c51a67f0"
      },
      "cell_type": "code",
      "source": [
        "print(X_train_origin.shape)"
      ],
      "execution_count": 6,
      "outputs": [
        {
          "output_type": "stream",
          "text": [
            "(50000, 32, 32, 3)\n"
          ],
          "name": "stdout"
        }
      ]
    },
    {
      "metadata": {
        "trusted": true,
        "id": "_XksuZQ0gPjb",
        "colab_type": "code",
        "colab": {
          "base_uri": "https://localhost:8080/",
          "height": 36
        },
        "outputId": "538da7d2-13a5-4ba3-ef0f-62065e0d7a0e"
      },
      "cell_type": "code",
      "source": [
        "print(Y_train_origin.shape)"
      ],
      "execution_count": 7,
      "outputs": [
        {
          "output_type": "stream",
          "text": [
            "(50000, 1)\n"
          ],
          "name": "stdout"
        }
      ]
    },
    {
      "metadata": {
        "trusted": true,
        "id": "cnOrUo6hgPjl",
        "colab_type": "code",
        "colab": {
          "base_uri": "https://localhost:8080/",
          "height": 36
        },
        "outputId": "f818e268-29ef-449b-91b9-764e2da6469a"
      },
      "cell_type": "code",
      "source": [
        "print(X_test_origin.shape)"
      ],
      "execution_count": 8,
      "outputs": [
        {
          "output_type": "stream",
          "text": [
            "(10000, 32, 32, 3)\n"
          ],
          "name": "stdout"
        }
      ]
    },
    {
      "metadata": {
        "trusted": true,
        "id": "6ozp3UErgPjw",
        "colab_type": "code",
        "colab": {
          "base_uri": "https://localhost:8080/",
          "height": 36
        },
        "outputId": "a10c68bd-b2d5-4c1f-db74-bd0e9aba6e52"
      },
      "cell_type": "code",
      "source": [
        "print(Y_test_origin.shape)"
      ],
      "execution_count": 9,
      "outputs": [
        {
          "output_type": "stream",
          "text": [
            "(10000, 1)\n"
          ],
          "name": "stdout"
        }
      ]
    },
    {
      "metadata": {
        "id": "5RzZ_jthgPj9",
        "colab_type": "text"
      },
      "cell_type": "markdown",
      "source": [
        "Il y a 50000 images d'apprentissage et 10000 images de test.\n",
        "\n",
        "Les labels sont des vecteurs colonnes (des vecteurs). Le label de l'image n°i est `Y_train[i]`\n",
        "\n",
        "\n",
        "Chaque image est de taille (32, 32, 3). Il s'agit d'images 32*32 avec 3 niveaux de couleur (RVB)\n",
        "![image.png](https://raw.githubusercontent.com/rst-analytics/atelier-ml/master/Capture2.JPG) (source Deeplearning.ai, Andrew NG)\n",
        "\n",
        "\n",
        "Affichons d'ailleurs l'image n°30 pour s'en convaincre "
      ]
    },
    {
      "metadata": {
        "trusted": true,
        "id": "LJJXRlm8gPkB",
        "colab_type": "code",
        "colab": {
          "base_uri": "https://localhost:8080/",
          "height": 941
        },
        "outputId": "245c30cf-3f07-4f5c-d2c2-3c866c35e5f8"
      },
      "cell_type": "code",
      "source": [
        "print(X_train_origin[30])"
      ],
      "execution_count": 10,
      "outputs": [
        {
          "output_type": "stream",
          "text": [
            "[[[126 118 110]\n",
            "  [122 115 108]\n",
            "  [126 119 111]\n",
            "  ...\n",
            "  [124 118 106]\n",
            "  [120 114 102]\n",
            "  [117 111  99]]\n",
            "\n",
            " [[122 115 107]\n",
            "  [119 112 104]\n",
            "  [121 114 106]\n",
            "  ...\n",
            "  [124 118 106]\n",
            "  [122 116 104]\n",
            "  [117 111  99]]\n",
            "\n",
            " [[122 115 107]\n",
            "  [121 114 106]\n",
            "  [121 114 106]\n",
            "  ...\n",
            "  [126 120 108]\n",
            "  [123 117 105]\n",
            "  [121 115 103]]\n",
            "\n",
            " ...\n",
            "\n",
            " [[126 118 107]\n",
            "  [126 118 107]\n",
            "  [128 120 109]\n",
            "  ...\n",
            "  [133 125 114]\n",
            "  [122 114 103]\n",
            "  [114 106  95]]\n",
            "\n",
            " [[125 117 106]\n",
            "  [126 118 107]\n",
            "  [127 119 108]\n",
            "  ...\n",
            "  [128 120 109]\n",
            "  [121 113 102]\n",
            "  [114 106  95]]\n",
            "\n",
            " [[123 115 104]\n",
            "  [123 115 104]\n",
            "  [126 118 107]\n",
            "  ...\n",
            "  [128 119 109]\n",
            "  [126 118 107]\n",
            "  [121 113 102]]]\n"
          ],
          "name": "stdout"
        }
      ]
    },
    {
      "metadata": {
        "id": "zgVHHD8WgPkQ",
        "colab_type": "text"
      },
      "cell_type": "markdown",
      "source": [
        "#### Transformons nos images en vecteurs !\n",
        "\n",
        "L'idée est de transformer chaque image en un seul vecteur colonne, en concaténant les 3 matrices en une seule colonne\n",
        "![image.png](https://raw.githubusercontent.com/rst-analytics/atelier-ml/master/Capture4.JPG) (source Deeplearning.ai, Andrew NG)\n",
        "\n",
        "L'idée est de transformer notre matrice (50000, 32, 32, 3) en une matrice (50000, 32x32x3) c'est-à-dire en une matrice (50000, 3072)\n"
      ]
    },
    {
      "metadata": {
        "trusted": true,
        "id": "HcKuK2BngPkT",
        "colab_type": "code",
        "colab": {
          "base_uri": "https://localhost:8080/",
          "height": 55
        },
        "outputId": "7db60ce6-fce5-49e2-8d62-6135c93697f1"
      },
      "cell_type": "code",
      "source": [
        "m_train = X_train_origin.shape[0] #Nombre d'images d'apprentissage\n",
        "X_train = X_train_origin.reshape(m_train, -1)\n",
        "\n",
        "m_test = X_test_origin.shape[0] #Nombre d'images de test\n",
        "X_test = X_test_origin.reshape(m_test, -1)\n",
        "\n",
        "print(X_train.shape)\n",
        "print(X_test.shape)"
      ],
      "execution_count": 11,
      "outputs": [
        {
          "output_type": "stream",
          "text": [
            "(50000, 3072)\n",
            "(10000, 3072)\n"
          ],
          "name": "stdout"
        }
      ]
    },
    {
      "metadata": {
        "id": "Jhj79KGzgPlB",
        "colab_type": "text"
      },
      "cell_type": "markdown",
      "source": [
        "#### Normalisons les données\n",
        "\n",
        "Une traitement classique de _preprocessing_ des données en machine learning est de centrer et normaliser les données (on soustrait la moyenne et on divise par l'écart type). En traitement d'images, une autre technique efficace (plus simple et qui marche aussi bien) est de diviser l'ensemble des valeurs des pixels par 255 (la valeur maximale possible).\n",
        "\n",
        "https://stats.stackexchange.com/questions/211436/why-do-we-normalize-images-by-subtracting-the-datasets-image-mean-and-not-the-c\n",
        "\n",
        "\n",
        "![image.png](https://raw.githubusercontent.com/rst-analytics/atelier-ml/master/index.png) \n",
        "\n",
        "(Source : Hands-On Machine Learning with Scikit-Learn & TensorFlow, A. Guedon)"
      ]
    },
    {
      "metadata": {
        "trusted": true,
        "id": "BLI_0y3dgPlD",
        "colab_type": "code",
        "colab": {}
      },
      "cell_type": "code",
      "source": [
        "X_train = X_train/255\n",
        "X_test = X_test/255"
      ],
      "execution_count": 0,
      "outputs": []
    },
    {
      "metadata": {
        "id": "0ic9DaC0gPlS",
        "colab_type": "text"
      },
      "cell_type": "markdown",
      "source": [
        "### Transformons le vecteur de label en matrice\n",
        "\n",
        "L'idée est d'avoir 10 colonnes de labels par image (1 colonne pour chaque classe). C'est une astuce utile pour la suite. \n",
        "Ex : Si la classe de l'image n°i est la classe 7, on rempli la ligne i de la nouvelle matrice par des 0 sauf la colonne 6 qui contient 1. En effet, on commence à numéroter à 0 donc la 7ième colonne est la colonne n°6. "
      ]
    },
    {
      "metadata": {
        "trusted": true,
        "id": "NkVD1NHRgPlV",
        "colab_type": "code",
        "colab": {
          "base_uri": "https://localhost:8080/",
          "height": 36
        },
        "outputId": "0840d1fe-82f1-4357-d2a2-626d3f3001d3"
      },
      "cell_type": "code",
      "source": [
        "num_classes = 10\n",
        "Y_train = np_utils.to_categorical(Y_train_origin)\n",
        "Y_test = np_utils.to_categorical(Y_test_origin)\n",
        "Y_train.shape"
      ],
      "execution_count": 13,
      "outputs": [
        {
          "output_type": "execute_result",
          "data": {
            "text/plain": [
              "(50000, 10)"
            ]
          },
          "metadata": {
            "tags": []
          },
          "execution_count": 13
        }
      ]
    },
    {
      "metadata": {
        "trusted": true,
        "id": "p6gSs63_gPlh",
        "colab_type": "code",
        "colab": {
          "base_uri": "https://localhost:8080/",
          "height": 74
        },
        "outputId": "314ac3e3-f2aa-4cf5-fd43-7b28c32479c0"
      },
      "cell_type": "code",
      "source": [
        "print(Y_train_origin[56,]) #Label de l'image 56\n",
        "print(Y_train[56])\n",
        "print(str(labels[int(Y_train_origin[56])]))"
      ],
      "execution_count": 14,
      "outputs": [
        {
          "output_type": "stream",
          "text": [
            "[5]\n",
            "[0. 0. 0. 0. 0. 1. 0. 0. 0. 0.]\n",
            "chien\n"
          ],
          "name": "stdout"
        }
      ]
    },
    {
      "metadata": {
        "id": "qh9DIRd7gPlp",
        "colab_type": "text"
      },
      "cell_type": "markdown",
      "source": [
        "#### Reproduisons l'aléatoire\n",
        "\n",
        "L'algorithme va générer des valeurs initiales aléatoires pour les paramètres à estimer. La génération de nombres aléatoires n'est pas vraiment aléatoire sur un ordinateur ! Et il est important de pouvoir reproduire nos tests. Pour cela, on paramètre le seed qui est un chiffre qui permet d'initialiser le générateur de chiffres aléatoires ! Sur cette base, l'ordinateur générera des nombres aléatoires mais on pourra reproduire et retrouver ces chiffres par la suite (en théorie). On pourra regénérer en effet exactement les mêmes séquences de chiffres aléatoires."
      ]
    },
    {
      "metadata": {
        "trusted": true,
        "id": "QlVyGoCAgPlv",
        "colab_type": "code",
        "colab": {}
      },
      "cell_type": "code",
      "source": [
        "#Set seed\n",
        "seed = 112\n",
        "np.random.seed(seed)"
      ],
      "execution_count": 0,
      "outputs": []
    },
    {
      "metadata": {
        "id": "rvXm66wYgPl6",
        "colab_type": "text"
      },
      "cell_type": "markdown",
      "source": [
        "#### Premier réseau de neurone très simple (3 couches de 3 neurones)\n",
        "Pourquoi 3 couches de 3 neurones ? Et bein, pourquoi pas ! Il faut bien tester sur un premier modèle, non ?\n",
        "On pourrait faire 4 couches de respectivement 16, 32, 16 et 8 neurones. On peut faire ce qu'on veut !\n",
        "\n",
        "![image.png](https://raw.githubusercontent.com/rst-analytics/atelier-ml/master/nn33.jpg)"
      ]
    },
    {
      "metadata": {
        "trusted": true,
        "id": "161aN4uwgPl8",
        "colab_type": "code",
        "colab": {
          "base_uri": "https://localhost:8080/",
          "height": 470
        },
        "outputId": "898e5571-9310-4261-febf-b2b389abce0e"
      },
      "cell_type": "code",
      "source": [
        "model = Sequential()\n",
        "model.add(Dense(units=3, input_dim=3072))   #3072 = taille de l'image en entrée = 32*32*3\n",
        "model.add(Activation('relu')) # Fonction d'activation non linéaire\n",
        "model.add(Dense(units=3))\n",
        "model.add(Activation('relu'))\n",
        "model.add(Dense(units=3))\n",
        "model.add(Activation('relu'))\n",
        "model.add(Dense(units=num_classes)) #En sortie, 10 outputs, une sortie par classe possible \n",
        "model.add(Activation('softmax'))   \n",
        "\n",
        "#La fonction softmax revoie la probabilité que l'image en entrée soit de la classe i\n",
        "#(i allant de 0 à 9)\n",
        "\n",
        "model.compile(optimizer='adam', loss=keras.losses.categorical_crossentropy,metrics=['accuracy'])\n",
        "#Adam = Algorithme très efficace d'optimisation ! Pour plus de détails : https://arxiv.org/pdf/1412.6980   ;-)\n",
        "# On utilise la fonction de coût entropie croisée\n",
        "\n",
        "print(model.summary())\n",
        "\n",
        "#SVG(model_to_dot(model,show_shapes=True).create(prog='dot', format='svg'))"
      ],
      "execution_count": 16,
      "outputs": [
        {
          "output_type": "stream",
          "text": [
            "_________________________________________________________________\n",
            "Layer (type)                 Output Shape              Param #   \n",
            "=================================================================\n",
            "dense_1 (Dense)              (None, 3)                 9219      \n",
            "_________________________________________________________________\n",
            "activation_1 (Activation)    (None, 3)                 0         \n",
            "_________________________________________________________________\n",
            "dense_2 (Dense)              (None, 3)                 12        \n",
            "_________________________________________________________________\n",
            "activation_2 (Activation)    (None, 3)                 0         \n",
            "_________________________________________________________________\n",
            "dense_3 (Dense)              (None, 3)                 12        \n",
            "_________________________________________________________________\n",
            "activation_3 (Activation)    (None, 3)                 0         \n",
            "_________________________________________________________________\n",
            "dense_4 (Dense)              (None, 10)                40        \n",
            "_________________________________________________________________\n",
            "activation_4 (Activation)    (None, 10)                0         \n",
            "=================================================================\n",
            "Total params: 9,283\n",
            "Trainable params: 9,283\n",
            "Non-trainable params: 0\n",
            "_________________________________________________________________\n",
            "None\n"
          ],
          "name": "stdout"
        }
      ]
    },
    {
      "metadata": {
        "id": "R71JnT1jgPmX",
        "colab_type": "text"
      },
      "cell_type": "markdown",
      "source": [
        "Notez qu'il y a 9283 paramètres à résoudre pour le réseau de neurones.\n",
        "\n",
        "\n",
        "Lançons la phase d'apprentissage. Il s'agit d'un processus itératif : on lance 10 itérations. On pourrait lancer l'algorithme et l'arrêter lorsqu'il ne s'améliore plus. On choisit ici arbitrairement 10 époques.\n",
        "On calcule progressivement l'ensemble des éléments, à chaque époque, en prenant les données d'apprentissage par paquet (batch) de 32 photos."
      ]
    },
    {
      "metadata": {
        "trusted": true,
        "id": "9WvW8b9GgPmZ",
        "colab_type": "code",
        "colab": {
          "base_uri": "https://localhost:8080/",
          "height": 394
        },
        "outputId": "69d56676-6eb6-4db8-b857-9f375ece3932"
      },
      "cell_type": "code",
      "source": [
        "training = model.fit(X_train, Y_train, epochs=10, batch_size=32)"
      ],
      "execution_count": 17,
      "outputs": [
        {
          "output_type": "stream",
          "text": [
            "Epoch 1/10\n",
            "50000/50000 [==============================] - 5s 101us/step - loss: 2.1543 - acc: 0.1617\n",
            "Epoch 2/10\n",
            "50000/50000 [==============================] - 4s 79us/step - loss: 2.0727 - acc: 0.1849\n",
            "Epoch 3/10\n",
            "50000/50000 [==============================] - 4s 81us/step - loss: 2.0528 - acc: 0.1889\n",
            "Epoch 4/10\n",
            "50000/50000 [==============================] - 4s 83us/step - loss: 2.0436 - acc: 0.1933\n",
            "Epoch 5/10\n",
            "50000/50000 [==============================] - 4s 82us/step - loss: 2.0404 - acc: 0.1922\n",
            "Epoch 6/10\n",
            "50000/50000 [==============================] - 4s 82us/step - loss: 2.0365 - acc: 0.1936\n",
            "Epoch 7/10\n",
            "50000/50000 [==============================] - 4s 80us/step - loss: 2.0349 - acc: 0.1936\n",
            "Epoch 8/10\n",
            "50000/50000 [==============================] - 4s 80us/step - loss: 2.0340 - acc: 0.1948\n",
            "Epoch 9/10\n",
            "50000/50000 [==============================] - 4s 80us/step - loss: 2.0313 - acc: 0.1954\n",
            "Epoch 10/10\n",
            "50000/50000 [==============================] - 4s 80us/step - loss: 2.0314 - acc: 0.1945\n"
          ],
          "name": "stdout"
        }
      ]
    },
    {
      "metadata": {
        "id": "mY4gLm6dhjZt",
        "colab_type": "code",
        "colab": {}
      },
      "cell_type": "code",
      "source": [
        ""
      ],
      "execution_count": 0,
      "outputs": []
    },
    {
      "metadata": {
        "id": "CuhWIouEgPmr",
        "colab_type": "text"
      },
      "cell_type": "markdown",
      "source": [
        "pas terrible (mais c'est mieux que le hasard). Ca veut dire ici, que le modèle a permis de classifier correctement 20 % des données d'apprentissage (donc les données avec lesquelles il a appris). \n",
        "\n",
        "\n",
        "Regardons ce que donne le modèle sur les données de test, c'est-à-dire les données que le modèle n'a jamais vues :"
      ]
    },
    {
      "metadata": {
        "trusted": true,
        "id": "GSmNpsFZgPm3",
        "colab_type": "code",
        "colab": {
          "base_uri": "https://localhost:8080/",
          "height": 36
        },
        "outputId": "e741c382-db17-474d-9590-53c3a7373e4c"
      },
      "cell_type": "code",
      "source": [
        "scores = model.evaluate(X_test, Y_test, verbose=0)\n",
        "print(scores[1]*100)"
      ],
      "execution_count": 18,
      "outputs": [
        {
          "output_type": "stream",
          "text": [
            "19.08\n"
          ],
          "name": "stdout"
        }
      ]
    },
    {
      "metadata": {
        "id": "K2CUv6t4gPnd",
        "colab_type": "text"
      },
      "cell_type": "markdown",
      "source": [
        "Pareil; 20%; pas terrible !!"
      ]
    },
    {
      "metadata": {
        "id": "i0MU8zXTgPnm",
        "colab_type": "text"
      },
      "cell_type": "markdown",
      "source": [
        "####  Essayons sur un gros réseau de neurones (On fait du deep learning, après tout !!)\n",
        "\n",
        "Le deep learning, c'est la technique consistant à utiliser des gros réseaux de neurones. On va donc en utiliser un gros ; par exemple celui-ci."
      ]
    },
    {
      "metadata": {
        "trusted": true,
        "id": "1ORORsWagPoU",
        "colab_type": "code",
        "colab": {
          "base_uri": "https://localhost:8080/",
          "height": 696
        },
        "outputId": "b9580a11-e9cd-4960-942c-53461b45af74"
      },
      "cell_type": "code",
      "source": [
        "# Create the model\n",
        "model = Sequential()\n",
        "model.add(Dense(units=128, input_dim=3072))\n",
        "model.add(Activation('relu'))\n",
        "model.add(Dense(units=128))\n",
        "model.add(Activation('relu'))\n",
        "model.add(Dense(units=64))\n",
        "model.add(Activation('relu'))\n",
        "model.add(Dense(units=32))\n",
        "model.add(Activation('relu'))\n",
        "model.add(Dense(units=32))\n",
        "model.add(Activation('relu'))\n",
        "model.add(Dense(units=16))\n",
        "model.add(Activation('relu'))\n",
        "model.add(Dense(units=num_classes))\n",
        "model.add(Activation('softmax'))\n",
        "\n",
        "model.compile(optimizer='adam', loss=keras.losses.categorical_crossentropy,metrics=['accuracy'])\n",
        "print(model.summary())\n",
        "\n",
        "#SVG(model_to_dot(model,show_shapes=True).create(prog='dot', format='svg'))\n",
        "\n",
        "\n",
        "\n",
        "\n"
      ],
      "execution_count": 19,
      "outputs": [
        {
          "output_type": "stream",
          "text": [
            "_________________________________________________________________\n",
            "Layer (type)                 Output Shape              Param #   \n",
            "=================================================================\n",
            "dense_5 (Dense)              (None, 128)               393344    \n",
            "_________________________________________________________________\n",
            "activation_5 (Activation)    (None, 128)               0         \n",
            "_________________________________________________________________\n",
            "dense_6 (Dense)              (None, 128)               16512     \n",
            "_________________________________________________________________\n",
            "activation_6 (Activation)    (None, 128)               0         \n",
            "_________________________________________________________________\n",
            "dense_7 (Dense)              (None, 64)                8256      \n",
            "_________________________________________________________________\n",
            "activation_7 (Activation)    (None, 64)                0         \n",
            "_________________________________________________________________\n",
            "dense_8 (Dense)              (None, 32)                2080      \n",
            "_________________________________________________________________\n",
            "activation_8 (Activation)    (None, 32)                0         \n",
            "_________________________________________________________________\n",
            "dense_9 (Dense)              (None, 32)                1056      \n",
            "_________________________________________________________________\n",
            "activation_9 (Activation)    (None, 32)                0         \n",
            "_________________________________________________________________\n",
            "dense_10 (Dense)             (None, 16)                528       \n",
            "_________________________________________________________________\n",
            "activation_10 (Activation)   (None, 16)                0         \n",
            "_________________________________________________________________\n",
            "dense_11 (Dense)             (None, 10)                170       \n",
            "_________________________________________________________________\n",
            "activation_11 (Activation)   (None, 10)                0         \n",
            "=================================================================\n",
            "Total params: 421,946\n",
            "Trainable params: 421,946\n",
            "Non-trainable params: 0\n",
            "_________________________________________________________________\n",
            "None\n"
          ],
          "name": "stdout"
        }
      ]
    },
    {
      "metadata": {
        "id": "IprfszLogPok",
        "colab_type": "text"
      },
      "cell_type": "markdown",
      "source": [
        "On a un peu plus de paramètres à établir (422K) ... Essayons."
      ]
    },
    {
      "metadata": {
        "trusted": true,
        "id": "952bRDmAgPol",
        "colab_type": "code",
        "colab": {
          "base_uri": "https://localhost:8080/",
          "height": 413
        },
        "outputId": "fdba2a10-e23f-4e9e-f775-5ab4494cf0a9"
      },
      "cell_type": "code",
      "source": [
        "model.fit(X_train, Y_train, epochs=10, batch_size=32)"
      ],
      "execution_count": 21,
      "outputs": [
        {
          "output_type": "stream",
          "text": [
            "Epoch 1/10\n",
            "50000/50000 [==============================] - 23s 452us/step - loss: 1.4726 - acc: 0.4724\n",
            "Epoch 2/10\n",
            "50000/50000 [==============================] - 21s 427us/step - loss: 1.4510 - acc: 0.4790\n",
            "Epoch 3/10\n",
            "50000/50000 [==============================] - 21s 427us/step - loss: 1.4297 - acc: 0.4881\n",
            "Epoch 4/10\n",
            "50000/50000 [==============================] - 21s 418us/step - loss: 1.4133 - acc: 0.4936\n",
            "Epoch 5/10\n",
            "50000/50000 [==============================] - 22s 437us/step - loss: 1.3933 - acc: 0.4976\n",
            "Epoch 6/10\n",
            "50000/50000 [==============================] - 21s 424us/step - loss: 1.3779 - acc: 0.5054\n",
            "Epoch 7/10\n",
            "50000/50000 [==============================] - 21s 428us/step - loss: 1.3659 - acc: 0.5126\n",
            "Epoch 8/10\n",
            "50000/50000 [==============================] - 22s 448us/step - loss: 1.3509 - acc: 0.5144\n",
            "Epoch 9/10\n",
            "50000/50000 [==============================] - 24s 483us/step - loss: 1.3399 - acc: 0.5221\n",
            "Epoch 10/10\n",
            "50000/50000 [==============================] - 22s 447us/step - loss: 1.3265 - acc: 0.5289\n"
          ],
          "name": "stdout"
        },
        {
          "output_type": "execute_result",
          "data": {
            "text/plain": [
              "<keras.callbacks.History at 0x7f8da07de9e8>"
            ]
          },
          "metadata": {
            "tags": []
          },
          "execution_count": 21
        }
      ]
    },
    {
      "metadata": {
        "trusted": true,
        "id": "uCz1lnAngPoy",
        "colab_type": "code",
        "colab": {
          "base_uri": "https://localhost:8080/",
          "height": 36
        },
        "outputId": "79c0879c-0d33-4387-ba7e-d6c8732735f0"
      },
      "cell_type": "code",
      "source": [
        "scores = model.evaluate(X_test, Y_test, verbose=1)\n"
      ],
      "execution_count": 22,
      "outputs": [
        {
          "output_type": "stream",
          "text": [
            "10000/10000 [==============================] - 1s 84us/step\n"
          ],
          "name": "stdout"
        }
      ]
    },
    {
      "metadata": {
        "trusted": true,
        "id": "m6It4b4YgPo6",
        "colab_type": "code",
        "colab": {
          "base_uri": "https://localhost:8080/",
          "height": 36
        },
        "outputId": "89707123-03fb-4801-f578-a69e855540d0"
      },
      "cell_type": "code",
      "source": [
        "print(scores[1])\n"
      ],
      "execution_count": 23,
      "outputs": [
        {
          "output_type": "stream",
          "text": [
            "0.4962\n"
          ],
          "name": "stdout"
        }
      ]
    },
    {
      "metadata": {
        "id": "z-uNKMVhgPo_",
        "colab_type": "text"
      },
      "cell_type": "markdown",
      "source": [
        "*~ 50 %* de bonnes classifications !! en utilisant un réseau de neurones simple (mais très profond, merci la puissance de calcul de Google !!) et sans trop d'effort de paramétrage !\n",
        "\n",
        "La différence entre la classification sur les données d'apprentissage  et celle de test montre un sur-apprentissage à ce stade."
      ]
    },
    {
      "metadata": {
        "id": "gWlTW06cgPpB",
        "colab_type": "text"
      },
      "cell_type": "markdown",
      "source": [
        "#### Essayons d'analyser les mauvaises classifications !!"
      ]
    },
    {
      "metadata": {
        "trusted": true,
        "id": "f4zUXYw1gPpC",
        "colab_type": "code",
        "colab": {
          "base_uri": "https://localhost:8080/",
          "height": 3286
        },
        "outputId": "fcc2f07d-0017-4e41-db8a-e9947757169e"
      },
      "cell_type": "code",
      "source": [
        "y_pred_proba = model.predict(X_test)\n",
        "y_pred_bin=np.argmax(y_pred_proba,axis=-1)\n",
        "y_pred = np_utils.to_categorical(y_pred_bin)\n",
        "\n",
        "for i in range(0, 20):\n",
        "    print(y_pred_proba[i])\n",
        "    print(\"prediction : \" + str(labels[int(y_pred_bin[i])]))\n",
        "    print(\"label vrai : \" + str(labels[int(Y_test_origin[i])]))\n",
        "    plt.imshow(Image.fromarray(X_test_origin[i]),)\n",
        "    #plt.imshow(toimage(X_test_origin[i]),)\n",
        "    plt.show()\n",
        "    \n"
      ],
      "execution_count": 24,
      "outputs": [
        {
          "output_type": "stream",
          "text": [
            "[0.17175445 0.1651271  0.09583553 0.21750416 0.02493295 0.06902245\n",
            " 0.03396551 0.01295098 0.1199827  0.08892421]\n",
            "prediction : chat\n",
            "label vrai : chat\n"
          ],
          "name": "stdout"
        },
        {
          "output_type": "display_data",
          "data": {
            "image/png": "[encoded data removed]",
            "text/plain": [
              "<matplotlib.figure.Figure at 0x7f8da3f39fd0>"
            ]
          },
          "metadata": {
            "tags": []
          }
        },
        {
          "output_type": "stream",
          "text": [
            "[2.3245148e-02 2.8770855e-01 5.6349038e-04 1.1986853e-03 1.1802410e-03\n",
            " 2.5554554e-04 6.4496176e-05 6.0621288e-04 2.0016211e-01 4.8501545e-01]\n",
            "prediction : camion\n",
            "label vrai : navire\n"
          ],
          "name": "stdout"
        },
        {
          "output_type": "display_data",
          "data": {
            "image/png": "[encoded data removed]",
            "text/plain": [
              "<matplotlib.figure.Figure at 0x7f8da05dae10>"
            ]
          },
          "metadata": {
            "tags": []
          }
        },
        {
          "output_type": "stream",
          "text": [
            "[3.7169066e-01 1.7655373e-01 1.5546283e-02 6.3758651e-03 9.1876127e-03\n",
            " 2.6081651e-03 1.7777178e-04 1.4676490e-02 2.2206105e-01 1.8112238e-01]\n",
            "prediction : avion\n",
            "label vrai : navire\n"
          ],
          "name": "stdout"
        },
        {
          "output_type": "display_data",
          "data": {
            "image/png": "[encoded data removed]",
            "text/plain": [
              "<matplotlib.figure.Figure at 0x7f8da0636a58>"
            ]
          },
          "metadata": {
            "tags": []
          }
        },
        {
          "output_type": "stream",
          "text": [
            "[0.45343837 0.03141108 0.10857725 0.02855142 0.07435539 0.02351869\n",
            " 0.00201835 0.10254826 0.0895035  0.08607776]\n",
            "prediction : avion\n",
            "label vrai : avion\n"
          ],
          "name": "stdout"
        },
        {
          "output_type": "display_data",
          "data": {
            "image/png": "[encoded data removed]",
            "text/plain": [
              "<matplotlib.figure.Figure at 0x7f8da06080b8>"
            ]
          },
          "metadata": {
            "tags": []
          }
        },
        {
          "output_type": "stream",
          "text": [
            "[3.9224452e-04 1.5360047e-04 3.5874147e-02 5.6553711e-03 9.2608964e-01\n",
            " 4.8600133e-03 2.5471486e-02 1.3001624e-03 1.9378810e-04 9.4403313e-06]\n",
            "prediction : cerf\n",
            "label vrai : grenouille\n"
          ],
          "name": "stdout"
        },
        {
          "output_type": "display_data",
          "data": {
            "image/png": "[encoded data removed]",
            "text/plain": [
              "<matplotlib.figure.Figure at 0x7f8da16bafd0>"
            ]
          },
          "metadata": {
            "tags": []
          }
        },
        {
          "output_type": "stream",
          "text": [
            "[0.02608909 0.00778579 0.05204093 0.05143052 0.07881467 0.02580897\n",
            " 0.74558115 0.00630992 0.00269009 0.00344888]\n",
            "prediction : grenouille\n",
            "label vrai : grenouille\n"
          ],
          "name": "stdout"
        },
        {
          "output_type": "display_data",
          "data": {
            "image/png": "[encoded data removed]",
            "text/plain": [
              "<matplotlib.figure.Figure at 0x7f8da05767b8>"
            ]
          },
          "metadata": {
            "tags": []
          }
        },
        {
          "output_type": "stream",
          "text": [
            "[0.09204045 0.22049358 0.1327777  0.29995883 0.00215425 0.09328151\n",
            " 0.07083554 0.00812793 0.01884516 0.06148505]\n",
            "prediction : chat\n",
            "label vrai : auto\n"
          ],
          "name": "stdout"
        },
        {
          "output_type": "display_data",
          "data": {
            "image/png": "[encoded data removed]",
            "text/plain": [
              "<matplotlib.figure.Figure at 0x7f8da05406d8>"
            ]
          },
          "metadata": {
            "tags": []
          }
        },
        {
          "output_type": "stream",
          "text": [
            "[0.01365359 0.00798415 0.09823941 0.06600803 0.13046154 0.02509262\n",
            " 0.6439148  0.00658765 0.00564424 0.002414  ]\n",
            "prediction : grenouille\n",
            "label vrai : grenouille\n"
          ],
          "name": "stdout"
        },
        {
          "output_type": "display_data",
          "data": {
            "image/png": "[encoded data removed]",
            "text/plain": [
              "<matplotlib.figure.Figure at 0x7f8da05039e8>"
            ]
          },
          "metadata": {
            "tags": []
          }
        },
        {
          "output_type": "stream",
          "text": [
            "[0.0292956  0.00238818 0.5900733  0.06306333 0.14040259 0.09286986\n",
            " 0.01244859 0.05895232 0.0071178  0.00338847]\n",
            "prediction : oiseau\n",
            "label vrai : chat\n"
          ],
          "name": "stdout"
        },
        {
          "output_type": "display_data",
          "data": {
            "image/png": "[encoded data removed]",
            "text/plain": [
              "<matplotlib.figure.Figure at 0x7f8da04ce240>"
            ]
          },
          "metadata": {
            "tags": []
          }
        },
        {
          "output_type": "stream",
          "text": [
            "[4.6380614e-03 8.3996147e-01 2.7103284e-03 5.9165717e-03 6.1432645e-04\n",
            " 2.5680067e-03 2.4982900e-04 5.3649233e-04 9.8523945e-03 1.3295253e-01]\n",
            "prediction : auto\n",
            "label vrai : auto\n"
          ],
          "name": "stdout"
        },
        {
          "output_type": "display_data",
          "data": {
            "image/png": "[encoded data removed]",
            "text/plain": [
              "<matplotlib.figure.Figure at 0x7f8da0488400>"
            ]
          },
          "metadata": {
            "tags": []
          }
        },
        {
          "output_type": "stream",
          "text": [
            "[0.5195975  0.01737243 0.10046069 0.05304662 0.01439168 0.02466166\n",
            " 0.00630773 0.00993096 0.24721484 0.00701595]\n",
            "prediction : avion\n",
            "label vrai : avion\n"
          ],
          "name": "stdout"
        },
        {
          "output_type": "display_data",
          "data": {
            "image/png": "[encoded data removed]",
            "text/plain": [
              "<matplotlib.figure.Figure at 0x7f8da03d4780>"
            ]
          },
          "metadata": {
            "tags": []
          }
        },
        {
          "output_type": "stream",
          "text": [
            "[4.4388757e-03 2.2737981e-01 3.3838270e-04 4.7052489e-03 4.9056712e-04\n",
            " 7.2642794e-04 1.7413814e-04 2.7553877e-04 2.4285337e-02 7.3718566e-01]\n",
            "prediction : camion\n",
            "label vrai : camion\n"
          ],
          "name": "stdout"
        },
        {
          "output_type": "display_data",
          "data": {
            "image/png": "[encoded data removed]",
            "text/plain": [
              "<matplotlib.figure.Figure at 0x7f8da03a6dd8>"
            ]
          },
          "metadata": {
            "tags": []
          }
        },
        {
          "output_type": "stream",
          "text": [
            "[0.02953566 0.01893357 0.18878709 0.15156221 0.08392002 0.2735407\n",
            " 0.13732585 0.07344971 0.02220222 0.02074296]\n",
            "prediction : chien\n",
            "label vrai : chien\n"
          ],
          "name": "stdout"
        },
        {
          "output_type": "display_data",
          "data": {
            "image/png": "[encoded data removed]",
            "text/plain": [
              "<matplotlib.figure.Figure at 0x7f8da0488f28>"
            ]
          },
          "metadata": {
            "tags": []
          }
        },
        {
          "output_type": "stream",
          "text": [
            "[4.0641896e-02 2.0629764e-03 2.4503451e-03 1.6451952e-03 2.5566064e-03\n",
            " 6.5687769e-03 2.4038025e-04 9.3856472e-01 1.9978975e-04 5.0693732e-03]\n",
            "prediction : cheval\n",
            "label vrai : cheval\n"
          ],
          "name": "stdout"
        },
        {
          "output_type": "display_data",
          "data": {
            "image/png": "[encoded data removed]",
            "text/plain": [
              "<matplotlib.figure.Figure at 0x7f8da0328208>"
            ]
          },
          "metadata": {
            "tags": []
          }
        },
        {
          "output_type": "stream",
          "text": [
            "[0.1369988  0.60328716 0.06601945 0.03028032 0.00300374 0.00850527\n",
            " 0.03394205 0.00626387 0.01195923 0.09974007]\n",
            "prediction : auto\n",
            "label vrai : camion\n"
          ],
          "name": "stdout"
        },
        {
          "output_type": "display_data",
          "data": {
            "image/png": "[encoded data removed]",
            "text/plain": [
              "<matplotlib.figure.Figure at 0x7f8da02ebb38>"
            ]
          },
          "metadata": {
            "tags": []
          }
        },
        {
          "output_type": "stream",
          "text": [
            "[0.0394957  0.00864609 0.17077832 0.05292783 0.42858168 0.08764104\n",
            " 0.05027677 0.01064567 0.14882562 0.00218123]\n",
            "prediction : cerf\n",
            "label vrai : navire\n"
          ],
          "name": "stdout"
        },
        {
          "output_type": "display_data",
          "data": {
            "image/png": "[encoded data removed]",
            "text/plain": [
              "<matplotlib.figure.Figure at 0x7f8da02bd8d0>"
            ]
          },
          "metadata": {
            "tags": []
          }
        },
        {
          "output_type": "stream",
          "text": [
            "[0.00760153 0.0276562  0.0227858  0.19807345 0.00192399 0.50135994\n",
            " 0.00153244 0.19849038 0.01897531 0.02160089]\n",
            "prediction : chien\n",
            "label vrai : chien\n"
          ],
          "name": "stdout"
        },
        {
          "output_type": "display_data",
          "data": {
            "image/png": "[encoded data removed]",
            "text/plain": [
              "<matplotlib.figure.Figure at 0x7f8da02891d0>"
            ]
          },
          "metadata": {
            "tags": []
          }
        },
        {
          "output_type": "stream",
          "text": [
            "[0.06041257 0.02046824 0.0874415  0.08893406 0.3886846  0.0766338\n",
            " 0.06425963 0.1412075  0.01671271 0.05524534]\n",
            "prediction : cerf\n",
            "label vrai : cheval\n"
          ],
          "name": "stdout"
        },
        {
          "output_type": "display_data",
          "data": {
            "image/png": "[encoded data removed]",
            "text/plain": [
              "<matplotlib.figure.Figure at 0x7f8da024d4a8>"
            ]
          },
          "metadata": {
            "tags": []
          }
        },
        {
          "output_type": "stream",
          "text": [
            "[2.0282505e-02 1.5322264e-01 8.6473464e-04 2.4421613e-03 1.1422174e-03\n",
            " 1.3898981e-03 1.5304169e-04 6.7777262e-04 7.5525385e-01 6.4571276e-02]\n",
            "prediction : navire\n",
            "label vrai : navire\n"
          ],
          "name": "stdout"
        },
        {
          "output_type": "display_data",
          "data": {
            "image/png": "[encoded data removed]",
            "text/plain": [
              "<matplotlib.figure.Figure at 0x7f8da0195eb8>"
            ]
          },
          "metadata": {
            "tags": []
          }
        },
        {
          "output_type": "stream",
          "text": [
            "[6.5542078e-03 5.0078332e-03 2.3952609e-02 7.2825372e-02 7.1289837e-02\n",
            " 1.1777733e-01 6.4679265e-01 5.0020780e-02 4.8450634e-04 5.2948645e-03]\n",
            "prediction : grenouille\n",
            "label vrai : grenouille\n"
          ],
          "name": "stdout"
        },
        {
          "output_type": "display_data",
          "data": {
            "image/png": "[encoded data removed]",
            "text/plain": [
              "<matplotlib.figure.Figure at 0x7f8da01ca128>"
            ]
          },
          "metadata": {
            "tags": []
          }
        }
      ]
    },
    {
      "metadata": {
        "scrolled": true,
        "trusted": true,
        "id": "yIaCh9y6gPpJ",
        "colab_type": "code",
        "colab": {
          "base_uri": "https://localhost:8080/",
          "height": 206
        },
        "outputId": "8a33ab7b-2a00-41ec-b22b-bf6b1b1b692c"
      },
      "cell_type": "code",
      "source": [
        "#matrice de confusion\n",
        "\n",
        "conf = confusion_matrix(Y_test_origin,y_pred_bin)/1000*100\n",
        "print(conf)"
      ],
      "execution_count": 25,
      "outputs": [
        {
          "output_type": "stream",
          "text": [
            "[[55.9  6.3  5.8  2.9  3.2  0.7  3.1  4.6  9.6  7.9]\n",
            " [ 3.6 65.5  1.9  2.2  1.3  1.9  2.4  2.6  2.3 16.3]\n",
            " [ 7.4  2.7 40.8  5.7 13.2  7.3 12.6  7.7  1.3  1.3]\n",
            " [ 3.   2.8 13.2 28.1  7.  19.4 15.5  6.   2.1  2.9]\n",
            " [ 5.5  2.1 16.3  5.3 44.   3.8 12.   8.8  1.2  1. ]\n",
            " [ 1.6  2.  12.6 19.8  7.9 35.7 10.   6.8  2.   1.6]\n",
            " [ 1.2  1.1  9.3  5.3 15.1  5.  57.5  2.3  1.   2.2]\n",
            " [ 4.3  2.   5.6  5.6  9.1  7.   4.6 57.8  0.6  3.4]\n",
            " [12.4  9.6  1.8  2.8  3.3  1.8  1.7  2.8 54.3  9.5]\n",
            " [ 3.4 17.9  1.4  3.6  1.6  1.9  3.2  7.5  2.9 56.6]]\n"
          ],
          "name": "stdout"
        }
      ]
    },
    {
      "metadata": {
        "trusted": true,
        "id": "77bq6eAcgPpP",
        "colab_type": "code",
        "colab": {
          "base_uri": "https://localhost:8080/",
          "height": 593
        },
        "outputId": "75cb4499-1ba0-4984-ab62-95b400934421"
      },
      "cell_type": "code",
      "source": [
        "fig = plt.figure()\n",
        "fig, ax = plt.subplots(figsize=(10,10))\n",
        "cax = ax.matshow(conf)\n",
        "fig.colorbar(cax)\n",
        "\n",
        "ax.set_xlabel('Predicton')\n",
        "ax.set_ylabel('Vrai')\n",
        "\n",
        "yticks = [0,1,2,3,4,5,6,7,8,9]\n",
        "xticks = [0,1,2,3,4,5,6,7,8,9]\n",
        "ax.set_yticks(yticks)\n",
        "ax.set_xticks(yticks)\n",
        "ax.set_xticklabels(labels)\n",
        "ax.set_yticklabels(labels)\n",
        "\n",
        "plt.show()"
      ],
      "execution_count": 26,
      "outputs": [
        {
          "output_type": "display_data",
          "data": {
            "text/plain": [
              "<matplotlib.figure.Figure at 0x7f8da01276d8>"
            ]
          },
          "metadata": {
            "tags": []
          }
        },
        {
          "output_type": "display_data",
          "data": {
            "image/png": "[encoded data removed]",
            "text/plain": [
              "<matplotlib.figure.Figure at 0x7f8da0149fd0>"
            ]
          },
          "metadata": {
            "tags": []
          }
        }
      ]
    },
    {
      "metadata": {
        "id": "TbBM0jEqgPpc",
        "colab_type": "text"
      },
      "cell_type": "markdown",
      "source": [
        "#### Avec un réseau de neurone plus évolué : Un CNN (_Convolutional neural network_) "
      ]
    },
    {
      "metadata": {
        "collapsed": true,
        "id": "RHS-vcsmgPpp",
        "colab_type": "text"
      },
      "cell_type": "markdown",
      "source": [
        "Oui, car on est là 2 fois moins bon que les meilleurs qui atteignent les 98%. On va essayer un CNN : il s'agit d'utiliser des algorithmes dits de convolution qui sont des filtres chargés de mettre en évidence certaines caractéristiques des images puis des techniques de pooling pour réduire le nombre de paramètres à résoudre. \n",
        "\n",
        "![image.png](https://raw.githubusercontent.com/rst-analytics/atelier-ml/master/Capture5.JPG) \n",
        "\n",
        "(source Matlab - Introducing Deep Learning)\n",
        "\n",
        "Voir https://hackernoon.com/visualizing-parts-of-convolutional-neural-networks-using-keras-and-cats-5cc01b214e59\n"
      ]
    },
    {
      "metadata": {
        "id": "_hwkoQM4gPpu",
        "colab_type": "text"
      },
      "cell_type": "markdown",
      "source": [
        "#### Test avec un CNNS classique (modèles à 16 couches d'Oxford - VGG16)\n",
        "\n",
        "Ce modèle est célèbre pour avoir gagné le challenge ImageNet 2014 (classification de 1000 classes sur 14 millions d'images, 92,7% de précision).\n",
        "\n"
      ]
    },
    {
      "metadata": {
        "collapsed": true,
        "id": "F0AMIzupgPpv",
        "colab_type": "text"
      },
      "cell_type": "markdown",
      "source": [
        "##### Le modèle (avec des optimisations agressives : Régularisation L2 + dropout)\n",
        "\n",
        "\n"
      ]
    },
    {
      "metadata": {
        "collapsed": true,
        "id": "aGpI0724gPpx",
        "colab_type": "text"
      },
      "cell_type": "markdown",
      "source": [
        "A ce stade, il n'est pas nécessaire de discuter des techiques de régularisation ou de dropout. Ce sont des techniques d'optimisation permettant d'éviter ou de réduire l'_overfitting_ c'est-à-dire le sur-apprentissage : C'est ce qui apparaît lorsque le modèle est trop calqué sur les données d'apprentissage et est incapable de généraliser pour être efficace avec des données qu'il n'a jamais vu auparavant.  \n",
        "\n",
        "![VGG](https://blog.keras.io/img/imgclf/vgg16_original.png) (source https://blog.keras.io/building-powerful-image-classification-models-using-very-little-data.html)\n",
        "\n",
        "\n",
        "\n",
        "\n",
        "En savoir plus sur le modèle VGG16 (by VGG at Oxford under the Creative Commons Attribution License) :\n",
        "\n",
        "* l'article “Very Deep Convolutional Networks for Large-Scale Image Recognition” de  K. Simonyan and A. Zisserman (University of Oxford) : https://arxiv.org/pdf/1409.1556https://arxiv.org/pdf/1409.1556  \n",
        "* https://keras.io/applications/#vgg16\n",
        "\n",
        "\n",
        "\n"
      ]
    },
    {
      "metadata": {
        "id": "99nAQHbdgPpz",
        "colab_type": "text"
      },
      "cell_type": "markdown",
      "source": [
        "#### Implémentons le modèle"
      ]
    },
    {
      "metadata": {
        "trusted": true,
        "id": "4r7CozCpgPp0",
        "colab_type": "code",
        "colab": {
          "base_uri": "https://localhost:8080/",
          "height": 2432
        },
        "outputId": "eb37db2a-70d1-4363-b6ae-230f0686ebd0"
      },
      "cell_type": "code",
      "source": [
        "#Inspiré de https://github.com/geifmany/cifar-vgg/blob/master/cifar10vgg.py\n",
        "\n",
        "from keras import regularizers\n",
        "from keras.layers import BatchNormalization\n",
        "\n",
        "model = Sequential()\n",
        "weight_decay = 0.0005\n",
        "\n",
        "model.add(Conv2D(64, (3, 3), padding='same',\n",
        "                         input_shape=(32,32,3),kernel_regularizer=regularizers.l2(weight_decay)))\n",
        "model.add(Activation('relu'))\n",
        "model.add(BatchNormalization())\n",
        "model.add(Dropout(0.3))\n",
        "\n",
        "model.add(Conv2D(64, (3, 3), padding='same',kernel_regularizer=regularizers.l2(weight_decay)))\n",
        "model.add(Activation('relu'))\n",
        "model.add(BatchNormalization())\n",
        "\n",
        "model.add(MaxPooling2D(pool_size=(2, 2)))\n",
        "\n",
        "model.add(Conv2D(128, (3, 3), padding='same',kernel_regularizer=regularizers.l2(weight_decay)))\n",
        "model.add(Activation('relu'))\n",
        "model.add(BatchNormalization())\n",
        "model.add(Dropout(0.4))\n",
        "\n",
        "model.add(Conv2D(128, (3, 3), padding='same',kernel_regularizer=regularizers.l2(weight_decay)))\n",
        "model.add(Activation('relu'))\n",
        "model.add(BatchNormalization())\n",
        "\n",
        "model.add(MaxPooling2D(pool_size=(2, 2)))\n",
        "\n",
        "model.add(Conv2D(256, (3, 3), padding='same',kernel_regularizer=regularizers.l2(weight_decay)))\n",
        "model.add(Activation('relu'))\n",
        "model.add(BatchNormalization())\n",
        "model.add(Dropout(0.4))\n",
        "\n",
        "model.add(Conv2D(256, (3, 3), padding='same',kernel_regularizer=regularizers.l2(weight_decay)))\n",
        "model.add(Activation('relu'))\n",
        "model.add(BatchNormalization())\n",
        "model.add(Dropout(0.4))\n",
        "\n",
        "model.add(Conv2D(256, (3, 3), padding='same',kernel_regularizer=regularizers.l2(weight_decay)))\n",
        "model.add(Activation('relu'))\n",
        "model.add(BatchNormalization())\n",
        "\n",
        "model.add(MaxPooling2D(pool_size=(2, 2)))\n",
        "\n",
        "\n",
        "model.add(Conv2D(512, (3, 3), padding='same',kernel_regularizer=regularizers.l2(weight_decay)))\n",
        "model.add(Activation('relu'))\n",
        "model.add(BatchNormalization())\n",
        "model.add(Dropout(0.4))\n",
        "\n",
        "model.add(Conv2D(512, (3, 3), padding='same',kernel_regularizer=regularizers.l2(weight_decay)))\n",
        "model.add(Activation('relu'))\n",
        "model.add(BatchNormalization())\n",
        "model.add(Dropout(0.4))\n",
        "\n",
        "model.add(Conv2D(512, (3, 3), padding='same',kernel_regularizer=regularizers.l2(weight_decay)))\n",
        "model.add(Activation('relu'))\n",
        "model.add(BatchNormalization())\n",
        "\n",
        "model.add(MaxPooling2D(pool_size=(2, 2)))\n",
        "\n",
        "\n",
        "model.add(Conv2D(512, (3, 3), padding='same',kernel_regularizer=regularizers.l2(weight_decay)))\n",
        "model.add(Activation('relu'))\n",
        "model.add(BatchNormalization())\n",
        "model.add(Dropout(0.4))\n",
        "\n",
        "model.add(Conv2D(512, (3, 3), padding='same',kernel_regularizer=regularizers.l2(weight_decay)))\n",
        "model.add(Activation('relu'))\n",
        "model.add(BatchNormalization())\n",
        "model.add(Dropout(0.4))\n",
        "\n",
        "model.add(Conv2D(512, (3, 3), padding='same',kernel_regularizer=regularizers.l2(weight_decay)))\n",
        "model.add(Activation('relu'))\n",
        "model.add(BatchNormalization())\n",
        "\n",
        "model.add(MaxPooling2D(pool_size=(2, 2)))\n",
        "model.add(Dropout(0.5))\n",
        "\n",
        "model.add(Flatten())\n",
        "model.add(Dense(512,kernel_regularizer=regularizers.l2(weight_decay)))\n",
        "model.add(Activation('relu'))\n",
        "model.add(BatchNormalization())\n",
        "\n",
        "model.add(Dropout(0.5))\n",
        "model.add(Dense(num_classes))\n",
        "model.add(Activation('softmax'))\n",
        "\n",
        "print(model.summary())\n",
        "model.compile(optimizer='adam', loss=keras.losses.categorical_crossentropy,metrics=['accuracy'])\n",
        "\n",
        "\n"
      ],
      "execution_count": 27,
      "outputs": [
        {
          "output_type": "stream",
          "text": [
            "_________________________________________________________________\n",
            "Layer (type)                 Output Shape              Param #   \n",
            "=================================================================\n",
            "conv2d_1 (Conv2D)            (None, 32, 32, 64)        1792      \n",
            "_________________________________________________________________\n",
            "activation_12 (Activation)   (None, 32, 32, 64)        0         \n",
            "_________________________________________________________________\n",
            "batch_normalization_1 (Batch (None, 32, 32, 64)        256       \n",
            "_________________________________________________________________\n",
            "dropout_1 (Dropout)          (None, 32, 32, 64)        0         \n",
            "_________________________________________________________________\n",
            "conv2d_2 (Conv2D)            (None, 32, 32, 64)        36928     \n",
            "_________________________________________________________________\n",
            "activation_13 (Activation)   (None, 32, 32, 64)        0         \n",
            "_________________________________________________________________\n",
            "batch_normalization_2 (Batch (None, 32, 32, 64)        256       \n",
            "_________________________________________________________________\n",
            "max_pooling2d_1 (MaxPooling2 (None, 16, 16, 64)        0         \n",
            "_________________________________________________________________\n",
            "conv2d_3 (Conv2D)            (None, 16, 16, 128)       73856     \n",
            "_________________________________________________________________\n",
            "activation_14 (Activation)   (None, 16, 16, 128)       0         \n",
            "_________________________________________________________________\n",
            "batch_normalization_3 (Batch (None, 16, 16, 128)       512       \n",
            "_________________________________________________________________\n",
            "dropout_2 (Dropout)          (None, 16, 16, 128)       0         \n",
            "_________________________________________________________________\n",
            "conv2d_4 (Conv2D)            (None, 16, 16, 128)       147584    \n",
            "_________________________________________________________________\n",
            "activation_15 (Activation)   (None, 16, 16, 128)       0         \n",
            "_________________________________________________________________\n",
            "batch_normalization_4 (Batch (None, 16, 16, 128)       512       \n",
            "_________________________________________________________________\n",
            "max_pooling2d_2 (MaxPooling2 (None, 8, 8, 128)         0         \n",
            "_________________________________________________________________\n",
            "conv2d_5 (Conv2D)            (None, 8, 8, 256)         295168    \n",
            "_________________________________________________________________\n",
            "activation_16 (Activation)   (None, 8, 8, 256)         0         \n",
            "_________________________________________________________________\n",
            "batch_normalization_5 (Batch (None, 8, 8, 256)         1024      \n",
            "_________________________________________________________________\n",
            "dropout_3 (Dropout)          (None, 8, 8, 256)         0         \n",
            "_________________________________________________________________\n",
            "conv2d_6 (Conv2D)            (None, 8, 8, 256)         590080    \n",
            "_________________________________________________________________\n",
            "activation_17 (Activation)   (None, 8, 8, 256)         0         \n",
            "_________________________________________________________________\n",
            "batch_normalization_6 (Batch (None, 8, 8, 256)         1024      \n",
            "_________________________________________________________________\n",
            "dropout_4 (Dropout)          (None, 8, 8, 256)         0         \n",
            "_________________________________________________________________\n",
            "conv2d_7 (Conv2D)            (None, 8, 8, 256)         590080    \n",
            "_________________________________________________________________\n",
            "activation_18 (Activation)   (None, 8, 8, 256)         0         \n",
            "_________________________________________________________________\n",
            "batch_normalization_7 (Batch (None, 8, 8, 256)         1024      \n",
            "_________________________________________________________________\n",
            "max_pooling2d_3 (MaxPooling2 (None, 4, 4, 256)         0         \n",
            "_________________________________________________________________\n",
            "conv2d_8 (Conv2D)            (None, 4, 4, 512)         1180160   \n",
            "_________________________________________________________________\n",
            "activation_19 (Activation)   (None, 4, 4, 512)         0         \n",
            "_________________________________________________________________\n",
            "batch_normalization_8 (Batch (None, 4, 4, 512)         2048      \n",
            "_________________________________________________________________\n",
            "dropout_5 (Dropout)          (None, 4, 4, 512)         0         \n",
            "_________________________________________________________________\n",
            "conv2d_9 (Conv2D)            (None, 4, 4, 512)         2359808   \n",
            "_________________________________________________________________\n",
            "activation_20 (Activation)   (None, 4, 4, 512)         0         \n",
            "_________________________________________________________________\n",
            "batch_normalization_9 (Batch (None, 4, 4, 512)         2048      \n",
            "_________________________________________________________________\n",
            "dropout_6 (Dropout)          (None, 4, 4, 512)         0         \n",
            "_________________________________________________________________\n",
            "conv2d_10 (Conv2D)           (None, 4, 4, 512)         2359808   \n",
            "_________________________________________________________________\n",
            "activation_21 (Activation)   (None, 4, 4, 512)         0         \n",
            "_________________________________________________________________\n",
            "batch_normalization_10 (Batc (None, 4, 4, 512)         2048      \n",
            "_________________________________________________________________\n",
            "max_pooling2d_4 (MaxPooling2 (None, 2, 2, 512)         0         \n",
            "_________________________________________________________________\n",
            "conv2d_11 (Conv2D)           (None, 2, 2, 512)         2359808   \n",
            "_________________________________________________________________\n",
            "activation_22 (Activation)   (None, 2, 2, 512)         0         \n",
            "_________________________________________________________________\n",
            "batch_normalization_11 (Batc (None, 2, 2, 512)         2048      \n",
            "_________________________________________________________________\n",
            "dropout_7 (Dropout)          (None, 2, 2, 512)         0         \n",
            "_________________________________________________________________\n",
            "conv2d_12 (Conv2D)           (None, 2, 2, 512)         2359808   \n",
            "_________________________________________________________________\n",
            "activation_23 (Activation)   (None, 2, 2, 512)         0         \n",
            "_________________________________________________________________\n",
            "batch_normalization_12 (Batc (None, 2, 2, 512)         2048      \n",
            "_________________________________________________________________\n",
            "dropout_8 (Dropout)          (None, 2, 2, 512)         0         \n",
            "_________________________________________________________________\n",
            "conv2d_13 (Conv2D)           (None, 2, 2, 512)         2359808   \n",
            "_________________________________________________________________\n",
            "activation_24 (Activation)   (None, 2, 2, 512)         0         \n",
            "_________________________________________________________________\n",
            "batch_normalization_13 (Batc (None, 2, 2, 512)         2048      \n",
            "_________________________________________________________________\n",
            "max_pooling2d_5 (MaxPooling2 (None, 1, 1, 512)         0         \n",
            "_________________________________________________________________\n",
            "dropout_9 (Dropout)          (None, 1, 1, 512)         0         \n",
            "_________________________________________________________________\n",
            "flatten_1 (Flatten)          (None, 512)               0         \n",
            "_________________________________________________________________\n",
            "dense_12 (Dense)             (None, 512)               262656    \n",
            "_________________________________________________________________\n",
            "activation_25 (Activation)   (None, 512)               0         \n",
            "_________________________________________________________________\n",
            "batch_normalization_14 (Batc (None, 512)               2048      \n",
            "_________________________________________________________________\n",
            "dropout_10 (Dropout)         (None, 512)               0         \n",
            "_________________________________________________________________\n",
            "dense_13 (Dense)             (None, 10)                5130      \n",
            "_________________________________________________________________\n",
            "activation_26 (Activation)   (None, 10)                0         \n",
            "=================================================================\n",
            "Total params: 15,001,418\n",
            "Trainable params: 14,991,946\n",
            "Non-trainable params: 9,472\n",
            "_________________________________________________________________\n",
            "None\n"
          ],
          "name": "stdout"
        }
      ]
    },
    {
      "metadata": {
        "trusted": true,
        "id": "C3Lk7igugPqR",
        "colab_type": "code",
        "colab": {}
      },
      "cell_type": "code",
      "source": [
        "X_train2 = X_train_origin/255\n",
        "X_test2 = X_test_origin/255\n"
      ],
      "execution_count": 0,
      "outputs": []
    },
    {
      "metadata": {
        "id": "qutv3CBagPqX",
        "colab_type": "text"
      },
      "cell_type": "markdown",
      "source": [
        "##### Utilisation d'un modèle pré-entrainé\n",
        "\n",
        "Le modèle ci-dessus a été pré-entrainé par mes soins (sur une dizaine d'époques). La phase d'apprentissage est en effet très longue, il est donc illusoire aboutir à un résultat concluant en quelques dizaines de minutes. Il convient de charger les \"poids\" calculés du modèle puis de le jouer sur les données de test."
      ]
    },
    {
      "metadata": {
        "id": "ScCxbml_5i5E",
        "colab_type": "code",
        "colab": {}
      },
      "cell_type": "code",
      "source": [
        "from google.colab import drive\n",
        "drive.mount('/content/gdrive')"
      ],
      "execution_count": 0,
      "outputs": []
    },
    {
      "metadata": {
        "trusted": true,
        "id": "X_P8ET2MgPqZ",
        "colab_type": "code",
        "colab": {}
      },
      "cell_type": "code",
      "source": [
        "model.load_weights(\"/content/gdrive/My Drive/docs/weight_vgg-11.h5\") \n",
        "\n"
      ],
      "execution_count": 0,
      "outputs": []
    },
    {
      "metadata": {
        "id": "f1EZykadzCb1",
        "colab_type": "code",
        "colab": {}
      },
      "cell_type": "code",
      "source": [
        ""
      ],
      "execution_count": 0,
      "outputs": []
    },
    {
      "metadata": {
        "trusted": true,
        "id": "pLVVJW0qgPqd",
        "colab_type": "code",
        "colab": {
          "base_uri": "https://localhost:8080/",
          "height": 55
        },
        "outputId": "b6346016-ada7-464a-b7a8-62fc3662dfbb"
      },
      "cell_type": "code",
      "source": [
        "scores = model.evaluate(X_test2, Y_test, verbose=1)\n",
        "print(scores)"
      ],
      "execution_count": 31,
      "outputs": [
        {
          "output_type": "stream",
          "text": [
            "10000/10000 [==============================] - 155s 15ms/step\n",
            "[1.5163598043441773, 0.8042]\n"
          ],
          "name": "stdout"
        }
      ]
    },
    {
      "metadata": {
        "trusted": true,
        "id": "JsBH4BJTgPqj",
        "colab_type": "code",
        "colab": {
          "base_uri": "https://localhost:8080/",
          "height": 225
        },
        "outputId": "06d7912b-3490-4466-83cb-d3807963b040"
      },
      "cell_type": "code",
      "source": [
        "y_pred = model.predict(X_test2, verbose=1)\n",
        "y_pred_bin=np.argmax(y_pred,axis=-1)\n",
        "confusion_matrix(Y_test_origin,y_pred_bin)"
      ],
      "execution_count": 32,
      "outputs": [
        {
          "output_type": "stream",
          "text": [
            "10000/10000 [==============================] - 146s 15ms/step\n"
          ],
          "name": "stdout"
        },
        {
          "output_type": "execute_result",
          "data": {
            "text/plain": [
              "array([[880,  26,  22,   5,  23,   0,  22,  16,   4,   2],\n",
              "       [  4, 970,   0,   0,   0,   1,   6,   2,   0,  17],\n",
              "       [ 53,   0, 622,  39, 113,  27, 105,  40,   0,   1],\n",
              "       [ 19,   9,  12, 702,  41,  48,  94,  65,   0,  10],\n",
              "       [  2,   0,   2,  31, 886,   3,  41,  35,   0,   0],\n",
              "       [  4,   4,   7, 211,  42, 611,  38,  81,   0,   2],\n",
              "       [  3,   2,   6,  30,   8,   5, 941,   5,   0,   0],\n",
              "       [  5,   1,   5,  11,  33,  10,   3, 930,   0,   2],\n",
              "       [138,  89,   2,   4,  26,   1,  46,   8, 647,  39],\n",
              "       [ 24,  85,   2,   2,   2,   1,  16,  14,   1, 853]])"
            ]
          },
          "metadata": {
            "tags": []
          },
          "execution_count": 32
        }
      ]
    },
    {
      "metadata": {
        "trusted": true,
        "id": "DzlXttffgPqm",
        "colab_type": "code",
        "colab": {
          "base_uri": "https://localhost:8080/",
          "height": 206
        },
        "outputId": "7c90a9fb-7cbe-4f72-db94-f5cfff9dc97b"
      },
      "cell_type": "code",
      "source": [
        "#matrice de confusion\n",
        "conf = confusion_matrix(Y_test_origin,y_pred_bin)/1000*100\n",
        "print(conf)"
      ],
      "execution_count": 33,
      "outputs": [
        {
          "output_type": "stream",
          "text": [
            "[[88.   2.6  2.2  0.5  2.3  0.   2.2  1.6  0.4  0.2]\n",
            " [ 0.4 97.   0.   0.   0.   0.1  0.6  0.2  0.   1.7]\n",
            " [ 5.3  0.  62.2  3.9 11.3  2.7 10.5  4.   0.   0.1]\n",
            " [ 1.9  0.9  1.2 70.2  4.1  4.8  9.4  6.5  0.   1. ]\n",
            " [ 0.2  0.   0.2  3.1 88.6  0.3  4.1  3.5  0.   0. ]\n",
            " [ 0.4  0.4  0.7 21.1  4.2 61.1  3.8  8.1  0.   0.2]\n",
            " [ 0.3  0.2  0.6  3.   0.8  0.5 94.1  0.5  0.   0. ]\n",
            " [ 0.5  0.1  0.5  1.1  3.3  1.   0.3 93.   0.   0.2]\n",
            " [13.8  8.9  0.2  0.4  2.6  0.1  4.6  0.8 64.7  3.9]\n",
            " [ 2.4  8.5  0.2  0.2  0.2  0.1  1.6  1.4  0.1 85.3]]\n"
          ],
          "name": "stdout"
        }
      ]
    },
    {
      "metadata": {
        "trusted": true,
        "id": "1aU2n4pIgPqq",
        "colab_type": "code",
        "colab": {
          "base_uri": "https://localhost:8080/",
          "height": 599
        },
        "outputId": "37fd95cc-b2e4-4ad4-d346-67ad4a8b7db6"
      },
      "cell_type": "code",
      "source": [
        "fig = plt.figure()\n",
        "fig, ax = plt.subplots(figsize=(10,10))\n",
        "cax = ax.matshow(conf)\n",
        "fig.colorbar(cax)\n",
        "\n",
        "ax.set_xlabel('Predicton')\n",
        "ax.set_ylabel('Vrai')\n",
        "\n",
        "yticks = [0,1,2,3,4,5,6,7,8,9]\n",
        "xticks = [0,1,2,3,4,5,6,7,8,9]\n",
        "ax.set_yticks(yticks)\n",
        "ax.set_xticks(yticks)\n",
        "ax.set_xticklabels(labels)\n",
        "ax.set_yticklabels(labels)\n",
        "\n",
        "plt.show()"
      ],
      "execution_count": 35,
      "outputs": [
        {
          "output_type": "display_data",
          "data": {
            "text/plain": [
              "<matplotlib.figure.Figure at 0x7f8d9ebb0160>"
            ]
          },
          "metadata": {
            "tags": []
          }
        },
        {
          "output_type": "display_data",
          "data": {
            "image/png": "[encoded data removed]",
            "text/plain": [
              "<matplotlib.figure.Figure at 0x7f8da0200dd8>"
            ]
          },
          "metadata": {
            "tags": []
          }
        }
      ]
    },
    {
      "metadata": {
        "id": "EE_Iq5oGgPqs",
        "colab_type": "text"
      },
      "cell_type": "markdown",
      "source": [
        "##### Aller plus loin et faire mieux\n",
        "\n",
        "Pour obtenir de meilleur résultats, il faudrait : \n",
        "\n",
        "* Entrainer les modèles sur plus d'époques\n",
        "* Avoir plus de données en entrée\n",
        "* Faire de la _data-augmentation_, c'est-à-dire générer des nouvelles images à partir des images existantes mais en modifiant les niveaux de zoom, en faisant quelques rotations ou des effets miroir etc. afin simuler de nouvelles images et d'aider le modèle à généraliser : En effet, si le modèle apprend à partir de données où tous les chats regardent vers la droite, pour lui, un chat qui regarde vers la gauche n'est pas un chat !! \n",
        "![image.png](https://blog.keras.io/img/imgclf/cat_data_augmentation.png) (source https://blog.keras.io/building-powerful-image-classification-models-using-very-little-data.html)\n",
        "\n"
      ]
    },
    {
      "metadata": {
        "id": "Wd0tSm25gPqu",
        "colab_type": "text"
      },
      "cell_type": "markdown",
      "source": [
        "### Ok, en réalité ce n'est pas aussi simple\n",
        "\n",
        "Il faut en effet en général passer du temps (beaucoup) pour : \n",
        "* Trouver les données\n",
        "* Explorer et nettoyer les données\n",
        "* Essayer différentes analyses, algorithmes, méthodes puis passer du temps à trouver les bons paramétrages\n",
        "* Présenter convenablement les résultats de manière compréhensible par les non datascientistes en donnant la bonne information utile (transformable en actions concrètes)"
      ]
    },
    {
      "metadata": {
        "id": "hfO5C8HXgPqu",
        "colab_type": "text"
      },
      "cell_type": "markdown",
      "source": [
        "### Pour aller plus loin\n",
        "\n",
        "\n",
        "* MOOC : L'excellente spécialisation Data Sciences de Johns Hopkins sur Coursera. https://fr.coursera.org/specializations/jhu-data-science. Une série de 10 MOOC pour apprendre les bases de R, (ré)apprendre quelques principes de bases de statistiques, de régression, de machines learning et pour réaliser quelques projets marrants \n",
        "* MOOC : La spécialisation Deep Learning sur Coursera https://fr.coursera.org/specializations/deep-learning . Une série de 5 MOOC géniaux avec Andrew NG, gourou international de l'IA, pour tout comprendre sur le Deep Learning ... et se familiariser avec Python\n",
        "* Et bien d'autres MOOC ou ressources en ligne\n",
        "* Un excellent livre (en français et en anglais) : \n",
        "\n",
        "![image.png](https://images-na.ssl-images-amazon.com/images/I/51%2BkYprYK1L._SX379_BO1,204,203,200_.jpg)\n",
        "\n",
        "\n",
        "##### Pour en savoir plus : \n",
        "\n",
        "* https://www.college-de-france.fr/media/yann-lecun/UPL7915574462521283497_lecun_20160204_college_de_france_lecon_inaugurale.pdf\n",
        "* https://www.college-de-france.fr/media/yann-lecun/UPL4485925235409209505_Intelligence_Artificielle______Y._LeCun.pdf\n",
        "* https://cvernade.wp.imt.fr/files/2015/01/Introduction.pdf\n",
        "* http://liris.cnrs.fr/christian.wolf/teaching/m2r/m2r-igi-machinelearning1.pdf"
      ]
    },
    {
      "metadata": {
        "collapsed": true,
        "id": "n5vLp4pZgPqw",
        "colab_type": "text"
      },
      "cell_type": "markdown",
      "source": [
        "\n"
      ]
    },
    {
      "metadata": {
        "trusted": true,
        "id": "BHjCFuQ2gPqx",
        "colab_type": "code",
        "colab": {}
      },
      "cell_type": "code",
      "source": [
        ""
      ],
      "execution_count": 0,
      "outputs": []
    }
  ]
}