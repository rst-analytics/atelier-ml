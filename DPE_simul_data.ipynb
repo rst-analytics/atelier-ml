{
  "nbformat": 4,
  "nbformat_minor": 0,
  "metadata": {
    "colab": {
      "name": "DPE-simul-data.ipynb",
      "version": "0.3.2",
      "provenance": [],
      "collapsed_sections": [],
      "include_colab_link": true
    },
    "kernelspec": {
      "name": "python3",
      "display_name": "Python 3"
    }
  },
  "cells": [
    {
      "cell_type": "markdown",
      "metadata": {
        "id": "view-in-github",
        "colab_type": "text"
      },
      "source": [
        "<a href=\"https://colab.research.google.com/github/rst-analytics/atelier-ml/blob/master/DPE_simul_data.ipynb\" target=\"_parent\"><img src=\"https://colab.research.google.com/assets/colab-badge.svg\" alt=\"Open In Colab\"/></a>"
      ]
    },
    {
      "metadata": {
        "id": "_l4FlqAK3zQB",
        "colab_type": "text"
      },
      "cell_type": "markdown",
      "source": [
        "# Machine learning sur les DPE (données simulées)"
      ]
    },
    {
      "metadata": {
        "id": "XFKAmhSrin3n",
        "colab_type": "text"
      },
      "cell_type": "markdown",
      "source": [
        "![Texte alternatif…](https://upload.wikimedia.org/wikipedia/commons/thumb/1/11/DPE_-_EPDB_francais.png/220px-DPE_-_EPDB_francais.png) avec ![Tscikit](http://scikit-learn.org/stable/_static/scikit-learn-logo-small.png)"
      ]
    },
    {
      "metadata": {
        "id": "wEiYdg263_RC",
        "colab_type": "text"
      },
      "cell_type": "markdown",
      "source": [
        "## Chargement des libs"
      ]
    },
    {
      "metadata": {
        "id": "UuXsfpLS3-O_",
        "colab_type": "code",
        "colab": {
          "base_uri": "https://localhost:8080/",
          "height": 130
        },
        "outputId": "19fb3e5d-95c8-4991-dd75-04b7fa57c3fc"
      },
      "cell_type": "code",
      "source": [
        "import pandas as pd\n",
        "import numpy as np\n",
        "\n",
        "import seaborn as sns\n",
        "import matplotlib.pyplot as plt\n",
        "\n",
        "\n",
        "import sklearn\n",
        "from sklearn.tree import DecisionTreeClassifier\n",
        "from sklearn.model_selection import train_test_split\n",
        "from sklearn import preprocessing\n",
        "from sklearn.preprocessing import StandardScaler\n",
        "\n",
        "!pip install graphviz \n",
        "! apt-get install graphviz\n",
        "import graphviz "
      ],
      "execution_count": 1,
      "outputs": [
        {
          "output_type": "stream",
          "text": [
            "Requirement already satisfied: graphviz in /usr/local/lib/python3.6/dist-packages (0.10.1)\n",
            "Reading package lists... Done\n",
            "Building dependency tree       \n",
            "Reading state information... Done\n",
            "graphviz is already the newest version (2.40.1-2).\n",
            "0 upgraded, 0 newly installed, 0 to remove and 3 not upgraded.\n"
          ],
          "name": "stdout"
        }
      ]
    },
    {
      "metadata": {
        "id": "9q5ASQiGVbBr",
        "colab_type": "text"
      },
      "cell_type": "markdown",
      "source": [
        "## Simulation des données DPE\n"
      ]
    },
    {
      "metadata": {
        "id": "MDHpW_xx2-Vs",
        "colab_type": "code",
        "colab": {}
      },
      "cell_type": "code",
      "source": [
        "def gen_dpe():\n",
        "  seed = 112\n",
        "\n",
        "  nb_dpe = 100000\n",
        "\n",
        "  conso_A = 25\n",
        "  conso_A_largeur = 25\n",
        "\n",
        "  conso_B = 70\n",
        "  conso_B_largeur = 20\n",
        "\n",
        "  conso_C = 120\n",
        "  conso_C_largeur = 30\n",
        "\n",
        "  conso_D = 190\n",
        "  conso_D_largeur = 40\n",
        "\n",
        "  conso_E = 280\n",
        "  conso_E_largeur = 50\n",
        "\n",
        "  conso_F = 390\n",
        "  conso_F_largeur = 60\n",
        "\n",
        "  conso_G = 451\n",
        "\n",
        "  np.random.seed(seed)\n",
        "  year1 = np.round(np.random.normal(1950, 5, 25000),0)\n",
        "  year2 = np.round(np.random.normal(1970, 10, 50000),0)\n",
        "  year3 = np.round(np.random.uniform(1980,2018, 25000),0)\n",
        "\n",
        "  annee_construction = np.concatenate((year1, year2, year3))\n",
        "  \n",
        "  nombre_niveau = np.random.uniform(1,6, nb_dpe)\n",
        "  type_energie_id = np.round(np.random.uniform(2,4, nb_dpe),0)\n",
        "  surface_habitable = np.round(np.random.normal(70, 15, nb_dpe),0)\n",
        "  hsp_moyenne = np.round(np.random.normal(3, 0.25, nb_dpe),1)\n",
        "  \n",
        "  type_batiment_id = np.ones(nb_dpe)\n",
        "  for i  in range(nb_dpe):\n",
        "    if nombre_niveau[i] > 2 :\n",
        "      type_batiment_id[i] = 2\n",
        "    \n",
        "  \n",
        "  consommation_energie = np.zeros(nb_dpe)\n",
        "  for i in range(nb_dpe):\n",
        "    if annee_construction[i] > 2016 :\n",
        "      consommation_energie[i] = conso_A + np.random.normal(0,conso_A_largeur/4)\n",
        "      continue\n",
        "    \n",
        "    if ((annee_construction[i] > 2014) & (type_energie_id[i] == 3)) : \n",
        "      consommation_energie[i] = conso_A + np.random.normal(0,conso_A_largeur/4)\n",
        "      continue\n",
        "    \n",
        "    if annee_construction[i] < 1950 :\n",
        "      consommation_energie[i] = conso_G + np.random.normal(0,20)\n",
        "      continue\n",
        "      \n",
        "    if annee_construction[i] > 2010 : \n",
        "      consommation_energie[i] = conso_B + np.random.normal(0,conso_B_largeur/2)\n",
        "      continue \n",
        "    \n",
        "    if ((annee_construction[i] > 2008) & (type_energie_id[i] == 3)) : \n",
        "      consommation_energie[i] = conso_B + np.random.normal(0,conso_B_largeur/2)\n",
        "      continue  \n",
        "    \n",
        "    if ((annee_construction[i] > 1990) & (type_energie_id[i] == 3) & (surface_habitable[i] < 70)) : \n",
        "      consommation_energie[i] = conso_C + np.random.normal(0,conso_C_largeur/2)\n",
        "      continue \n",
        "    \n",
        "    if annee_construction[i] > 2005 :\n",
        "      consommation_energie[i] = conso_C + np.random.normal(0,conso_C_largeur/2)\n",
        "      continue\n",
        " \n",
        "    if ((annee_construction[i] > 1975) & (hsp_moyenne[i] < 3)) : \n",
        "      consommation_energie[i] = conso_D + np.random.normal(0,conso_D_largeur/2)\n",
        "      continue\n",
        "             \n",
        "    if ((annee_construction[i] > 1970)) : \n",
        "      consommation_energie[i] = conso_E + np.random.normal(0,conso_E_largeur/2)\n",
        "      continue\n",
        "     \n",
        "           \n",
        "    if ((annee_construction[i] > 1950) & (type_batiment_id[i]<2) ) : \n",
        "      consommation_energie[i] = conso_E + np.random.normal(0,conso_E_largeur)\n",
        "      continue\n",
        "    \n",
        "    consommation_energie[i] = conso_F + np.random.normal(0,conso_F_largeur)\n",
        "\n",
        "    \n",
        "  classe_consommation_energie = np.empty(nb_dpe, dtype=str)\n",
        "\n",
        "  for i in range(nb_dpe):\n",
        "     if consommation_energie[i] < 50 :\n",
        "        classe_consommation_energie[i] = \"A\"\n",
        "        continue\n",
        "    \n",
        "     if consommation_energie[i] < 91 :\n",
        "        classe_consommation_energie[i] = \"B\"\n",
        "        continue\n",
        "    \n",
        "     if consommation_energie[i] < 151 :\n",
        "        classe_consommation_energie[i] = \"C\"\n",
        "        continue\n",
        "    \n",
        "     if consommation_energie[i] < 231 :\n",
        "        classe_consommation_energie[i] = \"D\"\n",
        "        continue\n",
        "\n",
        "     if consommation_energie[i] < 331 :\n",
        "        classe_consommation_energie[i] = \"E\"\n",
        "        continue\n",
        "    \n",
        "     if consommation_energie[i] < 451 :\n",
        "        classe_consommation_energie[i] = \"F\"\n",
        "        continue\n",
        "    \n",
        "     classe_consommation_energie[i] = \"G\"\n",
        "  \n",
        "  dpe_classes = pd.Series(classe_consommation_energie, name=\"classe_consommation_energie\")\n",
        "  \n",
        "  \n",
        "\n",
        "  dataset = np.column_stack((\n",
        "                          consommation_energie,annee_construction,\n",
        "                          nombre_niveau,type_energie_id,surface_habitable,\n",
        "                          hsp_moyenne,type_batiment_id\n",
        "                          ))\n",
        "\n",
        "\n",
        "  dpe_df = pd.DataFrame(dataset)\n",
        " \n",
        "\n",
        "  dpe_df = dpe_df.astype({0: int,\n",
        "                        1 : int, \n",
        "                        2 : int,\n",
        "                        3 : int,\n",
        "                        4 : int,\n",
        "                        5 : int,\n",
        "                        6 : int\n",
        "                       })\n",
        "\n",
        "   \n",
        "  \n",
        "  \n",
        "  dpe_df = pd.concat([dpe_df,dpe_classes], axis=1)\n",
        "\n",
        " \n",
        "\n",
        "  dpe_df = dpe_df.rename(index=str, columns={0: \"consommation_energie\",\n",
        "                                          1 : \"annee_construction\",\n",
        "                                          2 : \"nombre_niveau\",\n",
        "                                          3 : \"type_energie_id\",\n",
        "                                          4 : \"surface_habitable\",\n",
        "                                          5 : \"hsp_moyenne\",\n",
        "                                          6 : \"type_batiment_id\",\n",
        "                                          })\n",
        "\n",
        "  \n",
        "  \n",
        "  return dpe_df"
      ],
      "execution_count": 0,
      "outputs": []
    },
    {
      "metadata": {
        "id": "K8fym4gm4bqa",
        "colab_type": "text"
      },
      "cell_type": "markdown",
      "source": [
        "## Chargement et visualisation des DPE"
      ]
    },
    {
      "metadata": {
        "id": "iF-kHmCK5GmA",
        "colab_type": "code",
        "colab": {
          "base_uri": "https://localhost:8080/",
          "height": 262
        },
        "outputId": "730f0bce-077c-4b66-cfa6-89210c12a602"
      },
      "cell_type": "code",
      "source": [
        "dpe_df = gen_dpe()\n",
        "\n",
        "dpe_df.info()\n"
      ],
      "execution_count": 9,
      "outputs": [
        {
          "output_type": "stream",
          "text": [
            "<class 'pandas.core.frame.DataFrame'>\n",
            "Index: 100000 entries, 0 to 99999\n",
            "Data columns (total 8 columns):\n",
            "consommation_energie           100000 non-null int64\n",
            "annee_construction             100000 non-null int64\n",
            "nombre_niveau                  100000 non-null int64\n",
            "type_energie_id                100000 non-null int64\n",
            "surface_habitable              100000 non-null int64\n",
            "hsp_moyenne                    100000 non-null int64\n",
            "type_batiment_id               100000 non-null int64\n",
            "classe_consommation_energie    100000 non-null object\n",
            "dtypes: int64(7), object(1)\n",
            "memory usage: 6.9+ MB\n"
          ],
          "name": "stdout"
        }
      ]
    },
    {
      "metadata": {
        "id": "0ixutSGq63IS",
        "colab_type": "code",
        "colab": {
          "base_uri": "https://localhost:8080/",
          "height": 206
        },
        "outputId": "4890386d-0ecb-4dec-bd6c-5b96ebcfaa13"
      },
      "cell_type": "code",
      "source": [
        "dpe_df.head()"
      ],
      "execution_count": 4,
      "outputs": [
        {
          "output_type": "execute_result",
          "data": {
            "text/html": [
              "<div>\n",
              "<style scoped>\n",
              "    .dataframe tbody tr th:only-of-type {\n",
              "        vertical-align: middle;\n",
              "    }\n",
              "\n",
              "    .dataframe tbody tr th {\n",
              "        vertical-align: top;\n",
              "    }\n",
              "\n",
              "    .dataframe thead th {\n",
              "        text-align: right;\n",
              "    }\n",
              "</style>\n",
              "<table border=\"1\" class=\"dataframe\">\n",
              "  <thead>\n",
              "    <tr style=\"text-align: right;\">\n",
              "      <th></th>\n",
              "      <th>consommation_energie</th>\n",
              "      <th>annee_construction</th>\n",
              "      <th>nombre_niveau</th>\n",
              "      <th>type_energie_id</th>\n",
              "      <th>surface_habitable</th>\n",
              "      <th>hsp_moyenne</th>\n",
              "      <th>type_batiment_id</th>\n",
              "      <th>classe_consommation_energie</th>\n",
              "    </tr>\n",
              "  </thead>\n",
              "  <tbody>\n",
              "    <tr>\n",
              "      <th>0</th>\n",
              "      <td>476</td>\n",
              "      <td>1947</td>\n",
              "      <td>1</td>\n",
              "      <td>3</td>\n",
              "      <td>60</td>\n",
              "      <td>2</td>\n",
              "      <td>1</td>\n",
              "      <td>G</td>\n",
              "    </tr>\n",
              "    <tr>\n",
              "      <th>1</th>\n",
              "      <td>451</td>\n",
              "      <td>1933</td>\n",
              "      <td>2</td>\n",
              "      <td>3</td>\n",
              "      <td>70</td>\n",
              "      <td>2</td>\n",
              "      <td>2</td>\n",
              "      <td>G</td>\n",
              "    </tr>\n",
              "    <tr>\n",
              "      <th>2</th>\n",
              "      <td>451</td>\n",
              "      <td>1943</td>\n",
              "      <td>1</td>\n",
              "      <td>3</td>\n",
              "      <td>81</td>\n",
              "      <td>3</td>\n",
              "      <td>1</td>\n",
              "      <td>G</td>\n",
              "    </tr>\n",
              "    <tr>\n",
              "      <th>3</th>\n",
              "      <td>457</td>\n",
              "      <td>1942</td>\n",
              "      <td>4</td>\n",
              "      <td>2</td>\n",
              "      <td>66</td>\n",
              "      <td>2</td>\n",
              "      <td>2</td>\n",
              "      <td>G</td>\n",
              "    </tr>\n",
              "    <tr>\n",
              "      <th>4</th>\n",
              "      <td>429</td>\n",
              "      <td>1942</td>\n",
              "      <td>1</td>\n",
              "      <td>4</td>\n",
              "      <td>84</td>\n",
              "      <td>2</td>\n",
              "      <td>1</td>\n",
              "      <td>F</td>\n",
              "    </tr>\n",
              "  </tbody>\n",
              "</table>\n",
              "</div>"
            ],
            "text/plain": [
              "   consommation_energie  annee_construction  nombre_niveau  type_energie_id  \\\n",
              "0                   476                1947              1                3   \n",
              "1                   451                1933              2                3   \n",
              "2                   451                1943              1                3   \n",
              "3                   457                1942              4                2   \n",
              "4                   429                1942              1                4   \n",
              "\n",
              "   surface_habitable  hsp_moyenne  type_batiment_id  \\\n",
              "0                 60            2                 1   \n",
              "1                 70            2                 2   \n",
              "2                 81            3                 1   \n",
              "3                 66            2                 2   \n",
              "4                 84            2                 1   \n",
              "\n",
              "  classe_consommation_energie  \n",
              "0                           G  \n",
              "1                           G  \n",
              "2                           G  \n",
              "3                           G  \n",
              "4                           F  "
            ]
          },
          "metadata": {
            "tags": []
          },
          "execution_count": 4
        }
      ]
    },
    {
      "metadata": {
        "id": "R0w50jqB54Vy",
        "colab_type": "code",
        "colab": {
          "base_uri": "https://localhost:8080/",
          "height": 168
        },
        "outputId": "ff7d23ec-f7e7-42be-de23-a452ad1daeb0"
      },
      "cell_type": "code",
      "source": [
        "dpe_df[\"classe_consommation_energie\"].value_counts()"
      ],
      "execution_count": 5,
      "outputs": [
        {
          "output_type": "execute_result",
          "data": {
            "text/plain": [
              "E    31721\n",
              "F    28146\n",
              "G    15849\n",
              "D    13167\n",
              "C     5425\n",
              "B     3953\n",
              "A     1739\n",
              "Name: classe_consommation_energie, dtype: int64"
            ]
          },
          "metadata": {
            "tags": []
          },
          "execution_count": 5
        }
      ]
    },
    {
      "metadata": {
        "id": "BDUBB-qSyNxM",
        "colab_type": "code",
        "colab": {
          "base_uri": "https://localhost:8080/",
          "height": 211
        },
        "outputId": "e6c7b511-0102-4e84-a455-1d0fa166673a"
      },
      "cell_type": "code",
      "source": [
        "dpe_df.classe_consommation_energie.value_counts().plot.barh(color='k',figsize=[5,3])\n",
        "sns.despine()"
      ],
      "execution_count": 10,
      "outputs": [
        {
          "output_type": "display_data",
          "data": {
            "image/png": "[encoded data removed]",
            "text/plain": [
              "<matplotlib.figure.Figure at 0x7f5a94208978>"
            ]
          },
          "metadata": {
            "tags": []
          }
        }
      ]
    },
    {
      "metadata": {
        "id": "qJ-tvYuZ5688",
        "colab_type": "code",
        "colab": {
          "base_uri": "https://localhost:8080/",
          "height": 380
        },
        "outputId": "9bed0a92-1cee-48e2-97a2-847cd14f80e6"
      },
      "cell_type": "code",
      "source": [
        "dpe_surf = dpe_df[\"surface_habitable\"]\n",
        "dpe_surf = dpe_surf[(dpe_surf < 300)]\n",
        "sns.distplot(dpe_surf,kde=False,)"
      ],
      "execution_count": 12,
      "outputs": [
        {
          "output_type": "execute_result",
          "data": {
            "text/plain": [
              "<matplotlib.axes._subplots.AxesSubplot at 0x7f5a977eec18>"
            ]
          },
          "metadata": {
            "tags": []
          },
          "execution_count": 12
        },
        {
          "output_type": "display_data",
          "data": {
            "image/png": "[encoded data removed]",
            "text/plain": [
              "<matplotlib.figure.Figure at 0x7f5a977ad630>"
            ]
          },
          "metadata": {
            "tags": []
          }
        }
      ]
    },
    {
      "metadata": {
        "id": "oUGUnwIIBnwl",
        "colab_type": "code",
        "colab": {}
      },
      "cell_type": "code",
      "source": [
        "\n"
      ],
      "execution_count": 0,
      "outputs": []
    },
    {
      "metadata": {
        "id": "oxvSCEOQ6jU0",
        "colab_type": "text"
      },
      "cell_type": "markdown",
      "source": [
        "## Préparation des données pour le ML"
      ]
    },
    {
      "metadata": {
        "id": "uo0Fq3u-67IZ",
        "colab_type": "text"
      },
      "cell_type": "markdown",
      "source": [
        "#### Certaines colonnes sont des *catégories* et non des réels"
      ]
    },
    {
      "metadata": {
        "id": "cEKppnOJ6pib",
        "colab_type": "code",
        "colab": {
          "base_uri": "https://localhost:8080/",
          "height": 262
        },
        "outputId": "d5f0d0f2-f0f7-44e1-c1fe-2112005b94d9"
      },
      "cell_type": "code",
      "source": [
        "\n",
        "dpe_df[\"classe_consommation_energie\"] = dpe_df[\"classe_consommation_energie\"].astype('category')\n",
        "dpe_df[\"type_energie_id\"] = dpe_df[\"type_energie_id\"].astype('category')\n",
        "dpe_df[\"type_batiment_id\"] = dpe_df[\"type_batiment_id\"].astype('category')\n",
        "\n",
        "dpe_df.info()"
      ],
      "execution_count": 14,
      "outputs": [
        {
          "output_type": "stream",
          "text": [
            "<class 'pandas.core.frame.DataFrame'>\n",
            "Index: 100000 entries, 0 to 99999\n",
            "Data columns (total 8 columns):\n",
            "consommation_energie           100000 non-null int64\n",
            "annee_construction             100000 non-null int64\n",
            "nombre_niveau                  100000 non-null int64\n",
            "type_energie_id                100000 non-null category\n",
            "surface_habitable              100000 non-null int64\n",
            "hsp_moyenne                    100000 non-null int64\n",
            "type_batiment_id               100000 non-null category\n",
            "classe_consommation_energie    100000 non-null category\n",
            "dtypes: category(3), int64(5)\n",
            "memory usage: 7.4+ MB\n"
          ],
          "name": "stdout"
        }
      ]
    },
    {
      "metadata": {
        "id": "diR45jxQ7RJd",
        "colab_type": "text"
      },
      "cell_type": "markdown",
      "source": [
        "### On supprime les colonnes classes et conso (sinon c'est trop facile !!)"
      ]
    },
    {
      "metadata": {
        "id": "yNa_4H4d7QNs",
        "colab_type": "code",
        "colab": {}
      },
      "cell_type": "code",
      "source": [
        "target = dpe_df[\"classe_consommation_energie\"]\n",
        "data = dpe_df.copy()\n",
        "data = data.drop(columns=[\"classe_consommation_energie\"])\n",
        "data = data.drop(columns=[\"consommation_energie\"])"
      ],
      "execution_count": 0,
      "outputs": []
    },
    {
      "metadata": {
        "id": "wnlG8WyX7Ek3",
        "colab_type": "text"
      },
      "cell_type": "markdown",
      "source": [
        "### Astuces pour gérer les catégories (python est moins fort que R sur ce point) et les labels"
      ]
    },
    {
      "metadata": {
        "id": "u3j0zLDoCMwZ",
        "colab_type": "code",
        "colab": {}
      },
      "cell_type": "code",
      "source": [
        "X = pd.get_dummies(data)\n",
        "names = X.columns.values"
      ],
      "execution_count": 0,
      "outputs": []
    },
    {
      "metadata": {
        "id": "lJKNoIudCOvz",
        "colab_type": "code",
        "colab": {}
      },
      "cell_type": "code",
      "source": [
        "le = preprocessing.LabelEncoder()\n",
        "le.fit(target)\n",
        "y = le.transform(target)"
      ],
      "execution_count": 0,
      "outputs": []
    },
    {
      "metadata": {
        "id": "b56azL7_7h75",
        "colab_type": "text"
      },
      "cell_type": "markdown",
      "source": [
        "### Création de la base d'apprentissage (80% des données) et de la base de test (20 % des données)"
      ]
    },
    {
      "metadata": {
        "id": "rxyoMac5CRKN",
        "colab_type": "code",
        "colab": {}
      },
      "cell_type": "code",
      "source": [
        "X_train, X_test, y_train, y_test = train_test_split(X, y, test_size=0.2, random_state = 42) # seed à 42 ... pourquoi 42 ? eheheheh"
      ],
      "execution_count": 0,
      "outputs": []
    },
    {
      "metadata": {
        "id": "W6PkoLZf7ue5",
        "colab_type": "text"
      },
      "cell_type": "markdown",
      "source": [
        "#### Les dimensions pour s'en convaincre"
      ]
    },
    {
      "metadata": {
        "id": "vm_rmCG4CTo1",
        "colab_type": "code",
        "colab": {
          "base_uri": "https://localhost:8080/",
          "height": 111
        },
        "outputId": "a746c372-ac61-41a0-ab0c-6040c60a5221"
      },
      "cell_type": "code",
      "source": [
        "print(len(X_train))\n",
        "print(len(y_train))\n",
        "print(len(X_test))\n",
        "print(len(y_test))\n",
        "\n",
        "print(X_train.shape)"
      ],
      "execution_count": 19,
      "outputs": [
        {
          "output_type": "stream",
          "text": [
            "80000\n",
            "80000\n",
            "20000\n",
            "20000\n",
            "(80000, 9)\n"
          ],
          "name": "stdout"
        }
      ]
    },
    {
      "metadata": {
        "id": "Ph31guAx75iw",
        "colab_type": "text"
      },
      "cell_type": "markdown",
      "source": [
        "## Le machine learning (enfin !)\n"
      ]
    },
    {
      "metadata": {
        "id": "1Mi7L_Ft8FFi",
        "colab_type": "text"
      },
      "cell_type": "markdown",
      "source": [
        "### Exemple 1 : l'algo explicable : DecisionTreeClassifier\n"
      ]
    },
    {
      "metadata": {
        "id": "f_MfwYr1CWCy",
        "colab_type": "code",
        "colab": {}
      },
      "cell_type": "code",
      "source": [
        "clf = sklearn.tree.DecisionTreeClassifier(max_depth = 2)\n",
        "clf = clf.fit(X_train, y_train)"
      ],
      "execution_count": 0,
      "outputs": []
    },
    {
      "metadata": {
        "id": "WuZA5ncUCaFt",
        "colab_type": "code",
        "colab": {
          "base_uri": "https://localhost:8080/",
          "height": 55
        },
        "outputId": "85487f19-99f3-4a48-e089-ac61dbd0b2bf"
      },
      "cell_type": "code",
      "source": [
        "from sklearn.metrics import accuracy_score\n",
        "\n",
        "y_pred_train = clf.predict(X_train)\n",
        "print(accuracy_score(y_train,y_pred_train)*100)\n",
        "\n",
        "y_pred_test = clf.predict(X_test)\n",
        "print(accuracy_score(y_test,y_pred_test)*100)"
      ],
      "execution_count": 22,
      "outputs": [
        {
          "output_type": "stream",
          "text": [
            "63.7975\n",
            "63.94499999999999\n"
          ],
          "name": "stdout"
        }
      ]
    },
    {
      "metadata": {
        "id": "T94h9_a5CdHy",
        "colab_type": "code",
        "colab": {
          "base_uri": "https://localhost:8080/",
          "height": 459
        },
        "outputId": "77bb00aa-49af-4564-f9a4-cc95d4d19b59"
      },
      "cell_type": "code",
      "source": [
        "dot_data = sklearn.tree.export_graphviz(clf, out_file=None,   \n",
        "                         feature_names=names,  \n",
        "                         class_names=le.classes_,                 \n",
        "                         filled=True, rounded=True,  \n",
        "                         special_characters=True)  \n",
        "graph = graphviz.Source(dot_data)  \n",
        "graph "
      ],
      "execution_count": 23,
      "outputs": [
        {
          "output_type": "execute_result",
          "data": {
            "text/plain": [
              "<graphviz.files.Source at 0x7f5a97736710>"
            ],
            "image/svg+xml": "<?xml version=\"1.0\" encoding=\"UTF-8\" standalone=\"no\"?>\n<!DOCTYPE svg PUBLIC \"-//W3C//DTD SVG 1.1//EN\"\n \"http://www.w3.org/Graphics/SVG/1.1/DTD/svg11.dtd\">\n<!-- Generated by graphviz version 2.40.1 (20161225.0304)\n -->\n<!-- Title: Tree Pages: 1 -->\n<svg width=\"1239pt\" height=\"314pt\"\n viewBox=\"0.00 0.00 1238.50 314.00\" xmlns=\"http://www.w3.org/2000/svg\" xmlns:xlink=\"http://www.w3.org/1999/xlink\">\n<g id=\"graph0\" class=\"graph\" transform=\"scale(1 1) rotate(0) translate(4 310)\">\n<title>Tree</title>\n<polygon fill=\"#ffffff\" stroke=\"transparent\" points=\"-4,4 -4,-310 1234.5,-310 1234.5,4 -4,4\"/>\n<!-- 0 -->\n<g id=\"node1\" class=\"node\">\n<title>0</title>\n<path fill=\"#3956e5\" fill-opacity=\"0.082353\" stroke=\"#000000\" d=\"M768.5,-306C768.5,-306 416.5,-306 416.5,-306 410.5,-306 404.5,-300 404.5,-294 404.5,-294 404.5,-235 404.5,-235 404.5,-229 410.5,-223 416.5,-223 416.5,-223 768.5,-223 768.5,-223 774.5,-223 780.5,-229 780.5,-235 780.5,-235 780.5,-294 780.5,-294 780.5,-300 774.5,-306 768.5,-306\"/>\n<text text-anchor=\"start\" x=\"498\" y=\"-290.8\" font-family=\"Helvetica,sans-Serif\" font-size=\"14.00\" fill=\"#000000\">annee_construction ≤ 1970.5</text>\n<text text-anchor=\"start\" x=\"554.5\" y=\"-275.8\" font-family=\"Helvetica,sans-Serif\" font-size=\"14.00\" fill=\"#000000\">gini = 0.756</text>\n<text text-anchor=\"start\" x=\"536.5\" y=\"-260.8\" font-family=\"Helvetica,sans-Serif\" font-size=\"14.00\" fill=\"#000000\">samples = 80000</text>\n<text text-anchor=\"start\" x=\"412.5\" y=\"-245.8\" font-family=\"Helvetica,sans-Serif\" font-size=\"14.00\" fill=\"#000000\">value = [1412, 3155, 4297, 10823, 27981, 23430, 8902]</text>\n<text text-anchor=\"start\" x=\"562.5\" y=\"-230.8\" font-family=\"Helvetica,sans-Serif\" font-size=\"14.00\" fill=\"#000000\">class = E</text>\n</g>\n<!-- 1 -->\n<g id=\"node2\" class=\"node\">\n<title>1</title>\n<path fill=\"#b139e5\" fill-opacity=\"0.439216\" stroke=\"#000000\" d=\"M563,-187C563,-187 294,-187 294,-187 288,-187 282,-181 282,-175 282,-175 282,-116 282,-116 282,-110 288,-104 294,-104 294,-104 563,-104 563,-104 569,-104 575,-110 575,-116 575,-116 575,-175 575,-175 575,-181 569,-187 563,-187\"/>\n<text text-anchor=\"start\" x=\"347\" y=\"-171.8\" font-family=\"Helvetica,sans-Serif\" font-size=\"14.00\" fill=\"#000000\">type_batiment_id_2 ≤ 0.5</text>\n<text text-anchor=\"start\" x=\"390.5\" y=\"-156.8\" font-family=\"Helvetica,sans-Serif\" font-size=\"14.00\" fill=\"#000000\">gini = 0.598</text>\n<text text-anchor=\"start\" x=\"372.5\" y=\"-141.8\" font-family=\"Helvetica,sans-Serif\" font-size=\"14.00\" fill=\"#000000\">samples = 40878</text>\n<text text-anchor=\"start\" x=\"290\" y=\"-126.8\" font-family=\"Helvetica,sans-Serif\" font-size=\"14.00\" fill=\"#000000\">value = [0, 0, 24, 1033, 7927, 22992, 8902]</text>\n<text text-anchor=\"start\" x=\"399\" y=\"-111.8\" font-family=\"Helvetica,sans-Serif\" font-size=\"14.00\" fill=\"#000000\">class = F</text>\n</g>\n<!-- 0&#45;&gt;1 -->\n<g id=\"edge1\" class=\"edge\">\n<title>0&#45;&gt;1</title>\n<path fill=\"none\" stroke=\"#000000\" d=\"M535.1408,-222.8796C521.9075,-213.2774 507.7303,-202.9903 494.1736,-193.1534\"/>\n<polygon fill=\"#000000\" stroke=\"#000000\" points=\"495.9762,-190.1371 485.8269,-187.0969 491.8651,-195.8027 495.9762,-190.1371\"/>\n<text text-anchor=\"middle\" x=\"489.7528\" y=\"-208.0867\" font-family=\"Helvetica,sans-Serif\" font-size=\"14.00\" fill=\"#000000\">True</text>\n</g>\n<!-- 4 -->\n<g id=\"node5\" class=\"node\">\n<title>4</title>\n<path fill=\"#3956e5\" fill-opacity=\"0.349020\" stroke=\"#000000\" d=\"M907.5,-187C907.5,-187 605.5,-187 605.5,-187 599.5,-187 593.5,-181 593.5,-175 593.5,-175 593.5,-116 593.5,-116 593.5,-110 599.5,-104 605.5,-104 605.5,-104 907.5,-104 907.5,-104 913.5,-104 919.5,-110 919.5,-116 919.5,-116 919.5,-175 919.5,-175 919.5,-181 913.5,-187 907.5,-187\"/>\n<text text-anchor=\"start\" x=\"692\" y=\"-171.8\" font-family=\"Helvetica,sans-Serif\" font-size=\"14.00\" fill=\"#000000\">hsp_moyenne ≤ 2.5</text>\n<text text-anchor=\"start\" x=\"718.5\" y=\"-156.8\" font-family=\"Helvetica,sans-Serif\" font-size=\"14.00\" fill=\"#000000\">gini = 0.655</text>\n<text text-anchor=\"start\" x=\"700.5\" y=\"-141.8\" font-family=\"Helvetica,sans-Serif\" font-size=\"14.00\" fill=\"#000000\">samples = 39122</text>\n<text text-anchor=\"start\" x=\"601.5\" y=\"-126.8\" font-family=\"Helvetica,sans-Serif\" font-size=\"14.00\" fill=\"#000000\">value = [1412, 3155, 4273, 9790, 20054, 438, 0]</text>\n<text text-anchor=\"start\" x=\"726.5\" y=\"-111.8\" font-family=\"Helvetica,sans-Serif\" font-size=\"14.00\" fill=\"#000000\">class = E</text>\n</g>\n<!-- 0&#45;&gt;4 -->\n<g id=\"edge4\" class=\"edge\">\n<title>0&#45;&gt;4</title>\n<path fill=\"none\" stroke=\"#000000\" d=\"M649.8592,-222.8796C663.0925,-213.2774 677.2697,-202.9903 690.8264,-193.1534\"/>\n<polygon fill=\"#000000\" stroke=\"#000000\" points=\"693.1349,-195.8027 699.1731,-187.0969 689.0238,-190.1371 693.1349,-195.8027\"/>\n<text text-anchor=\"middle\" x=\"695.2472\" y=\"-208.0867\" font-family=\"Helvetica,sans-Serif\" font-size=\"14.00\" fill=\"#000000\">False</text>\n</g>\n<!-- 2 -->\n<g id=\"node3\" class=\"node\">\n<title>2</title>\n<path fill=\"#3956e5\" fill-opacity=\"0.309804\" stroke=\"#000000\" d=\"M265,-68C265,-68 12,-68 12,-68 6,-68 0,-62 0,-56 0,-56 0,-12 0,-12 0,-6 6,0 12,0 12,0 265,0 265,0 271,0 277,-6 277,-12 277,-12 277,-56 277,-56 277,-62 271,-68 265,-68\"/>\n<text text-anchor=\"start\" x=\"100.5\" y=\"-52.8\" font-family=\"Helvetica,sans-Serif\" font-size=\"14.00\" fill=\"#000000\">gini = 0.661</text>\n<text text-anchor=\"start\" x=\"86.5\" y=\"-37.8\" font-family=\"Helvetica,sans-Serif\" font-size=\"14.00\" fill=\"#000000\">samples = 8211</text>\n<text text-anchor=\"start\" x=\"8\" y=\"-22.8\" font-family=\"Helvetica,sans-Serif\" font-size=\"14.00\" fill=\"#000000\">value = [0, 0, 23, 925, 4025, 2137, 1101]</text>\n<text text-anchor=\"start\" x=\"108.5\" y=\"-7.8\" font-family=\"Helvetica,sans-Serif\" font-size=\"14.00\" fill=\"#000000\">class = E</text>\n</g>\n<!-- 1&#45;&gt;2 -->\n<g id=\"edge2\" class=\"edge\">\n<title>1&#45;&gt;2</title>\n<path fill=\"none\" stroke=\"#000000\" d=\"M320.5147,-103.9815C293.0006,-93.4028 263.5809,-82.0914 236.5913,-71.7144\"/>\n<polygon fill=\"#000000\" stroke=\"#000000\" points=\"237.7431,-68.4075 227.1532,-68.0856 235.231,-74.9413 237.7431,-68.4075\"/>\n</g>\n<!-- 3 -->\n<g id=\"node4\" class=\"node\">\n<title>3</title>\n<path fill=\"#b139e5\" fill-opacity=\"0.525490\" stroke=\"#000000\" d=\"M560,-68C560,-68 307,-68 307,-68 301,-68 295,-62 295,-56 295,-56 295,-12 295,-12 295,-6 301,0 307,0 307,0 560,0 560,0 566,0 572,-6 572,-12 572,-12 572,-56 572,-56 572,-62 566,-68 560,-68\"/>\n<text text-anchor=\"start\" x=\"395.5\" y=\"-52.8\" font-family=\"Helvetica,sans-Serif\" font-size=\"14.00\" fill=\"#000000\">gini = 0.521</text>\n<text text-anchor=\"start\" x=\"377.5\" y=\"-37.8\" font-family=\"Helvetica,sans-Serif\" font-size=\"14.00\" fill=\"#000000\">samples = 32667</text>\n<text text-anchor=\"start\" x=\"303\" y=\"-22.8\" font-family=\"Helvetica,sans-Serif\" font-size=\"14.00\" fill=\"#000000\">value = [0, 0, 1, 108, 3902, 20855, 7801]</text>\n<text text-anchor=\"start\" x=\"404\" y=\"-7.8\" font-family=\"Helvetica,sans-Serif\" font-size=\"14.00\" fill=\"#000000\">class = F</text>\n</g>\n<!-- 1&#45;&gt;3 -->\n<g id=\"edge3\" class=\"edge\">\n<title>1&#45;&gt;3</title>\n<path fill=\"none\" stroke=\"#000000\" d=\"M430.3618,-103.9815C430.7369,-95.618 431.1324,-86.7965 431.5116,-78.3409\"/>\n<polygon fill=\"#000000\" stroke=\"#000000\" points=\"435.0119,-78.4105 431.9635,-68.2637 428.019,-78.0968 435.0119,-78.4105\"/>\n</g>\n<!-- 5 -->\n<g id=\"node6\" class=\"node\">\n<title>5</title>\n<path fill=\"#39e5e2\" fill-opacity=\"0.462745\" stroke=\"#000000\" d=\"M890.5,-68C890.5,-68 612.5,-68 612.5,-68 606.5,-68 600.5,-62 600.5,-56 600.5,-56 600.5,-12 600.5,-12 600.5,-6 606.5,0 612.5,0 612.5,0 890.5,0 890.5,0 896.5,0 902.5,-6 902.5,-12 902.5,-12 902.5,-56 902.5,-56 902.5,-62 896.5,-68 890.5,-68\"/>\n<text text-anchor=\"start\" x=\"713.5\" y=\"-52.8\" font-family=\"Helvetica,sans-Serif\" font-size=\"14.00\" fill=\"#000000\">gini = 0.619</text>\n<text text-anchor=\"start\" x=\"695.5\" y=\"-37.8\" font-family=\"Helvetica,sans-Serif\" font-size=\"14.00\" fill=\"#000000\">samples = 16438</text>\n<text text-anchor=\"start\" x=\"608.5\" y=\"-22.8\" font-family=\"Helvetica,sans-Serif\" font-size=\"14.00\" fill=\"#000000\">value = [583, 1377, 1906, 9310, 3206, 56, 0]</text>\n<text text-anchor=\"start\" x=\"721\" y=\"-7.8\" font-family=\"Helvetica,sans-Serif\" font-size=\"14.00\" fill=\"#000000\">class = D</text>\n</g>\n<!-- 4&#45;&gt;5 -->\n<g id=\"edge5\" class=\"edge\">\n<title>4&#45;&gt;5</title>\n<path fill=\"none\" stroke=\"#000000\" d=\"M754.6382,-103.9815C754.2631,-95.618 753.8676,-86.7965 753.4884,-78.3409\"/>\n<polygon fill=\"#000000\" stroke=\"#000000\" points=\"756.981,-78.0968 753.0365,-68.2637 749.9881,-78.4105 756.981,-78.0968\"/>\n</g>\n<!-- 6 -->\n<g id=\"node7\" class=\"node\">\n<title>6</title>\n<path fill=\"#3956e5\" fill-opacity=\"0.713725\" stroke=\"#000000\" d=\"M1218.5,-68C1218.5,-68 932.5,-68 932.5,-68 926.5,-68 920.5,-62 920.5,-56 920.5,-56 920.5,-12 920.5,-12 920.5,-6 926.5,0 932.5,0 932.5,0 1218.5,0 1218.5,0 1224.5,0 1230.5,-6 1230.5,-12 1230.5,-12 1230.5,-56 1230.5,-56 1230.5,-62 1224.5,-68 1218.5,-68\"/>\n<text text-anchor=\"start\" x=\"1037.5\" y=\"-52.8\" font-family=\"Helvetica,sans-Serif\" font-size=\"14.00\" fill=\"#000000\">gini = 0.429</text>\n<text text-anchor=\"start\" x=\"1019.5\" y=\"-37.8\" font-family=\"Helvetica,sans-Serif\" font-size=\"14.00\" fill=\"#000000\">samples = 22684</text>\n<text text-anchor=\"start\" x=\"928.5\" y=\"-22.8\" font-family=\"Helvetica,sans-Serif\" font-size=\"14.00\" fill=\"#000000\">value = [829, 1778, 2367, 480, 16848, 382, 0]</text>\n<text text-anchor=\"start\" x=\"1045.5\" y=\"-7.8\" font-family=\"Helvetica,sans-Serif\" font-size=\"14.00\" fill=\"#000000\">class = E</text>\n</g>\n<!-- 4&#45;&gt;6 -->\n<g id=\"edge6\" class=\"edge\">\n<title>4&#45;&gt;6</title>\n<path fill=\"none\" stroke=\"#000000\" d=\"M875.2838,-103.9815C905.8137,-93.3104 938.4764,-81.8938 968.3768,-71.4427\"/>\n<polygon fill=\"#000000\" stroke=\"#000000\" points=\"969.6964,-74.6892 977.9815,-68.0856 967.3866,-68.0813 969.6964,-74.6892\"/>\n</g>\n</g>\n</svg>\n"
          },
          "metadata": {
            "tags": []
          },
          "execution_count": 23
        }
      ]
    },
    {
      "metadata": {
        "id": "K6BkwwPi8WBz",
        "colab_type": "text"
      },
      "cell_type": "markdown",
      "source": [
        "### Exemple 2 : Arbre très profond et sur-apprentissage"
      ]
    },
    {
      "metadata": {
        "id": "LxcYKmHw8fvP",
        "colab_type": "code",
        "colab": {
          "base_uri": "https://localhost:8080/",
          "height": 55
        },
        "outputId": "7af80a6b-8910-424e-c7dd-f789b3cb5fc6"
      },
      "cell_type": "code",
      "source": [
        "clf = sklearn.tree.DecisionTreeClassifier(max_depth = 100)\n",
        "clf = clf.fit(X_train, y_train)\n",
        "\n",
        "y_pred_train = clf.predict(X_train)\n",
        "print(accuracy_score(y_train,y_pred_train)*100)\n",
        "\n",
        "y_pred_test = clf.predict(X_test)\n",
        "print(accuracy_score(y_test,y_pred_test)*100)"
      ],
      "execution_count": 33,
      "outputs": [
        {
          "output_type": "stream",
          "text": [
            "91.54875\n",
            "70.975\n"
          ],
          "name": "stdout"
        }
      ]
    },
    {
      "metadata": {
        "id": "-CYVhQ738q3G",
        "colab_type": "code",
        "colab": {}
      },
      "cell_type": "code",
      "source": [
        ""
      ],
      "execution_count": 0,
      "outputs": []
    },
    {
      "metadata": {
        "id": "voLo-Xgk9C2j",
        "colab_type": "text"
      },
      "cell_type": "markdown",
      "source": [
        "## Exemple 3 : Forêts aléatoires et boîte noire"
      ]
    },
    {
      "metadata": {
        "id": "nlBKZCqMCf9M",
        "colab_type": "code",
        "colab": {
          "base_uri": "https://localhost:8080/",
          "height": 55
        },
        "outputId": "cc6cd306-e680-4a12-d13c-d9f1599c5a02"
      },
      "cell_type": "code",
      "source": [
        "from sklearn.ensemble import RandomForestClassifier\n",
        "\n",
        "clf_rf = RandomForestClassifier(n_estimators=200, max_depth=10)\n",
        "clf_rf = clf_rf.fit(X_train, y_train)\n",
        "\n",
        "y_pred_train = clf_rf.predict(X_train)\n",
        "print(accuracy_score(y_train,y_pred_train)*100)\n",
        "\n",
        "y_pred_test = clf_rf.predict(X_test)\n",
        "print(accuracy_score(y_test,y_pred_test)*100)"
      ],
      "execution_count": 32,
      "outputs": [
        {
          "output_type": "stream",
          "text": [
            "80.84625\n",
            "79.335\n"
          ],
          "name": "stdout"
        }
      ]
    },
    {
      "metadata": {
        "id": "tavYFzc2Csyt",
        "colab_type": "code",
        "colab": {}
      },
      "cell_type": "code",
      "source": [
        ""
      ],
      "execution_count": 0,
      "outputs": []
    }
  ]
}